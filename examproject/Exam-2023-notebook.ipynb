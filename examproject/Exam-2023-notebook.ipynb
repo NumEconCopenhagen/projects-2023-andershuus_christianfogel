{
 "cells": [
  {
   "attachments": {},
   "cell_type": "markdown",
   "metadata": {},
   "source": [
    "**Table of contents**<a id='toc0_'></a>    \n",
    "- 1. [Problem 1: Optimal taxation with government consumption](#toc1_)    \n",
    "- 2. [Problem 2: Labor adjustment costs](#toc2_)    \n",
    "- 3. [Problem 3: Global optimizer with refined multi-start](#toc3_)    \n",
    "\n",
    "<!-- vscode-jupyter-toc-config\n",
    "\tnumbering=true\n",
    "\tanchor=true\n",
    "\tflat=false\n",
    "\tminLevel=2\n",
    "\tmaxLevel=6\n",
    "\t/vscode-jupyter-toc-config -->\n",
    "<!-- THIS CELL WILL BE REPLACED ON TOC UPDATE. DO NOT WRITE YOUR TEXT IN THIS CELL -->"
   ]
  },
  {
   "cell_type": "code",
   "execution_count": 27,
   "metadata": {},
   "outputs": [],
   "source": [
    "# Importing relevant packages\n",
    "import sympy as sm\n",
    "import numpy as np\n",
    "import matplotlib.pyplot as plt\n",
    "plt.rcParams.update({\"axes.grid\":True,\"grid.color\":\"black\",\"grid.alpha\":\"0.25\",\"grid.linestyle\":\"-\"}) \n",
    "from scipy import optimize\n",
    "from types import SimpleNamespace"
   ]
  },
  {
   "attachments": {},
   "cell_type": "markdown",
   "metadata": {},
   "source": [
    "## 1. <a id='toc1_'></a>[Problem 1: Optimal taxation with government consumption](#toc0_)"
   ]
  },
  {
   "attachments": {},
   "cell_type": "markdown",
   "metadata": {},
   "source": [
    "\n",
    "Consider a worker choosing hours of labor, $L\\in[0,24]$, to maximize utility: \n",
    "\n",
    "$$\n",
    "\\begin{align*}\n",
    "V(w,\\tau,G)&=\\max_{L\\in[0,24]}\\ln\\left(C^{\\alpha}G^{1-\\alpha}\\right)-\\nu\\frac{L^{2}}{2}\\\\&\\text{s.t.}\\\\&C=\\kappa+(1-\\tau)wL\n",
    "\\end{align*}\n",
    "$$\n",
    "\n",
    "where \n",
    "\n",
    "* $C$ is *private* consumption with weight $\\alpha\\in(0,1)$.\n",
    "* $\\kappa > 0$ is the *free private* consumption component.\n",
    "* $C = (1-\\tau)wL$ is the *costly private* consumption component.\n",
    "* $w > 0 $ is the real wage.\n",
    "* $\\tau \\in (0,1)$ is the labor-income tax rate.\n",
    "* $G > 0 $ is *government* consumption with weight $1-\\alpha$.\n",
    "* $\\nu > 0$ is the disutility of labor scaling factor"
   ]
  },
  {
   "attachments": {},
   "cell_type": "markdown",
   "metadata": {},
   "source": [
    "\n",
    "The baseline parameters are:\n",
    "\n",
    "$$\n",
    "\\begin{align*}\n",
    "\\alpha &= 0.5\\\\\n",
    "\\kappa &= 1.0\\\\\n",
    "\\nu &= \\frac{1}{2\\cdot16^2} \\\\\n",
    "w &= 1.0 \\\\ \n",
    "\\tau &= 0.30 \\\\\n",
    "\\end{align*}\n",
    "$$"
   ]
  },
  {
   "attachments": {},
   "cell_type": "markdown",
   "metadata": {},
   "source": [
    "**Question 1:** Verify that the optimal labor supply choice is $L^{\\star}(\\tilde{w}) =\\frac{-\\kappa+\\sqrt{\\kappa^{2}+4\\frac{\\alpha}{\\nu}\\tilde{w}^2}}{2\\tilde{w}}$, where $\\tilde{w} = (1-\\tau)w$, for $G\\in\\left\\{1.0 , 2.0\\right\\}$."
   ]
  },
  {
   "attachments": {},
   "cell_type": "markdown",
   "metadata": {},
   "source": [
    "**1.1.1** We are defining the functions in symbolic math"
   ]
  },
  {
   "cell_type": "code",
   "execution_count": 3,
   "metadata": {},
   "outputs": [],
   "source": [
    "# Defining symbols\n",
    "C = sm.symbols('C') \n",
    "G = sm.symbols('G')\n",
    "L = sm.symbols('L')\n",
    "alpha = sm.symbols('alpha')\n",
    "kappa = sm.symbols('kappa')\n",
    "nu = sm.symbols('nu')\n",
    "w = sm.symbols('w')\n",
    "tau = sm.symbols('tau')\n",
    "#Using this to get a tilde over the w. \n",
    "sm.init_printing()\n",
    "wtilde= sm.symbols(\"wtilde \")\n",
    "\n",
    "# write out the consumer utility function\n",
    "utility = sm.log(C**alpha*G**(1-alpha))-nu*L**2/2\n",
    "\n",
    "#Budget constraint\n",
    "budget = sm.Eq(C, kappa+wtilde*L)\n"
   ]
  },
  {
   "attachments": {},
   "cell_type": "markdown",
   "metadata": {},
   "source": [
    "**1.1.2** Isolate and Substitute"
   ]
  },
  {
   "cell_type": "code",
   "execution_count": 4,
   "metadata": {},
   "outputs": [
    {
     "data": {
      "image/png": "[encoded data removed]",
      "text/latex": [
       "$\\displaystyle - \\frac{L^{2} \\nu}{2} + \\log{\\left(G^{1 - \\alpha} \\left(L \\tilde{w} + \\kappa\\right)^{\\alpha} \\right)}$"
      ],
      "text/plain": [
       "   2                           \n",
       "  L ⋅ν      ⎛ 1 - α          α⎞\n",
       "- ──── + log⎝G     ⋅(L⋅w̃ + κ) ⎠\n",
       "   2                           "
      ]
     },
     "execution_count": 4,
     "metadata": {},
     "output_type": "execute_result"
    }
   ],
   "source": [
    "#Isolate (necessary since sympy otherwise does not work)\n",
    "C_from_con = sm.solve(budget, C)\n",
    "C_from_con[0]\n",
    "\n",
    "#Substitute into utility function\n",
    "objective = utility.subs(C, C_from_con[0])\n",
    "objective\n"
   ]
  },
  {
   "attachments": {},
   "cell_type": "markdown",
   "metadata": {},
   "source": [
    "**1.1.3** Finding FOC wrt. L"
   ]
  },
  {
   "cell_type": "code",
   "execution_count": 5,
   "metadata": {},
   "outputs": [
    {
     "data": {
      "image/png": "[encoded data removed]",
      "text/latex": [
       "$\\displaystyle \\frac{G^{1 - \\alpha} G^{\\alpha - 1} \\alpha \\tilde{w}}{L \\tilde{w} + \\kappa} - L \\nu = 0$"
      ],
      "text/plain": [
       " 1 - α  α - 1              \n",
       "G     ⋅G     ⋅α⋅w̃          \n",
       "───────────────── - L⋅ν = 0\n",
       "     L⋅w̃ + κ              "
      ]
     },
     "execution_count": 5,
     "metadata": {},
     "output_type": "execute_result"
    }
   ],
   "source": [
    "#Finding the FOC\n",
    "foc = sm.Eq(sm.diff(objective, L),0)\n",
    "foc"
   ]
  },
  {
   "attachments": {},
   "cell_type": "markdown",
   "metadata": {},
   "source": [
    "**1.1.4** Solving for L in the equation"
   ]
  },
  {
   "cell_type": "code",
   "execution_count": 6,
   "metadata": {},
   "outputs": [
    {
     "data": {
      "image/png": "[encoded data removed]",
      "text/latex": [
       "$\\displaystyle \\left[ \\frac{- \\kappa \\nu - \\sqrt{\\nu \\left(4 \\alpha \\tilde{w}^{2} + \\kappa^{2} \\nu\\right)}}{2 \\nu \\tilde{w}}, \\  \\frac{- \\kappa \\nu + \\sqrt{\\nu \\left(4 \\alpha \\tilde{w}^{2} + \\kappa^{2} \\nu\\right)}}{2 \\nu \\tilde{w}}\\right]$"
      ],
      "text/plain": [
       "⎡          ___________________            ___________________⎤\n",
       "⎢         ╱   ⎛     2    2  ⎞            ╱   ⎛     2    2  ⎞ ⎥\n",
       "⎢-κ⋅ν - ╲╱  ν⋅⎝4⋅α⋅w̃  + κ ⋅ν⎠  -κ⋅ν + ╲╱  ν⋅⎝4⋅α⋅w̃  + κ ⋅ν⎠⎥\n",
       "⎢─────────────────────────────, ─────────────────────────────⎥\n",
       "⎣            2⋅ν⋅w̃                         2⋅ν⋅w̃           ⎦"
      ]
     },
     "execution_count": 6,
     "metadata": {},
     "output_type": "execute_result"
    }
   ],
   "source": [
    "L_star = sm.solve(foc, L)\n",
    "L_star"
   ]
  },
  {
   "attachments": {},
   "cell_type": "markdown",
   "metadata": {},
   "source": [
    "We note that $L^{\\star}$ cannot be negative, so only the second solution holds. That is:"
   ]
  },
  {
   "cell_type": "code",
   "execution_count": 7,
   "metadata": {},
   "outputs": [
    {
     "data": {
      "image/png": "[encoded data removed]",
      "text/latex": [
       "$\\displaystyle \\frac{- \\kappa \\nu + \\sqrt{\\nu \\left(4 \\alpha \\tilde{w}^{2} + \\kappa^{2} \\nu\\right)}}{2 \\nu \\tilde{w}}$"
      ],
      "text/plain": [
       "          ___________________\n",
       "         ╱   ⎛     2    2  ⎞ \n",
       "-κ⋅ν + ╲╱  ν⋅⎝4⋅α⋅w̃  + κ ⋅ν⎠\n",
       "─────────────────────────────\n",
       "            2⋅ν⋅w̃           "
      ]
     },
     "execution_count": 7,
     "metadata": {},
     "output_type": "execute_result"
    }
   ],
   "source": [
    "L_star[1]"
   ]
  },
  {
   "attachments": {},
   "cell_type": "markdown",
   "metadata": {},
   "source": [
    "We have shown the result now. $\\nu$ can be simplified away (The square root can be rewritten, so we have $\\nu^2$ and then we have a $\\nu$ in all terms, and hereby it can be removed), and we get the following expression for the optimal labor supply:\n",
    "\n",
    "$L^{\\star}(\\tilde{w}) =\\frac{-\\kappa+\\sqrt{\\kappa^{2}+4\\frac{\\alpha}{\\nu}\\tilde{w}^2}}{2\\tilde{w}}$\n",
    "\n",
    "G is not important since we are taking the log. Hereby it will not influence in this case, as it is not dependent on $\\tau$. However, this will of course change in exercise 1.3. "
   ]
  },
  {
   "attachments": {},
   "cell_type": "markdown",
   "metadata": {},
   "source": [
    "**Question 2:** Illustrate how $L^{\\star}(\\tilde{w})$ depends on $w$."
   ]
  },
  {
   "attachments": {},
   "cell_type": "markdown",
   "metadata": {},
   "source": [
    "**1.2.1** Substitute w into the expression for $L^*$"
   ]
  },
  {
   "cell_type": "code",
   "execution_count": 8,
   "metadata": {},
   "outputs": [
    {
     "data": {
      "image/png": "[encoded data removed]",
      "text/latex": [
       "$\\displaystyle \\frac{- \\kappa \\nu + \\sqrt{\\nu \\left(4 \\alpha w^{2} \\left(1 - \\tau\\right)^{2} + \\kappa^{2} \\nu\\right)}}{2 \\nu w \\left(1 - \\tau\\right)}$"
      ],
      "text/plain": [
       "          ____________________________\n",
       "         ╱   ⎛     2        2    2  ⎞ \n",
       "-κ⋅ν + ╲╱  ν⋅⎝4⋅α⋅w ⋅(1 - τ)  + κ ⋅ν⎠ \n",
       "──────────────────────────────────────\n",
       "            2⋅ν⋅w⋅(1 - τ)             "
      ]
     },
     "execution_count": 8,
     "metadata": {},
     "output_type": "execute_result"
    }
   ],
   "source": [
    "# Defining wtilde\n",
    "wtilde_func=sm.Eq(wtilde,(1-tau)*w)\n",
    "wtilde_from_con = sm.solve(wtilde_func, wtilde)\n",
    "wtilde_from_con [0]\n",
    "\n",
    "#Substitute into L_star\n",
    "L_star_w = L_star[1].subs(wtilde, wtilde_from_con[0])\n",
    "L_star_w"
   ]
  },
  {
   "attachments": {},
   "cell_type": "markdown",
   "metadata": {},
   "source": [
    "**1.2.2** Lambdify the function"
   ]
  },
  {
   "cell_type": "code",
   "execution_count": 9,
   "metadata": {},
   "outputs": [],
   "source": [
    "#Create function\n",
    "sol_L = sm.lambdify(args=(kappa,nu,alpha,w,tau),expr=L_star_w)\n",
    "\n",
    "#Defining the baseline parameters\n",
    "alpha_val=0.5\n",
    "kappa_val=1.0\n",
    "nu_val=(2.0*16.0**2.0)**(-1.0)\n",
    "tau_val=0.3\n",
    "\n",
    "#Create a grid for w. We don't start from 0, because then we get a division by zero error.\n",
    "w_vec=np.linspace(0.1,5.0,100)\n",
    "\n",
    "#Run sol_func\n",
    "L_w=sol_L(kappa_val,nu_val,alpha_val,w_vec,tau_val)"
   ]
  },
  {
   "attachments": {},
   "cell_type": "markdown",
   "metadata": {},
   "source": [
    "**1.2.3** Plotting the results"
   ]
  },
  {
   "cell_type": "code",
   "execution_count": 10,
   "metadata": {},
   "outputs": [
    {
     "data": {
      "image/png": "[encoded data removed]",
      "text/plain": [
       "<Figure size 640x480 with 1 Axes>"
      ]
     },
     "metadata": {},
     "output_type": "display_data"
    }
   ],
   "source": [
    "#Create the figure\n",
    "fig = plt.figure()\n",
    "\n",
    "#Add subplot\n",
    "ax = fig.add_subplot(1,1,1)\n",
    "\n",
    "#Plot labor supply as a function of the wage\n",
    "ax.plot(w_vec,L_w)\n",
    "\n",
    "#Add title and axis labels\n",
    "ax.set_title('Labor supply as a function of the wage')\n",
    "ax.set_xlabel('Wage')\n",
    "ax.set_ylabel('Labor supply')\n",
    "\n",
    "plt.show()"
   ]
  },
  {
   "attachments": {},
   "cell_type": "markdown",
   "metadata": {},
   "source": [
    "Here we see that labor supply is increasing in wage, but that the relationship is concave. This makes sense intuitively: If the worker receives a higher wage, then worker would like to work more, however the worker also receives relatively increasing disutility from working, so the effect wears off."
   ]
  },
  {
   "attachments": {},
   "cell_type": "markdown",
   "metadata": {},
   "source": [
    "\n",
    "We now consider a government, who chooses $\\tau$ and spend all of the taxes on government consumption so:\n",
    "\n",
    "$$\n",
    "G = \\tau w L^{\\star}((1-\\tau)w)\n",
    "$$\n",
    "\n",
    "**Question 3:** Plot the implied $L$, $G$ and worker utility for a grid of $\\tau$-values.\n"
   ]
  },
  {
   "attachments": {},
   "cell_type": "markdown",
   "metadata": {},
   "source": [
    "**1.3.1** Define G and lambdify the function"
   ]
  },
  {
   "cell_type": "code",
   "execution_count": 11,
   "metadata": {},
   "outputs": [
    {
     "data": {
      "image/png": "[encoded data removed]",
      "text/latex": [
       "$\\displaystyle \\frac{\\tau \\left(- \\kappa \\nu + \\sqrt{\\nu \\left(4 \\alpha w^{2} \\left(1 - \\tau\\right)^{2} + \\kappa^{2} \\nu\\right)}\\right)}{2 \\nu \\left(1 - \\tau\\right)}$"
      ],
      "text/plain": [
       "  ⎛          ____________________________⎞\n",
       "  ⎜         ╱   ⎛     2        2    2  ⎞ ⎟\n",
       "τ⋅⎝-κ⋅ν + ╲╱  ν⋅⎝4⋅α⋅w ⋅(1 - τ)  + κ ⋅ν⎠ ⎠\n",
       "──────────────────────────────────────────\n",
       "               2⋅ν⋅(1 - τ)                "
      ]
     },
     "execution_count": 11,
     "metadata": {},
     "output_type": "execute_result"
    }
   ],
   "source": [
    "#Define G as a function of optimal L*:\n",
    "G_new = tau*w*L_star_w\n",
    "G_new"
   ]
  },
  {
   "cell_type": "code",
   "execution_count": 12,
   "metadata": {},
   "outputs": [],
   "source": [
    "#Lambdify\n",
    "sol_G = sm.lambdify(args=(kappa,nu,alpha,w,tau),expr=G_new)"
   ]
  },
  {
   "attachments": {},
   "cell_type": "markdown",
   "metadata": {},
   "source": [
    "**1.3.2** Define worker utility and lamdify"
   ]
  },
  {
   "cell_type": "code",
   "execution_count": 13,
   "metadata": {},
   "outputs": [
    {
     "data": {
      "image/png": "[encoded data removed]",
      "text/latex": [
       "$\\displaystyle \\log{\\left(\\left(\\frac{\\tau \\left(- \\kappa \\nu + \\sqrt{\\nu \\left(4 \\alpha w^{2} \\left(1 - \\tau\\right)^{2} + \\kappa^{2} \\nu\\right)}\\right)}{2 \\nu \\left(1 - \\tau\\right)}\\right)^{1 - \\alpha} \\left(\\kappa + \\frac{- \\kappa \\nu + \\sqrt{\\nu \\left(4 \\alpha w^{2} \\left(1 - \\tau\\right)^{2} + \\kappa^{2} \\nu\\right)}}{2 \\nu}\\right)^{\\alpha} \\right)} - \\frac{\\left(- \\kappa \\nu + \\sqrt{\\nu \\left(4 \\alpha w^{2} \\left(1 - \\tau\\right)^{2} + \\kappa^{2} \\nu\\right)}\\right)^{2}}{8 \\nu w^{2} \\left(1 - \\tau\\right)^{2}}$"
      ],
      "text/plain": [
       "   ⎛                                            1 - α                         \n",
       "   ⎜⎛  ⎛          ____________________________⎞⎞      ⎛              _________\n",
       "   ⎜⎜  ⎜         ╱   ⎛     2        2    2  ⎞ ⎟⎟      ⎜             ╱   ⎛     \n",
       "   ⎜⎜τ⋅⎝-κ⋅ν + ╲╱  ν⋅⎝4⋅α⋅w ⋅(1 - τ)  + κ ⋅ν⎠ ⎠⎟      ⎜    -κ⋅ν + ╲╱  ν⋅⎝4⋅α⋅w\n",
       "log⎜⎜──────────────────────────────────────────⎟     ⋅⎜κ + ───────────────────\n",
       "   ⎝⎝               2⋅ν⋅(1 - τ)                ⎠      ⎝                     2⋅\n",
       "                                                                              \n",
       "\n",
       "                    α⎞                                           2\n",
       "___________________⎞ ⎟   ⎛          ____________________________⎞ \n",
       "2        2    2  ⎞ ⎟ ⎟   ⎜         ╱   ⎛     2        2    2  ⎞ ⎟ \n",
       " ⋅(1 - τ)  + κ ⋅ν⎠ ⎟ ⎟   ⎝-κ⋅ν + ╲╱  ν⋅⎝4⋅α⋅w ⋅(1 - τ)  + κ ⋅ν⎠ ⎠ \n",
       "───────────────────⎟ ⎟ - ─────────────────────────────────────────\n",
       "ν                  ⎠ ⎠                     2        2             \n",
       "                                      8⋅ν⋅w ⋅(1 - τ)              "
      ]
     },
     "execution_count": 13,
     "metadata": {},
     "output_type": "execute_result"
    }
   ],
   "source": [
    "#Define utility as a function of optimal L* and G:\n",
    "utility = sm.log((kappa+(1-tau)*w*L_star_w)**alpha*G_new**(1-alpha))-nu*L_star_w**2/2\n",
    "utility"
   ]
  },
  {
   "cell_type": "code",
   "execution_count": 14,
   "metadata": {},
   "outputs": [],
   "source": [
    "#lambdify\n",
    "sol_utility = sm.lambdify(args=(kappa,nu,alpha,w,tau),expr=utility)"
   ]
  },
  {
   "attachments": {},
   "cell_type": "markdown",
   "metadata": {},
   "source": [
    "**1.3.3** Define parameters"
   ]
  },
  {
   "attachments": {},
   "cell_type": "markdown",
   "metadata": {},
   "source": [
    "Now we're interested in the relationship between tau and L, G and utility respectively. Therefore wage we set to it's baseline value and we specify $\\tau$ as a vector."
   ]
  },
  {
   "cell_type": "code",
   "execution_count": 15,
   "metadata": {},
   "outputs": [],
   "source": [
    "#Baseline w\n",
    "w_val = 1.0\n",
    "\n",
    "#Vector of tau. Cannot be 0 or 1.\n",
    "tau_vec = np.linspace(0.05,0.95,100)"
   ]
  },
  {
   "attachments": {},
   "cell_type": "markdown",
   "metadata": {},
   "source": [
    "**1.3.4** Run functions"
   ]
  },
  {
   "cell_type": "code",
   "execution_count": 115,
   "metadata": {},
   "outputs": [
    {
     "data": {
      "text/plain": [
       "array([1.01499117, 1.09385915, 1.16070663, 1.21854056, 1.26936015,\n",
       "       1.31456221, 1.35516106, 1.39191652, 1.42541243, 1.45610703,\n",
       "       1.48436655, 1.51048822, 1.53471651, 1.55725492, 1.57827455,\n",
       "       1.5979206 , 1.61631731, 1.63357173, 1.64977677, 1.66501347,\n",
       "       1.67935296, 1.69285792, 1.70558386, 1.71758013, 1.72889074,\n",
       "       1.7395551 , 1.74960855, 1.75908292, 1.76800688, 1.77640635,\n",
       "       1.78430479, 1.79172345, 1.7986816 , 1.80519673, 1.81128473,\n",
       "       1.81696   , 1.82223562, 1.82712343, 1.83163415, 1.83577747,\n",
       "       1.83956208, 1.84299579, 1.84608555, 1.84883753, 1.85125713,\n",
       "       1.85334904, 1.85511725, 1.85656511, 1.85769531, 1.85850994,\n",
       "       1.85901046, 1.85919774, 1.85907205, 1.85863307, 1.85787988,\n",
       "       1.85681095, 1.85542416, 1.85371673, 1.85168526, 1.84932565,\n",
       "       1.84663312, 1.84360215, 1.84022646, 1.83649893, 1.83241157,\n",
       "       1.82795546, 1.82312068, 1.81789621, 1.81226984, 1.80622809,\n",
       "       1.79975604, 1.79283721, 1.78545341, 1.77758451, 1.76920825,\n",
       "       1.76029992, 1.75083214, 1.74077439, 1.73009268, 1.71874892,\n",
       "       1.7067004 , 1.69389897, 1.68029013, 1.66581188, 1.65039333,\n",
       "       1.63395289, 1.61639599, 1.59761214, 1.57747109, 1.55581768,\n",
       "       1.53246483, 1.50718389, 1.47969084, 1.44962623, 1.41652494,\n",
       "       1.37976908, 1.33851168, 1.29154711, 1.23707908, 1.17227833])"
      ]
     },
     "execution_count": 115,
     "metadata": {},
     "output_type": "execute_result"
    }
   ],
   "source": [
    "#labor supply\n",
    "L_tau = sol_L(kappa_val,nu_val,alpha_val,w_val,tau_vec)\n",
    "\n",
    "#government consumption\n",
    "G_tau = sol_G(kappa_val,nu_val,alpha_val,w_val,tau_vec)\n",
    "\n",
    "#utility\n",
    "u_tau = sol_utility(kappa_val,nu_val,alpha_val,w_val,tau_vec)"
   ]
  },
  {
   "attachments": {},
   "cell_type": "markdown",
   "metadata": {},
   "source": [
    "**1.3.5** Plotting the results"
   ]
  },
  {
   "cell_type": "code",
   "execution_count": null,
   "metadata": {},
   "outputs": [
    {
     "data": {
      "image/png": "[encoded data removed]",
      "text/plain": [
       "<Figure size 1000x1000 with 3 Axes>"
      ]
     },
     "metadata": {},
     "output_type": "display_data"
    }
   ],
   "source": [
    "#Create the figure\n",
    "fig = plt.figure(figsize=(10,10))\n",
    "\n",
    "# a. Labor supply\n",
    "ax = fig.add_subplot(3,1,1)\n",
    "ax.plot(tau_vec,L_tau)\n",
    "ax.set_title('Labor supply as a function of the tax rate')\n",
    "ax.set_xlabel('Tax rate')\n",
    "ax.set_ylabel('Labor supply')\n",
    "\n",
    "#b. Government consumption\n",
    "ax = fig.add_subplot(3,1,2)\n",
    "ax.plot(tau_vec,G_tau)\n",
    "ax.set_title('Government consumption as a function of the tax rate')\n",
    "ax.set_xlabel('Tax rate')\n",
    "ax.set_ylabel('Government consumption')\n",
    "\n",
    "#c. Utility\n",
    "ax = fig.add_subplot(3,1,3)\n",
    "ax.plot(tau_vec,u_tau)\n",
    "ax.set_title('Utility as a function of the tax rate')\n",
    "ax.set_xlabel('Tax rate')\n",
    "ax.set_ylabel('Utility')\n",
    "\n",
    "plt.tight_layout()\n",
    "plt.show()"
   ]
  },
  {
   "attachments": {},
   "cell_type": "markdown",
   "metadata": {},
   "source": [
    "First, we see that the labor supply is decreasing in the tax rate. This makes intuitive sense, since a higher tax rate implies a lower disposable income, which reduces the incentive to work. \n",
    "\n",
    "Second, we see that government consumption is initially increasing in the tax rate and then around $\\tau = 0.8$ it turns to be decreasing. This makes sense, as this is essentially the Laffer curve: There is both a mechanical and a behavioral effect. Mechanically, an increase in the taxrate means a higher taxrevenue for a given behavoir. Behaviorally, as we saw above an increase in tax rate means that the worker works less.\n",
    "\n",
    "Finally, we see that utility is effectively a downward pointing second degree polynomial in the tax rate. This also makes sense, as the worker gets utility from both working and from government consumption and there is an inverse relationship between the two."
   ]
  },
  {
   "attachments": {},
   "cell_type": "markdown",
   "metadata": {},
   "source": [
    "**Question 4:** Find the socially optimal tax rate $\\tau^{\\star}\\in(0,1)$ maximizing worker utility. Illustrate your result."
   ]
  },
  {
   "cell_type": "code",
   "execution_count": 101,
   "metadata": {},
   "outputs": [
    {
     "name": "stdout",
     "output_type": "stream",
     "text": [
      " The optimal labor supply is = 22.13292 with the optimal tax rate being = 0.52259\n"
     ]
    },
    {
     "data": {
      "image/png": "[encoded data removed]",
      "text/latex": [
       "$\\displaystyle -1.96972462080033$"
      ],
      "text/plain": [
       "-1.96972462080033"
      ]
     },
     "execution_count": 101,
     "metadata": {},
     "output_type": "execute_result"
    }
   ],
   "source": [
    "class ConsumerProblemCobbDouglas():\n",
    "    def __init__(self):\n",
    "\n",
    "        \"Initial parameters. They can be changed as seen with beta and sigma\"\n",
    "\n",
    "        par = self.par = SimpleNamespace()\n",
    "\n",
    "        # a. parameters\n",
    "\n",
    "        par.alpha=0.5\n",
    "        par.kappa = 1.0\n",
    "        par.nu = 1/(2.0*16.0**2.0)\n",
    "        par.w=1\n",
    "\n",
    "    def consumption_constraint(self,L,tau):\n",
    "\n",
    "        par = self.par\n",
    "        \n",
    "        return par.kappa+(1-tau)*par.w*L\n",
    "    \n",
    "    def government_constraint(self,L,tau): \n",
    "        \n",
    "        par = self.par\n",
    "        return par.w*tau*L\n",
    "\n",
    "    def disutility(self,L): \n",
    "         par = self.par\n",
    "         return par.nu*L**2/2\n",
    "\n",
    "    def utility(self,L,tau):\n",
    "        par = self.par\n",
    "\n",
    "        utility = np.log(self.consumption_constraint(L,tau)**par.alpha*self.government_constraint(L,tau)**(1-par.alpha))-self.disutility(L)\n",
    "\n",
    "        return -utility\n",
    "\n",
    "    def utility_optimize(self,x):\n",
    "\n",
    "        #Rewriting the function in order to get a constraint later on. \n",
    "        return self.utility(x[0],x[1])\n",
    "\n",
    "    def maximize_utility(self): \n",
    "\n",
    "            # a. setup\n",
    "\n",
    "            #The bounds as before. Consumption cannot be negative. \n",
    "            bounds = ((0,24),(0,1))\n",
    "\n",
    "            # b. initial guess\n",
    "            x0 = (15,0.3)\n",
    "\n",
    "            #Important that we have the constraint as this is the condition in the problem. \n",
    "            result = optimize.minimize(self.utility_optimize,x0,\n",
    "\n",
    "                                        method='L-BFGS-B',\n",
    "\n",
    "                                        bounds=bounds,\n",
    "\n",
    "                                        options={'disp':True})\n",
    "\n",
    "            L_star = result.x[0]\n",
    "            tau_star = result.x[1]\n",
    "\n",
    "            #c. output\n",
    "            return L_star, tau_star\n",
    "\n",
    "test=ConsumerProblemCobbDouglas()\n",
    "L_optimal,tau_optimal=test.maximize_utility()\n",
    "\n",
    "print(f' The optimal labor supply is = {L_optimal:.5f} with the optimal tax rate being = {tau_optimal:.5f}')\n",
    "\n",
    "test.utility(L_optimal,tau_optimal)\n",
    "#test.disutility(L_optimal)\n"
   ]
  },
  {
   "cell_type": "code",
   "execution_count": 123,
   "metadata": {},
   "outputs": [
    {
     "data": {
      "image/png": "[encoded data removed]",
      "text/latex": [
       "$\\displaystyle 22.1347919946236$"
      ],
      "text/plain": [
       "22.134791994623555"
      ]
     },
     "execution_count": 123,
     "metadata": {},
     "output_type": "execute_result"
    }
   ],
   "source": [
    "class WorkerClass:\n",
    "    def __init__(self):\n",
    "        self.par = SimpleNamespace()\n",
    "\n",
    "        # Parameters\n",
    "        self.par.alpha = 0.5\n",
    "        self.par.kappa = 1.0\n",
    "        self.par.nu = (2.0 * 16.0 **2.0) ** (-1.0)\n",
    "        self.par.w = 1.0\n",
    "\n",
    "    def consumption_constraint(self, L, tau):\n",
    "        par = self.par\n",
    "        return par.kappa + (1 - tau) * par.w * L\n",
    "\n",
    "    def government_constraint(self, L, tau):\n",
    "        par = self.par\n",
    "        return tau * par.w * L\n",
    "\n",
    "    def utility(self, L, tau):\n",
    "        par = self.par\n",
    "        return -(np.log(self.consumption_constraint(L, tau) ** par.alpha *\n",
    "                        self.government_constraint(L, tau) ** (1 - par.alpha)) -\n",
    "                 par.nu * L ** 2 / 2)\n",
    "\n",
    "    def utility_optimize(self, tau):\n",
    "        par = self.par\n",
    "        \n",
    "        bounds = [(0, 24)]  # Define the bounds as a list of tuples\n",
    "        result = optimize.minimize(self.utility, x0=5, bounds=bounds, args=(tau,))\n",
    "        L_opt = result.x[0]\n",
    "        return L_opt\n",
    "    \n",
    "    def tau_optimize(self):\n",
    "        bounds = [(0, 1)]  # Define the bounds as a list of tuples\n",
    "        result = optimize.minimize(self.utility_optimize, x0=0.5, bounds=bounds)\n",
    "        tau_opt = result.x[0]\n",
    "\n",
    "test_2 = WorkerClass()\n",
    "test_2.utility_optimize(0.52)"
   ]
  },
  {
   "cell_type": "code",
   "execution_count": 124,
   "metadata": {},
   "outputs": [
    {
     "name": "stderr",
     "output_type": "stream",
     "text": [
      "C:\\Users\\Ander\\AppData\\Local\\Temp\\ipykernel_20688\\809052739.py:47: DeprecationWarning: Use of `minimize` with `x0.ndim != 1` is deprecated. Currently, singleton dimensions will be removed from `x0`, but an error will be raised in SciPy 1.11.0.\n",
      "  result = optimize.minimize(self.target,init_guess, method='SLSQP', bounds=bounds)\n"
     ]
    },
    {
     "data": {
      "image/png": "[encoded data removed]",
      "text/latex": [
       "$\\displaystyle \\left( 22.1325910406151, \\  0.522612974846222, \\  -1.96972461969364\\right)$"
      ],
      "text/plain": [
       "(22.132591040615143, 0.5226129748462217, -1.9697246196936407)"
      ]
     },
     "execution_count": 124,
     "metadata": {},
     "output_type": "execute_result"
    }
   ],
   "source": [
    "class WorkerClass_v2:\n",
    "    def __init__(self):\n",
    "        self.par = SimpleNamespace()\n",
    "\n",
    "        # Parameters\n",
    "        self.par.alpha = 0.5\n",
    "        self.par.kappa = 1.0\n",
    "        self.par.nu = (2.0 * 16.0 ** 2.0)**(-1.0)\n",
    "        self.par.w = 1.0\n",
    "    \n",
    "    def consumption_constraint(self,L,tau):\n",
    "\n",
    "        par = self.par\n",
    "        \n",
    "        return par.kappa+(1-tau)*par.w*L\n",
    "\n",
    "    def government_constraint(self, L, tau):\n",
    "        par = self.par\n",
    "        return tau * par.w * L\n",
    "\n",
    "    def disutility(self,L): \n",
    "         par = self.par\n",
    "         return par.nu*L**2/2\n",
    "\n",
    "    def target(self, params):\n",
    "        par = self.par\n",
    "        L_optimal,tau_optimal = params\n",
    "\n",
    "        #Running the regression with the target values, where the target values are those to be optimized. \n",
    "        C_optimal = self.consumption_constraint(L_optimal,tau_optimal)\n",
    "        G_optimal =  self.government_constraint(L_optimal,tau_optimal)\n",
    "        disutility_optimal = self.disutility(L_optimal)\n",
    "\n",
    "\n",
    "        return -np.log(C_optimal**par.alpha*G_optimal**(1-par.alpha))+disutility_optimal\n",
    "\n",
    "    def solve_optimal_alpha_sigma(self):\n",
    "        \"\"\" This is to find optimal value of alpha and sigma for question 4\n",
    "        We use Nelder-Mead because we do not have constraints\"\"\"\n",
    "\n",
    "        #Defining the initial guess based on the seed. \n",
    "        init_guess = [(5,0.5)]\n",
    "\n",
    "        #Bounds for alpha and sigma. \n",
    "        bounds = [(0.01, 24), (0.01,0.99)]\n",
    "\n",
    "        result = optimize.minimize(self.target,init_guess, method='SLSQP', bounds=bounds)\n",
    "\n",
    "        #Saving result from the optimizer. \n",
    "        L_optimal, tau_optimal = result.x\n",
    "\n",
    "        #Saving the results in one parameter in order to include in target function. \n",
    "        params_result=L_optimal,tau_optimal\n",
    "\n",
    "        #Returning the values. \n",
    "        return L_optimal, tau_optimal, self.target(params_result)   \n",
    "    \n",
    "test_3=WorkerClass_v2()\n",
    "test_3.solve_optimal_alpha_sigma()"
   ]
  },
  {
   "attachments": {},
   "cell_type": "markdown",
   "metadata": {},
   "source": [
    "A more general preference formulation for the worker is:\n",
    "\n",
    "$$\n",
    "\\begin{align*}\n",
    "\\mathcal{V}(w,\\tau,G)&=\\max_{L\\in[0,24]}\\frac{\\left[ \\left( \\alpha C^{\\frac{\\sigma-1}{\\sigma}}+(1-\\alpha) G^{\\frac{\\sigma-1}{\\sigma}} \\right)^{\\frac{\\sigma}{1-\\sigma} }\\right]^{1-\\rho}-1}{1-\\rho}- \\nu\\frac{L^{1+\\varepsilon}}{1+\\varepsilon},\\,\\,\\,\\varepsilon,\\rho,\\sigma>0,\\,\\,\\,\\rho,\\sigma\\neq1\\\\&\\text{s.t.}\\\\&C=\\kappa+(1-\\tau)wL\n",
    "\\end{align*}    \n",
    "$$\n",
    "\n",
    "Optimal labor supply is now $L^{\\star}(\\tilde{w},G)$."
   ]
  },
  {
   "attachments": {},
   "cell_type": "markdown",
   "metadata": {},
   "source": [
    "Questions 5 and 6 must be answered with the general formulation, and for 2 different set of parameters:\n",
    "\n",
    "- Set 1:  $\\sigma = 1.001$, $\\rho = 1.001$ and $\\varepsilon = 1.0$.\n",
    "- Set 2:  $\\sigma = 1.5$, $\\rho = 1.5$ and $\\varepsilon = 1.0 $."
   ]
  },
  {
   "attachments": {},
   "cell_type": "markdown",
   "metadata": {},
   "source": [
    "**Question 5:** Find the $G$ that solves $G = \\tau w L^{\\star}((1-\\tau)w,G)$ using the $\\tau$ found in question 4.\n",
    "\n",
    "*Hint: First write code that solves the worker problem for given values of $G$ and $\\tau$. Then find the correct G based on this.*"
   ]
  },
  {
   "cell_type": "code",
   "execution_count": null,
   "metadata": {},
   "outputs": [],
   "source": [
    "# write your code here"
   ]
  },
  {
   "attachments": {},
   "cell_type": "markdown",
   "metadata": {},
   "source": [
    "**Question 6:** Find the socially optimal tax rate, $\\tau^{\\star}$, maximizing worker utility, while keeping $G = \\tau w L^{\\star}((1-\\tau)w,G)$."
   ]
  },
  {
   "cell_type": "code",
   "execution_count": null,
   "metadata": {},
   "outputs": [],
   "source": [
    "# write your code here  "
   ]
  },
  {
   "attachments": {},
   "cell_type": "markdown",
   "metadata": {},
   "source": [
    "## 2. <a id='toc2_'></a>[Problem 2: Labor adjustment costs](#toc0_)"
   ]
  },
  {
   "attachments": {},
   "cell_type": "markdown",
   "metadata": {},
   "source": [
    "You own a hair salon. You employ hairdressers, $\\ell_t$, to produce haircuts, $y_t = \\ell_t$.\n",
    "\n",
    "The wage for each haridresser is $w$.\n",
    "\n",
    "The demand for haircuts implies that the price of haircuts you can charge is $p_t = \\kappa_t y_t^{-\\eta}$, where $\\kappa_t$ is a demand-shock and $\\eta \\in (0,1)$ measures the elasticity of demand.\n",
    "\n",
    "Profits are:\n",
    "\n",
    "$$\n",
    "\\Pi_t = p_t y_t - w \\ell_t = \\kappa_t \\ell_t^{1-\\eta} - w \\ell_t\n",
    "$$"
   ]
  },
  {
   "attachments": {},
   "cell_type": "markdown",
   "metadata": {},
   "source": [
    "Baseline parameters are:\n",
    "- $\\eta = 0.5$\n",
    "- $w = 1.0$"
   ]
  },
  {
   "attachments": {},
   "cell_type": "markdown",
   "metadata": {},
   "source": [
    "**Question 1:** Verify numerically that $\\ell_{t}=\\left(\\frac{(1-\\eta)\\kappa_{t}}{w}\\right)^{\\frac{1}{\\eta}}$ maximises profits, for $\\kappa\\in\\left\\{1.0 , 2.0\\right\\}$."
   ]
  },
  {
   "cell_type": "code",
   "execution_count": null,
   "metadata": {},
   "outputs": [],
   "source": [
    "# write your code here"
   ]
  },
  {
   "attachments": {},
   "cell_type": "markdown",
   "metadata": {},
   "source": [
    "We now consider a *dynamic* version of the model.\n",
    "\n",
    "* The demand-shock is a so-called AR(1) in logs, \n",
    "\n",
    "$$\n",
    "\\log \\kappa_{t} = \\rho \\log \\kappa_{t-1} + \\epsilon_{t},\\,\\,\\, \\epsilon_{t+1} \\sim \\mathcal{N}(-0.5\\sigma_{\\epsilon}^2,\\sigma_{\\epsilon})\n",
    "$$\n",
    "\n",
    "* Any hiring or firing implies a fixed adjustment cost, $\\iota > 0 $.\n",
    "* Future profits are discounted with a monthly factor of $R \\in (0,1)$.\n",
    "\n",
    "The initial demand shock is $\\kappa_{-1} = 1$ and the planning horizon is 10 years, i.e. 120 months so $t \\in \\{0,1,2,\\dots,119\\}$. Initially you don't have any employees, $\\ell_{-1}=0$"
   ]
  },
  {
   "attachments": {},
   "cell_type": "markdown",
   "metadata": {},
   "source": [
    "\n",
    "The *ex post* value of the salon is *conditional* on the shock series is:\n",
    "\n",
    "$$\n",
    "h(\\epsilon_0,\\epsilon_1,\\dots,\\epsilon_{119}) = \\left[\\sum_{t=0}^{119}R^{-t}\\left[\\kappa_{t}\\ell_{t}^{1-\\eta}-w\\ell_{t}-\\boldsymbol{1}_{\\ell_{t}\\neq\\ell_{t-1}}\\iota\\right]\\right]\n",
    "$$\n",
    "\n",
    "The *ex ante* expected value of the salon can be approximated by\n",
    "\n",
    "$$\n",
    "H = \\mathbb{E}[h(\\epsilon_0,\\epsilon_1,\\dots,\\epsilon_{119})] \\approx \\frac{1}{K}\\sum_{k=0}^{K} h(\\epsilon_0^k,\\epsilon_1^k,\\dots,\\epsilon_{119}^k)\n",
    "$$\n",
    "\n",
    "where each $k\\in\\{0,1,\\dots,K-1\\}$ is a random shock series. Maximizing profitability means maximizing $H$.\n"
   ]
  },
  {
   "attachments": {},
   "cell_type": "markdown",
   "metadata": {},
   "source": [
    "Baseline parameters are: \n",
    "\n",
    "- $\\rho = 0.90$\n",
    "- $\\iota = 0.01$\n",
    "- $\\sigma_{\\epsilon} = 0.10$\n",
    "- $R = \\left(1+0.01\\right)^{1/12}$"
   ]
  },
  {
   "attachments": {},
   "cell_type": "markdown",
   "metadata": {},
   "source": [
    "**Question 2:** Calculate $H$ if the policy  $\\ell_{t}=\\left(\\frac{(1-\\eta)\\kappa_{t}}{w}\\right)^{\\frac{1}{\\eta}}$ from question 1 is followed. Choose $K$ so the approximation is good enough to not affect your results substantially."
   ]
  },
  {
   "cell_type": "code",
   "execution_count": null,
   "metadata": {},
   "outputs": [],
   "source": [
    "# write your code here "
   ]
  },
  {
   "attachments": {},
   "cell_type": "markdown",
   "metadata": {},
   "source": [
    "Next, we consider policies on the form:\n",
    "\n",
    "$$\n",
    "\n",
    "\\ell_{t}=\\begin{cases}\n",
    "\\ell_t^{\\ast}  & \\text{if }\\left|\\ell_{t-1}-\\ell_t^{\\ast} \\right|>\\Delta\\\\\n",
    "\\ell_{t-1} & \\text{else }\n",
    "\\end{cases}\n",
    "\\\\\n",
    "\\text{where}\\,\\,\\ell_t^{\\ast} = \\left(\\frac{(1-\\eta)\\kappa_{t}}{w}\\right)^{\\frac{1}{\\eta}} \\\\\n",
    "\n",
    "$$\n",
    "With $\\Delta \\geq 0$ and $\\Delta = 0$ being the previous policy.\n"
   ]
  },
  {
   "attachments": {},
   "cell_type": "markdown",
   "metadata": {},
   "source": [
    "\n",
    "**Question 3:** Calculate $H$ if the policy above was followed with $\\Delta = 0.05$. Does it improve profitability?"
   ]
  },
  {
   "cell_type": "code",
   "execution_count": null,
   "metadata": {},
   "outputs": [],
   "source": [
    "# write your code here"
   ]
  },
  {
   "attachments": {},
   "cell_type": "markdown",
   "metadata": {},
   "source": [
    "**Question 4:** Find the optimal $\\Delta$ maximizing $H$. Illustrate your result."
   ]
  },
  {
   "cell_type": "code",
   "execution_count": null,
   "metadata": {},
   "outputs": [],
   "source": [
    "# write your code here"
   ]
  },
  {
   "attachments": {},
   "cell_type": "markdown",
   "metadata": {},
   "source": [
    "\n",
    "**Question 5:** Suggest an alternative policy you believe might improve profitability. Implement and test your policy.\n",
    "\n"
   ]
  },
  {
   "cell_type": "code",
   "execution_count": null,
   "metadata": {},
   "outputs": [],
   "source": [
    "# write your code here"
   ]
  },
  {
   "attachments": {},
   "cell_type": "markdown",
   "metadata": {},
   "source": [
    "## 3. <a id='toc3_'></a>[Problem 3: Global optimizer with refined multi-start](#toc0_)"
   ]
  },
  {
   "attachments": {},
   "cell_type": "markdown",
   "metadata": {},
   "source": [
    "We consider the Griewank function:\n",
    "\n",
    "$$ f(\\boldsymbol{x}) = \\sum^n_{i=1} \\frac{x^2_i}{4000}-\\prod^n_{i=1}\\cos\\left(\\frac{x_i}{\\sqrt{i}}\\right)+1$$\n",
    "\n",
    "The **global minimum** of this function is $f(0,0) = 0$ (remember: $\\cos(0)=1$).<br>\n",
    "But the function also have a lot of **local minima**."
   ]
  },
  {
   "cell_type": "code",
   "execution_count": null,
   "metadata": {},
   "outputs": [],
   "source": [
    "def griewank(x):\n",
    "    return griewank_(x[0],x[1])\n",
    "    \n",
    "def griewank_(x1,x2):\n",
    "    A = x1**2/4000 + x2**2/4000\n",
    "    B = np.cos(x1/np.sqrt(1))*np.cos(x2/np.sqrt(2))\n",
    "    return A-B+1"
   ]
  },
  {
   "attachments": {},
   "cell_type": "markdown",
   "metadata": {},
   "source": [
    "A **refined global optimizer with multi-start** is:\n",
    "\n",
    "1. Choose *bounds* for $\\mathbf{x}$ and *tolerance* $\\tau > 0$.\n",
    "2. Choose number of *warm-up iterations*, $\\underline{K} > 0$ and *maximum number of iterations*, $K > \\underline{K}$.\n",
    "3. In each iteration for $k \\in \\{0,1,\\dots,K-1\\}$:\n",
    "\n",
    "    A. Draw random $\\mathbf{x}^k$ uniformly within chosen bounds.\n",
    "\n",
    "    B. If $k < \\underline{K}$ go to step E.\n",
    "\n",
    "    C. Calculate $\\chi^k = 0.50\\cdot\\frac{2}{1+\\exp((k-\\underline{K})/100)}$  \n",
    "\n",
    "    D. Set $\\mathbf{x}^{k0} = \\chi^k \\mathbf{x}^k + (1-\\chi^k)\\mathbf{x}^{\\ast} $\n",
    "\n",
    "    E. Run optimizer with $\\mathbf{x}^{k0}$ as initial guess and $\\mathbf{x}^{k\\ast}$ as result.\n",
    "\n",
    "    F. Set $\\mathbf{x}^{\\ast} = \\mathbf{x}^{k\\ast}$ if $k = 0$ or $f(\\mathbf{x}^{k\\ast}) < f(\\mathbf{x}^{\\ast})$\n",
    "\n",
    "    G. If $f(\\mathbf{x}^{\\ast}) < \\tau$ go to step 4.\n",
    "\n",
    "4. Return the result $\\mathbf{x}^{\\ast}$."
   ]
  },
  {
   "attachments": {},
   "cell_type": "markdown",
   "metadata": {},
   "source": [
    "As settings we choose:\n",
    "\n",
    "* $x_1,x_2 \\in  [-600,600]$\n",
    "* $\\tau = 10^{-8}$\n",
    "* $\\underline{K}=10$\n",
    "* $K=1000$\n",
    "\n",
    "The optimizer in Step 3.E is `BFGS` with a tolerance of $\\tau$."
   ]
  },
  {
   "attachments": {},
   "cell_type": "markdown",
   "metadata": {},
   "source": [
    "**Question 1:** Implement the refined global optimizer with multi-start. Illustrate how the effective initial guesses $\\mathbf{x}^{k0}$ vary with the iteration counter $k$."
   ]
  },
  {
   "cell_type": "code",
   "execution_count": null,
   "metadata": {},
   "outputs": [],
   "source": [
    "# write your code here"
   ]
  },
  {
   "attachments": {},
   "cell_type": "markdown",
   "metadata": {},
   "source": [
    "**Question 2:** Is it a better idea to set $\\underline{K} = 100$? Is the convergence faster?"
   ]
  },
  {
   "cell_type": "code",
   "execution_count": null,
   "metadata": {},
   "outputs": [],
   "source": [
    "# write your code here"
   ]
  }
 ],
 "metadata": {
  "kernelspec": {
   "display_name": "base",
   "language": "python",
   "name": "python3"
  },
  "language_info": {
   "codemirror_mode": {
    "name": "ipython",
    "version": 3
   },
   "file_extension": ".py",
   "mimetype": "text/x-python",
   "name": "python",
   "nbconvert_exporter": "python",
   "pygments_lexer": "ipython3",
   "version": "3.10.11"
  },
  "orig_nbformat": 4
 },
 "nbformat": 4,
 "nbformat_minor": 2
}
