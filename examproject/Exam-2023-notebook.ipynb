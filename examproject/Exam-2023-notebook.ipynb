{
 "cells": [
  {
   "attachments": {},
   "cell_type": "markdown",
   "metadata": {},
   "source": [
    "**Table of contents**<a id='toc0_'></a>    \n",
    "- 1. [Problem 1: Optimal taxation with government consumption](#toc1_)    \n",
    "- 2. [Problem 2: Labor adjustment costs](#toc2_)    \n",
    "- 3. [Problem 3: Global optimizer with refined multi-start](#toc3_)    \n",
    "\n",
    "<!-- vscode-jupyter-toc-config\n",
    "\tnumbering=true\n",
    "\tanchor=true\n",
    "\tflat=false\n",
    "\tminLevel=2\n",
    "\tmaxLevel=6\n",
    "\t/vscode-jupyter-toc-config -->\n",
    "<!-- THIS CELL WILL BE REPLACED ON TOC UPDATE. DO NOT WRITE YOUR TEXT IN THIS CELL -->"
   ]
  },
  {
   "cell_type": "code",
   "execution_count": 1,
   "metadata": {},
   "outputs": [],
   "source": [
    "# Importing relevant packages\n",
    "import sympy as sm\n",
    "import numpy as np\n",
    "import matplotlib.pyplot as plt\n",
    "plt.rcParams.update({\"axes.grid\":True,\"grid.color\":\"black\",\"grid.alpha\":\"0.25\",\"grid.linestyle\":\"-\"}) \n",
    "from scipy import optimize\n",
    "\n",
    "# Autoreload of our model \n",
    "%load_ext autoreload\n",
    "%autoreload 2\n",
    "\n",
    "\n",
    "import Question_1 as Q1"
   ]
  },
  {
   "attachments": {},
   "cell_type": "markdown",
   "metadata": {},
   "source": [
    "## 1. <a id='toc1_'></a>[Problem 1: Optimal taxation with government consumption](#toc0_)"
   ]
  },
  {
   "attachments": {},
   "cell_type": "markdown",
   "metadata": {},
   "source": [
    "\n",
    "Consider a worker choosing hours of labor, $L\\in[0,24]$, to maximize utility: \n",
    "\n",
    "$$\n",
    "\\begin{align*}\n",
    "V(w,\\tau,G)&=\\max_{L\\in[0,24]}\\ln\\left(C^{\\alpha}G^{1-\\alpha}\\right)-\\nu\\frac{L^{2}}{2}\\\\&\\text{s.t.}\\\\&C=\\kappa+(1-\\tau)wL\n",
    "\\end{align*}\n",
    "$$\n",
    "\n",
    "where \n",
    "\n",
    "* $C$ is *private* consumption with weight $\\alpha\\in(0,1)$.\n",
    "* $\\kappa > 0$ is the *free private* consumption component.\n",
    "* $C = (1-\\tau)wL$ is the *costly private* consumption component.\n",
    "* $w > 0 $ is the real wage.\n",
    "* $\\tau \\in (0,1)$ is the labor-income tax rate.\n",
    "* $G > 0 $ is *government* consumption with weight $1-\\alpha$.\n",
    "* $\\nu > 0$ is the disutility of labor scaling factor"
   ]
  },
  {
   "attachments": {},
   "cell_type": "markdown",
   "metadata": {},
   "source": [
    "\n",
    "The baseline parameters are:\n",
    "\n",
    "$$\n",
    "\\begin{align*}\n",
    "\\alpha &= 0.5\\\\\n",
    "\\kappa &= 1.0\\\\\n",
    "\\nu &= \\frac{1}{2\\cdot16^2} \\\\\n",
    "w &= 1.0 \\\\ \n",
    "\\tau &= 0.30 \\\\\n",
    "\\end{align*}\n",
    "$$"
   ]
  },
  {
   "attachments": {},
   "cell_type": "markdown",
   "metadata": {},
   "source": [
    "**Question 1:** Verify that the optimal labor supply choice is $L^{\\star}(\\tilde{w}) =\\frac{-\\kappa+\\sqrt{\\kappa^{2}+4\\frac{\\alpha}{\\nu}\\tilde{w}^2}}{2\\tilde{w}}$, where $\\tilde{w} = (1-\\tau)w$, for $G\\in\\left\\{1.0 , 2.0\\right\\}$."
   ]
  },
  {
   "attachments": {},
   "cell_type": "markdown",
   "metadata": {},
   "source": [
    "**1.1.1** We are defining the functions in symbolic math"
   ]
  },
  {
   "cell_type": "code",
   "execution_count": 2,
   "metadata": {},
   "outputs": [],
   "source": [
    "# Defining symbols\n",
    "C = sm.symbols('C') \n",
    "G = sm.symbols('G')\n",
    "L = sm.symbols('L')\n",
    "alpha = sm.symbols('alpha')\n",
    "kappa = sm.symbols('kappa')\n",
    "nu = sm.symbols('nu')\n",
    "w = sm.symbols('w')\n",
    "tau = sm.symbols('tau')\n",
    "#Using this to get a tilde over the w. \n",
    "sm.init_printing()\n",
    "wtilde= sm.symbols(\"wtilde \")\n",
    "\n",
    "# write out the consumer utility function\n",
    "utility = sm.log(C**alpha*G**(1-alpha))-nu*L**2/2\n",
    "\n",
    "#Budget constraint\n",
    "budget = sm.Eq(C, kappa+wtilde*L)\n"
   ]
  },
  {
   "attachments": {},
   "cell_type": "markdown",
   "metadata": {},
   "source": [
    "**1.1.2** Isolate and Substitute"
   ]
  },
  {
   "cell_type": "code",
   "execution_count": 3,
   "metadata": {},
   "outputs": [
    {
     "data": {
      "image/png": "[encoded data removed]",
      "text/latex": [
       "$\\displaystyle - \\frac{L^{2} \\nu}{2} + \\log{\\left(G^{1 - \\alpha} \\left(L \\tilde{w} + \\kappa\\right)^{\\alpha} \\right)}$"
      ],
      "text/plain": [
       "   2                           \n",
       "  L ⋅ν      ⎛ 1 - α          α⎞\n",
       "- ──── + log⎝G     ⋅(L⋅w̃ + κ) ⎠\n",
       "   2                           "
      ]
     },
     "execution_count": 3,
     "metadata": {},
     "output_type": "execute_result"
    }
   ],
   "source": [
    "#Isolate (necessary since sympy otherwise does not work)\n",
    "C_from_con = sm.solve(budget, C)\n",
    "C_from_con[0]\n",
    "\n",
    "#Substitute into utility function\n",
    "objective = utility.subs(C, C_from_con[0])\n",
    "objective\n"
   ]
  },
  {
   "attachments": {},
   "cell_type": "markdown",
   "metadata": {},
   "source": [
    "**1.1.3** Finding FOC wrt. L"
   ]
  },
  {
   "cell_type": "code",
   "execution_count": 4,
   "metadata": {},
   "outputs": [
    {
     "data": {
      "image/png": "[encoded data removed]",
      "text/latex": [
       "$\\displaystyle \\frac{G^{1 - \\alpha} G^{\\alpha - 1} \\alpha \\tilde{w}}{L \\tilde{w} + \\kappa} - L \\nu = 0$"
      ],
      "text/plain": [
       " 1 - α  α - 1              \n",
       "G     ⋅G     ⋅α⋅w̃          \n",
       "───────────────── - L⋅ν = 0\n",
       "     L⋅w̃ + κ              "
      ]
     },
     "execution_count": 4,
     "metadata": {},
     "output_type": "execute_result"
    }
   ],
   "source": [
    "#Finding the FOC\n",
    "foc = sm.Eq(sm.diff(objective, L),0)\n",
    "foc"
   ]
  },
  {
   "attachments": {},
   "cell_type": "markdown",
   "metadata": {},
   "source": [
    "**1.1.4** Solving for L in the equation"
   ]
  },
  {
   "cell_type": "code",
   "execution_count": 5,
   "metadata": {},
   "outputs": [
    {
     "data": {
      "image/png": "[encoded data removed]",
      "text/latex": [
       "$\\displaystyle \\left[ \\frac{- \\kappa \\nu - \\sqrt{\\nu \\left(4 \\alpha \\tilde{w}^{2} + \\kappa^{2} \\nu\\right)}}{2 \\nu \\tilde{w}}, \\  \\frac{- \\kappa \\nu + \\sqrt{\\nu \\left(4 \\alpha \\tilde{w}^{2} + \\kappa^{2} \\nu\\right)}}{2 \\nu \\tilde{w}}\\right]$"
      ],
      "text/plain": [
       "⎡          ___________________            ___________________⎤\n",
       "⎢         ╱   ⎛     2    2  ⎞            ╱   ⎛     2    2  ⎞ ⎥\n",
       "⎢-κ⋅ν - ╲╱  ν⋅⎝4⋅α⋅w̃  + κ ⋅ν⎠  -κ⋅ν + ╲╱  ν⋅⎝4⋅α⋅w̃  + κ ⋅ν⎠⎥\n",
       "⎢─────────────────────────────, ─────────────────────────────⎥\n",
       "⎣            2⋅ν⋅w̃                         2⋅ν⋅w̃           ⎦"
      ]
     },
     "execution_count": 5,
     "metadata": {},
     "output_type": "execute_result"
    }
   ],
   "source": [
    "L_star = sm.solve(foc, L)\n",
    "L_star"
   ]
  },
  {
   "attachments": {},
   "cell_type": "markdown",
   "metadata": {},
   "source": [
    "We note that $L^{\\star}$ cannot be negative, so only the second solution holds. That is:"
   ]
  },
  {
   "cell_type": "code",
   "execution_count": 6,
   "metadata": {},
   "outputs": [
    {
     "data": {
      "image/png": "[encoded data removed]",
      "text/latex": [
       "$\\displaystyle \\frac{- \\kappa \\nu + \\sqrt{\\nu \\left(4 \\alpha \\tilde{w}^{2} + \\kappa^{2} \\nu\\right)}}{2 \\nu \\tilde{w}}$"
      ],
      "text/plain": [
       "          ___________________\n",
       "         ╱   ⎛     2    2  ⎞ \n",
       "-κ⋅ν + ╲╱  ν⋅⎝4⋅α⋅w̃  + κ ⋅ν⎠\n",
       "─────────────────────────────\n",
       "            2⋅ν⋅w̃           "
      ]
     },
     "execution_count": 6,
     "metadata": {},
     "output_type": "execute_result"
    }
   ],
   "source": [
    "L_star[1]"
   ]
  },
  {
   "attachments": {},
   "cell_type": "markdown",
   "metadata": {},
   "source": [
    "We have shown the result now. $\\nu$ can be simplified away (The square root can be rewritten, so we have $\\nu^2$ and then we have a $\\nu$ in all terms, and hereby it can be removed), and we get the following expression for the optimal labor supply:\n",
    "\n",
    "$L^{\\star}(\\tilde{w}) =\\frac{-\\kappa+\\sqrt{\\kappa^{2}+4\\frac{\\alpha}{\\nu}\\tilde{w}^2}}{2\\tilde{w}}$\n",
    "\n",
    "G is not important since we are taking the log. Hereby it will not influence in this case, as it is not dependent on $\\tau$. However, this will of course change in exercise 1.3. "
   ]
  },
  {
   "attachments": {},
   "cell_type": "markdown",
   "metadata": {},
   "source": [
    "**Question 2:** Illustrate how $L^{\\star}(\\tilde{w})$ depends on $w$."
   ]
  },
  {
   "attachments": {},
   "cell_type": "markdown",
   "metadata": {},
   "source": [
    "**1.2.1** Substitute w into the expression for $L^*$"
   ]
  },
  {
   "cell_type": "code",
   "execution_count": 7,
   "metadata": {},
   "outputs": [
    {
     "data": {
      "image/png": "[encoded data removed]",
      "text/latex": [
       "$\\displaystyle \\frac{- \\kappa \\nu + \\sqrt{\\nu \\left(4 \\alpha w^{2} \\left(1 - \\tau\\right)^{2} + \\kappa^{2} \\nu\\right)}}{2 \\nu w \\left(1 - \\tau\\right)}$"
      ],
      "text/plain": [
       "          ____________________________\n",
       "         ╱   ⎛     2        2    2  ⎞ \n",
       "-κ⋅ν + ╲╱  ν⋅⎝4⋅α⋅w ⋅(1 - τ)  + κ ⋅ν⎠ \n",
       "──────────────────────────────────────\n",
       "            2⋅ν⋅w⋅(1 - τ)             "
      ]
     },
     "execution_count": 7,
     "metadata": {},
     "output_type": "execute_result"
    }
   ],
   "source": [
    "# Defining wtilde\n",
    "wtilde_func=sm.Eq(wtilde,(1-tau)*w)\n",
    "wtilde_from_con = sm.solve(wtilde_func, wtilde)\n",
    "wtilde_from_con [0]\n",
    "\n",
    "#Substitute into L_star\n",
    "L_star_w = L_star[1].subs(wtilde, wtilde_from_con[0])\n",
    "L_star_w"
   ]
  },
  {
   "attachments": {},
   "cell_type": "markdown",
   "metadata": {},
   "source": [
    "**1.2.2** Lambdify the function"
   ]
  },
  {
   "cell_type": "code",
   "execution_count": 8,
   "metadata": {},
   "outputs": [],
   "source": [
    "#Create function\n",
    "sol_L = sm.lambdify(args=(kappa,nu,alpha,w,tau),expr=L_star_w)\n",
    "\n",
    "#Defining the baseline parameters\n",
    "alpha_val=0.5\n",
    "kappa_val=1.0\n",
    "nu_val=(2.0*16.0**2.0)**(-1.0)\n",
    "tau_val=0.3\n",
    "\n",
    "#Create a grid for w. We don't start from 0, because then we get a division by zero error.\n",
    "w_vec=np.linspace(0.1,5.0,100)\n",
    "\n",
    "#Run sol_func\n",
    "L_w=sol_L(kappa_val,nu_val,alpha_val,w_vec,tau_val)"
   ]
  },
  {
   "attachments": {},
   "cell_type": "markdown",
   "metadata": {},
   "source": [
    "**1.2.3** Plotting the results"
   ]
  },
  {
   "cell_type": "code",
   "execution_count": 9,
   "metadata": {},
   "outputs": [
    {
     "data": {
      "image/png": "[encoded data removed]",
      "text/plain": [
       "<Figure size 640x480 with 1 Axes>"
      ]
     },
     "metadata": {},
     "output_type": "display_data"
    }
   ],
   "source": [
    "#Create the figure\n",
    "fig = plt.figure()\n",
    "\n",
    "#Add subplot\n",
    "ax = fig.add_subplot(1,1,1)\n",
    "\n",
    "#Plot labor supply as a function of the wage\n",
    "ax.plot(w_vec,L_w)\n",
    "\n",
    "#Add title and axis labels\n",
    "ax.set_title('Labor supply as a function of the wage')\n",
    "ax.set_xlabel('Wage')\n",
    "ax.set_ylabel('Labor supply')\n",
    "\n",
    "plt.show()"
   ]
  },
  {
   "attachments": {},
   "cell_type": "markdown",
   "metadata": {},
   "source": [
    "Here we see that labor supply is increasing in wage, but that the relationship is concave. This makes sense intuitively: If the worker receives a higher wage, then worker would like to work more, however the worker also receives relatively increasing disutility from working, so the effect wears off."
   ]
  },
  {
   "attachments": {},
   "cell_type": "markdown",
   "metadata": {},
   "source": [
    "\n",
    "We now consider a government, who chooses $\\tau$ and spend all of the taxes on government consumption so:\n",
    "\n",
    "$$\n",
    "G = \\tau w L^{\\star}((1-\\tau)w)\n",
    "$$\n",
    "\n",
    "**Question 3:** Plot the implied $L$, $G$ and worker utility for a grid of $\\tau$-values.\n"
   ]
  },
  {
   "attachments": {},
   "cell_type": "markdown",
   "metadata": {},
   "source": [
    "We would like to notice we use the optimal labor supply from question 1.2. The consequence is that the worker will not take the effect of more government spendings when working more. Ceteris parisbus, this will lower the labor supply. One argument is that the consumer does not feel able to affect the government spendings and therefore does not take it into account. "
   ]
  },
  {
   "attachments": {},
   "cell_type": "markdown",
   "metadata": {},
   "source": [
    "**1.3.1** Define G and lambdify the function"
   ]
  },
  {
   "cell_type": "code",
   "execution_count": 10,
   "metadata": {},
   "outputs": [
    {
     "data": {
      "image/png": "[encoded data removed]",
      "text/latex": [
       "$\\displaystyle \\frac{\\tau \\left(- \\kappa \\nu + \\sqrt{\\nu \\left(4 \\alpha w^{2} \\left(1 - \\tau\\right)^{2} + \\kappa^{2} \\nu\\right)}\\right)}{2 \\nu \\left(1 - \\tau\\right)}$"
      ],
      "text/plain": [
       "  ⎛          ____________________________⎞\n",
       "  ⎜         ╱   ⎛     2        2    2  ⎞ ⎟\n",
       "τ⋅⎝-κ⋅ν + ╲╱  ν⋅⎝4⋅α⋅w ⋅(1 - τ)  + κ ⋅ν⎠ ⎠\n",
       "──────────────────────────────────────────\n",
       "               2⋅ν⋅(1 - τ)                "
      ]
     },
     "execution_count": 10,
     "metadata": {},
     "output_type": "execute_result"
    }
   ],
   "source": [
    "#Define G as a function of optimal L*:\n",
    "G_new = tau*w*L_star_w\n",
    "G_new"
   ]
  },
  {
   "cell_type": "code",
   "execution_count": 11,
   "metadata": {},
   "outputs": [],
   "source": [
    "#Lambdify\n",
    "sol_G = sm.lambdify(args=(kappa,nu,alpha,w,tau),expr=G_new)"
   ]
  },
  {
   "attachments": {},
   "cell_type": "markdown",
   "metadata": {},
   "source": [
    "**1.3.2** Define worker utility and lamdify"
   ]
  },
  {
   "cell_type": "code",
   "execution_count": 12,
   "metadata": {},
   "outputs": [],
   "source": [
    "#Define utility as a function of optimal L* and G:\n",
    "utility = sm.log((kappa+(1-tau)*w*L_star_w)**alpha*G_new**(1-alpha))-nu*L_star_w**2/2"
   ]
  },
  {
   "cell_type": "code",
   "execution_count": 13,
   "metadata": {},
   "outputs": [],
   "source": [
    "#lambdify\n",
    "sol_utility = sm.lambdify(args=(kappa,nu,alpha,w,tau),expr=utility)"
   ]
  },
  {
   "attachments": {},
   "cell_type": "markdown",
   "metadata": {},
   "source": [
    "**1.3.3** Define parameters"
   ]
  },
  {
   "attachments": {},
   "cell_type": "markdown",
   "metadata": {},
   "source": [
    "Now we're interested in the relationship between tau and L, G and utility respectively. Therefore wage we set to it's baseline value and we specify $\\tau$ as a vector."
   ]
  },
  {
   "cell_type": "code",
   "execution_count": 14,
   "metadata": {},
   "outputs": [],
   "source": [
    "#Baseline w\n",
    "w_val = 1.0\n",
    "\n",
    "#Vector of tau. Cannot be 0 or 1.\n",
    "tau_vec = np.linspace(0.05,0.95,100)"
   ]
  },
  {
   "attachments": {},
   "cell_type": "markdown",
   "metadata": {},
   "source": [
    "**1.3.4** Run functions"
   ]
  },
  {
   "cell_type": "code",
   "execution_count": 15,
   "metadata": {},
   "outputs": [],
   "source": [
    "#labor supply\n",
    "L_tau = sol_L(kappa_val,nu_val,alpha_val,w_val,tau_vec)\n",
    "\n",
    "#government consumption\n",
    "G_tau = sol_G(kappa_val,nu_val,alpha_val,w_val,tau_vec)\n",
    "\n",
    "#utility\n",
    "u_tau = sol_utility(kappa_val,nu_val,alpha_val,w_val,tau_vec)"
   ]
  },
  {
   "attachments": {},
   "cell_type": "markdown",
   "metadata": {},
   "source": [
    "**1.3.5** Plotting the results"
   ]
  },
  {
   "cell_type": "code",
   "execution_count": 16,
   "metadata": {},
   "outputs": [
    {
     "data": {
      "image/png": "[encoded data removed]",
      "text/plain": [
       "<Figure size 1000x1000 with 3 Axes>"
      ]
     },
     "metadata": {},
     "output_type": "display_data"
    }
   ],
   "source": [
    "#Create the figure\n",
    "fig = plt.figure(figsize=(10,10))\n",
    "\n",
    "# a. Labor supply\n",
    "ax = fig.add_subplot(3,1,1)\n",
    "ax.plot(tau_vec,L_tau)\n",
    "ax.set_title('Labor supply as a function of the tax rate')\n",
    "ax.set_xlabel('Tax rate')\n",
    "ax.set_ylabel('Labor supply')\n",
    "\n",
    "#b. Government consumption\n",
    "ax = fig.add_subplot(3,1,2)\n",
    "ax.plot(tau_vec,G_tau)\n",
    "ax.set_title('Government consumption as a function of the tax rate')\n",
    "ax.set_xlabel('Tax rate')\n",
    "ax.set_ylabel('Government consumption')\n",
    "\n",
    "#c. Utility\n",
    "ax = fig.add_subplot(3,1,3)\n",
    "ax.plot(tau_vec,u_tau)\n",
    "ax.set_title('Utility as a function of the tax rate')\n",
    "ax.set_xlabel('Tax rate')\n",
    "ax.set_ylabel('Utility')\n",
    "\n",
    "plt.tight_layout()\n",
    "plt.show()"
   ]
  },
  {
   "attachments": {},
   "cell_type": "markdown",
   "metadata": {},
   "source": [
    "First, we see that the labor supply is decreasing in the tax rate. This makes intuitive sense, since a higher tax rate implies a lower disposable income, which reduces the incentive to work. \n",
    "\n",
    "Second, we see that government consumption is initially increasing in the tax rate and then around $\\tau = 0.8$ it turns to be decreasing. This makes sense, as this is essentially the Laffer curve: There is both a mechanical and a behavioral effect. Mechanically, an increase in the taxrate means a higher taxrevenue for a given behavoir. Behaviorally, as we saw above an increase in tax rate means that the worker works less.\n",
    "\n",
    "Finally, we see that utility is effectively a downward pointing second degree polynomial in the tax rate. This also makes sense, as the worker gets utility from both working and from government consumption and there is an inverse relationship between the two."
   ]
  },
  {
   "attachments": {},
   "cell_type": "markdown",
   "metadata": {},
   "source": [
    "**Question 4:** Find the socially optimal tax rate $\\tau^{\\star}\\in(0,1)$ maximizing worker utility. Illustrate your result."
   ]
  },
  {
   "attachments": {},
   "cell_type": "markdown",
   "metadata": {},
   "source": [
    "In order to answer this question, we have made some assumption which is important to stress out. In general we are solving the problem as a social planner: \n",
    "\n",
    "1. In question 1.1-1.3 we assumed that the worker did not take the government income into account when making the labor supply decision. However, the social planner will take care of this. Ceteris paribus, leading to a higher labor supply. \n",
    "2. Further, tau will also be endogenous in this case in contrast to the previous questions. The assumption in the first three question is that the worker cannot affect the tax rate, however, this is indeed possible for the social planner. \n",
    "\n",
    "Therefore, the results will be different compared to exercise 1.3. "
   ]
  },
  {
   "attachments": {},
   "cell_type": "markdown",
   "metadata": {},
   "source": [
    "**1.4.1** Finding the results"
   ]
  },
  {
   "cell_type": "code",
   "execution_count": 17,
   "metadata": {},
   "outputs": [
    {
     "name": "stdout",
     "output_type": "stream",
     "text": [
      " Optimal labor supply = 22.13. Optimal tax rate = 0.52. Utility in optimum = 1.97.\n"
     ]
    }
   ],
   "source": [
    "#We refer to the pyfile for documentation. \n",
    "opt_Q4=Q1.Question_1_4()\n",
    "#Saving results\n",
    "L_optimal_Q4,Tau_optimal_Q4, Utility_Optimal_Q4 = opt_Q4.solve_social_optimum()\n",
    "\n"
   ]
  },
  {
   "attachments": {},
   "cell_type": "markdown",
   "metadata": {},
   "source": [
    "**1.4.2** Illustration"
   ]
  },
  {
   "cell_type": "code",
   "execution_count": 18,
   "metadata": {},
   "outputs": [
    {
     "data": {
      "image/png": "[encoded data removed]",
      "text/plain": [
       "<Figure size 640x480 with 1 Axes>"
      ]
     },
     "metadata": {},
     "output_type": "display_data"
    }
   ],
   "source": [
    "\n",
    "fig = plt.figure()\n",
    "\n",
    "bx = fig.add_subplot(1,1,1)\n",
    "bx.plot(tau_vec,u_tau, label ='Decentralized solution')\n",
    "bx.set_title('Utility as a function of the tax rate')\n",
    "bx.set_xlabel('Tax rate')\n",
    "bx.scatter(Tau_optimal_Q4, Utility_Optimal_Q4, color='red', label = 'Social optimum')\n",
    "bx.set_ylabel('Utility')\n",
    "\n",
    "bx.legend()\n",
    "\n",
    "plt.show()"
   ]
  },
  {
   "attachments": {},
   "cell_type": "markdown",
   "metadata": {},
   "source": [
    "We are seeing a higher utility than possible in question 1.1-1.3. The reason relates to the externality that government spending has on utility. We are therefore internalizing the externality by using a social planner."
   ]
  },
  {
   "attachments": {},
   "cell_type": "markdown",
   "metadata": {},
   "source": [
    "A more general preference formulation for the worker is:\n",
    "\n",
    "$$\n",
    "\\begin{align*}\n",
    "\\mathcal{V}(w,\\tau,G)&=\\max_{L\\in[0,24]}\\frac{\\left[ \\left( \\alpha C^{\\frac{\\sigma-1}{\\sigma}}+(1-\\alpha) G^{\\frac{\\sigma-1}{\\sigma}} \\right)^{\\frac{\\sigma}{1-\\sigma} }\\right]^{1-\\rho}-1}{1-\\rho}- \\nu\\frac{L^{1+\\varepsilon}}{1+\\varepsilon},\\,\\,\\,\\varepsilon,\\rho,\\sigma>0,\\,\\,\\,\\rho,\\sigma\\neq1\\\\&\\text{s.t.}\\\\&C=\\kappa+(1-\\tau)wL\n",
    "\\end{align*}    \n",
    "$$\n",
    "\n",
    "Optimal labor supply is now $L^{\\star}(\\tilde{w},G)$."
   ]
  },
  {
   "attachments": {},
   "cell_type": "markdown",
   "metadata": {},
   "source": [
    "Questions 5 and 6 must be answered with the general formulation, and for 2 different set of parameters:\n",
    "\n",
    "- Set 1:  $\\sigma = 1.001$, $\\rho = 1.001$ and $\\varepsilon = 1.0$.\n",
    "- Set 2:  $\\sigma = 1.5$, $\\rho = 1.5$ and $\\varepsilon = 1.0 $."
   ]
  },
  {
   "attachments": {},
   "cell_type": "markdown",
   "metadata": {},
   "source": [
    "**Question 5:** Find the $G$ that solves $G = \\tau w L^{\\star}((1-\\tau)w,G)$ using the $\\tau$ found in question 4.\n",
    "\n",
    "*Hint: First write code that solves the worker problem for given values of $G$ and $\\tau$. Then find the correct G based on this.*"
   ]
  },
  {
   "attachments": {},
   "cell_type": "markdown",
   "metadata": {},
   "source": [
    "**Problem:** Given $\\tau$ find the G which secures that the government constraint holds. \n",
    "\n",
    "**Inputs:** $\\tau$ from exercise 4 and the other parameters. \n",
    "\n",
    "**Outputs:** The government consumption (G) which clears the market. From this we can also output working hours. \n",
    "\n",
    "**Algorithm:** `find_government_consumption()`\n",
    "\n",
    "1. Define utility functions and maximized it for given G. \n",
    "2. Based on the clearing function find the clearing value (government consumption subtracted tax income)\n",
    "3. Find the root of this function (I.e. government consumption is equal to tax income)\n",
    "4. Save the values for this case. Otherwise it will not return anything. \n",
    "\n"
   ]
  },
  {
   "attachments": {},
   "cell_type": "markdown",
   "metadata": {},
   "source": [
    "**1.5.1** Case 1"
   ]
  },
  {
   "cell_type": "code",
   "execution_count": 96,
   "metadata": {},
   "outputs": [
    {
     "name": "stdout",
     "output_type": "stream",
     "text": [
      " sigma = 1.001. rho = 1.001  G = 7.823717 -> clearing = -0.00.Working hours = 14.97\n"
     ]
    }
   ],
   "source": [
    "#We refer to the pyfile for documentation.\n",
    "opt_Q5_case1=Q1.Question_1_5(sigma=1.001,rho=1.001)\n",
    "opt_Q5_case1.find_government_consumption()\n"
   ]
  },
  {
   "attachments": {},
   "cell_type": "markdown",
   "metadata": {},
   "source": [
    "**1.5.2** Case 2"
   ]
  },
  {
   "cell_type": "code",
   "execution_count": 97,
   "metadata": {},
   "outputs": [
    {
     "name": "stdout",
     "output_type": "stream",
     "text": [
      " sigma = 1.500. rho = 1.500  G = 5.035706 -> clearing = -0.00.Working hours = 9.64\n"
     ]
    }
   ],
   "source": [
    "opt_Q5_case2=Q1.Question_1_5(sigma=1.5,rho=1.5)\n",
    "opt_Q5_case2.find_government_consumption()"
   ]
  },
  {
   "attachments": {},
   "cell_type": "markdown",
   "metadata": {},
   "source": [
    "We see that higher $\\sigma$ and $\\rho$ leads to fewer working hours. For $\\rho$ it makes intuitively sense as the discounting of consumption is higher and therefore the consumer will work less, as the disutility have not changed. "
   ]
  },
  {
   "attachments": {},
   "cell_type": "markdown",
   "metadata": {},
   "source": [
    "**Question 6:** Find the socially optimal tax rate, $\\tau^{\\star}$, maximizing worker utility, while keeping $G = \\tau w L^{\\star}((1-\\tau)w,G)$."
   ]
  },
  {
   "attachments": {},
   "cell_type": "markdown",
   "metadata": {},
   "source": [
    "**Problem:** Find the socially optimal tax rate, which maximizes worker utility. \n",
    "\n",
    "**Inputs:** The other parameters. \n",
    "\n",
    "**Outputs:** Optimal working hours, optimal tax rate and utility for the optimal case.  \n",
    "\n",
    "**Algorithm:** `solve_social_optimum_Q6()`\n",
    "\n",
    "1. Define utility functions and maximized it for $\\tau$ and G given the bounds and constraints. \n",
    "2. Save the results. "
   ]
  },
  {
   "attachments": {},
   "cell_type": "markdown",
   "metadata": {},
   "source": [
    "**1.6.1** Case 1"
   ]
  },
  {
   "cell_type": "code",
   "execution_count": 104,
   "metadata": {},
   "outputs": [
    {
     "name": "stdout",
     "output_type": "stream",
     "text": [
      " Optimal labor supply = 22.11. Optimal tax rate = 0.52. Utility in optimum = 1.97.\n"
     ]
    },
    {
     "data": {
      "image/png": "[encoded data removed]",
      "text/latex": [
       "$\\displaystyle \\left( 22.1070708235747, \\  0.522641939703802, \\  1.96673189719346\\right)$"
      ],
      "text/plain": [
       "(22.10707082357472, 0.5226419397038023, 1.966731897193459)"
      ]
     },
     "execution_count": 104,
     "metadata": {},
     "output_type": "execute_result"
    }
   ],
   "source": [
    "opt_Q6_case1=Q1.Question_1_6(sigma=1.001,rho=1.001)\n",
    "opt_Q6_case1.solve_social_optimum_Q6()"
   ]
  },
  {
   "attachments": {},
   "cell_type": "markdown",
   "metadata": {},
   "source": [
    "**1.6.2**:"
   ]
  },
  {
   "cell_type": "code",
   "execution_count": 105,
   "metadata": {},
   "outputs": [
    {
     "name": "stdout",
     "output_type": "stream",
     "text": [
      " Optimal labor supply = 13.35. Optimal tax rate = 0.54. Utility in optimum = 1.08.\n"
     ]
    },
    {
     "data": {
      "image/png": "[encoded data removed]",
      "text/latex": [
       "$\\displaystyle \\left( 13.3468569309393, \\  0.538264676178829, \\  1.0793010798506\\right)$"
      ],
      "text/plain": [
       "(13.34685693093932, 0.5382646761788293, 1.0793010798506022)"
      ]
     },
     "execution_count": 105,
     "metadata": {},
     "output_type": "execute_result"
    }
   ],
   "source": [
    "opt_Q6_case2=Q1.Question_1_6(sigma=1.5,rho=1.5)\n",
    "opt_Q6_case2.solve_social_optimum_Q6()"
   ]
  },
  {
   "attachments": {},
   "cell_type": "markdown",
   "metadata": {},
   "source": [
    "## 2. <a id='toc2_'></a>[Problem 2: Labor adjustment costs](#toc0_)"
   ]
  },
  {
   "attachments": {},
   "cell_type": "markdown",
   "metadata": {},
   "source": [
    "You own a hair salon. You employ hairdressers, $\\ell_t$, to produce haircuts, $y_t = \\ell_t$.\n",
    "\n",
    "The wage for each haridresser is $w$.\n",
    "\n",
    "The demand for haircuts implies that the price of haircuts you can charge is $p_t = \\kappa_t y_t^{-\\eta}$, where $\\kappa_t$ is a demand-shock and $\\eta \\in (0,1)$ measures the elasticity of demand.\n",
    "\n",
    "Profits are:\n",
    "\n",
    "$$\n",
    "\\Pi_t = p_t y_t - w \\ell_t = \\kappa_t \\ell_t^{1-\\eta} - w \\ell_t\n",
    "$$"
   ]
  },
  {
   "attachments": {},
   "cell_type": "markdown",
   "metadata": {},
   "source": [
    "Baseline parameters are:\n",
    "- $\\eta = 0.5$\n",
    "- $w = 1.0$"
   ]
  },
  {
   "attachments": {},
   "cell_type": "markdown",
   "metadata": {},
   "source": [
    "**Question 1:** Verify numerically that $\\ell_{t}=\\left(\\frac{(1-\\eta)\\kappa_{t}}{w}\\right)^{\\frac{1}{\\eta}}$ maximises profits, for $\\kappa\\in\\left\\{1.0 , 2.0\\right\\}$."
   ]
  },
  {
   "cell_type": "code",
   "execution_count": 21,
   "metadata": {},
   "outputs": [],
   "source": [
    "# write your code here"
   ]
  },
  {
   "attachments": {},
   "cell_type": "markdown",
   "metadata": {},
   "source": [
    "We now consider a *dynamic* version of the model.\n",
    "\n",
    "* The demand-shock is a so-called AR(1) in logs, \n",
    "\n",
    "$$\n",
    "\\log \\kappa_{t} = \\rho \\log \\kappa_{t-1} + \\epsilon_{t},\\,\\,\\, \\epsilon_{t+1} \\sim \\mathcal{N}(-0.5\\sigma_{\\epsilon}^2,\\sigma_{\\epsilon})\n",
    "$$\n",
    "\n",
    "* Any hiring or firing implies a fixed adjustment cost, $\\iota > 0 $.\n",
    "* Future profits are discounted with a monthly factor of $R \\in (0,1)$.\n",
    "\n",
    "The initial demand shock is $\\kappa_{-1} = 1$ and the planning horizon is 10 years, i.e. 120 months so $t \\in \\{0,1,2,\\dots,119\\}$. Initially you don't have any employees, $\\ell_{-1}=0$"
   ]
  },
  {
   "attachments": {},
   "cell_type": "markdown",
   "metadata": {},
   "source": [
    "\n",
    "The *ex post* value of the salon is *conditional* on the shock series is:\n",
    "\n",
    "$$\n",
    "h(\\epsilon_0,\\epsilon_1,\\dots,\\epsilon_{119}) = \\left[\\sum_{t=0}^{119}R^{-t}\\left[\\kappa_{t}\\ell_{t}^{1-\\eta}-w\\ell_{t}-\\boldsymbol{1}_{\\ell_{t}\\neq\\ell_{t-1}}\\iota\\right]\\right]\n",
    "$$\n",
    "\n",
    "The *ex ante* expected value of the salon can be approximated by\n",
    "\n",
    "$$\n",
    "H = \\mathbb{E}[h(\\epsilon_0,\\epsilon_1,\\dots,\\epsilon_{119})] \\approx \\frac{1}{K}\\sum_{k=0}^{K} h(\\epsilon_0^k,\\epsilon_1^k,\\dots,\\epsilon_{119}^k)\n",
    "$$\n",
    "\n",
    "where each $k\\in\\{0,1,\\dots,K-1\\}$ is a random shock series. Maximizing profitability means maximizing $H$.\n"
   ]
  },
  {
   "attachments": {},
   "cell_type": "markdown",
   "metadata": {},
   "source": [
    "Baseline parameters are: \n",
    "\n",
    "- $\\rho = 0.90$\n",
    "- $\\iota = 0.01$\n",
    "- $\\sigma_{\\epsilon} = 0.10$\n",
    "- $R = \\left(1+0.01\\right)^{1/12}$"
   ]
  },
  {
   "attachments": {},
   "cell_type": "markdown",
   "metadata": {},
   "source": [
    "**Question 2:** Calculate $H$ if the policy  $\\ell_{t}=\\left(\\frac{(1-\\eta)\\kappa_{t}}{w}\\right)^{\\frac{1}{\\eta}}$ from question 1 is followed. Choose $K$ so the approximation is good enough to not affect your results substantially."
   ]
  },
  {
   "cell_type": "code",
   "execution_count": 22,
   "metadata": {},
   "outputs": [],
   "source": [
    "# write your code here "
   ]
  },
  {
   "attachments": {},
   "cell_type": "markdown",
   "metadata": {},
   "source": [
    "Next, we consider policies on the form:\n",
    "\n",
    "$$\n",
    "\n",
    "\\ell_{t}=\\begin{cases}\n",
    "\\ell_t^{\\ast}  & \\text{if }\\left|\\ell_{t-1}-\\ell_t^{\\ast} \\right|>\\Delta\\\\\n",
    "\\ell_{t-1} & \\text{else }\n",
    "\\end{cases}\n",
    "\\\\\n",
    "\\text{where}\\,\\,\\ell_t^{\\ast} = \\left(\\frac{(1-\\eta)\\kappa_{t}}{w}\\right)^{\\frac{1}{\\eta}} \\\\\n",
    "\n",
    "$$\n",
    "With $\\Delta \\geq 0$ and $\\Delta = 0$ being the previous policy.\n"
   ]
  },
  {
   "attachments": {},
   "cell_type": "markdown",
   "metadata": {},
   "source": [
    "\n",
    "**Question 3:** Calculate $H$ if the policy above was followed with $\\Delta = 0.05$. Does it improve profitability?"
   ]
  },
  {
   "cell_type": "code",
   "execution_count": 23,
   "metadata": {},
   "outputs": [],
   "source": [
    "# write your code here"
   ]
  },
  {
   "attachments": {},
   "cell_type": "markdown",
   "metadata": {},
   "source": [
    "**Question 4:** Find the optimal $\\Delta$ maximizing $H$. Illustrate your result."
   ]
  },
  {
   "cell_type": "code",
   "execution_count": 24,
   "metadata": {},
   "outputs": [],
   "source": [
    "# write your code here"
   ]
  },
  {
   "attachments": {},
   "cell_type": "markdown",
   "metadata": {},
   "source": [
    "\n",
    "**Question 5:** Suggest an alternative policy you believe might improve profitability. Implement and test your policy.\n",
    "\n"
   ]
  },
  {
   "cell_type": "code",
   "execution_count": 25,
   "metadata": {},
   "outputs": [],
   "source": [
    "# write your code here"
   ]
  },
  {
   "attachments": {},
   "cell_type": "markdown",
   "metadata": {},
   "source": [
    "## 3. <a id='toc3_'></a>[Problem 3: Global optimizer with refined multi-start](#toc0_)"
   ]
  },
  {
   "attachments": {},
   "cell_type": "markdown",
   "metadata": {},
   "source": [
    "We consider the Griewank function:\n",
    "\n",
    "$$ f(\\boldsymbol{x}) = \\sum^n_{i=1} \\frac{x^2_i}{4000}-\\prod^n_{i=1}\\cos\\left(\\frac{x_i}{\\sqrt{i}}\\right)+1$$\n",
    "\n",
    "The **global minimum** of this function is $f(0,0) = 0$ (remember: $\\cos(0)=1$).<br>\n",
    "But the function also have a lot of **local minima**."
   ]
  },
  {
   "cell_type": "code",
   "execution_count": 26,
   "metadata": {},
   "outputs": [],
   "source": [
    "def griewank(x):\n",
    "    return griewank_(x[0],x[1])\n",
    "    \n",
    "def griewank_(x1,x2):\n",
    "    A = x1**2/4000 + x2**2/4000\n",
    "    B = np.cos(x1/np.sqrt(1))*np.cos(x2/np.sqrt(2))\n",
    "    return A-B+1"
   ]
  },
  {
   "attachments": {},
   "cell_type": "markdown",
   "metadata": {},
   "source": [
    "A **refined global optimizer with multi-start** is:\n",
    "\n",
    "1. Choose *bounds* for $\\mathbf{x}$ and *tolerance* $\\tau > 0$.\n",
    "2. Choose number of *warm-up iterations*, $\\underline{K} > 0$ and *maximum number of iterations*, $K > \\underline{K}$.\n",
    "3. In each iteration for $k \\in \\{0,1,\\dots,K-1\\}$:\n",
    "\n",
    "    A. Draw random $\\mathbf{x}^k$ uniformly within chosen bounds.\n",
    "\n",
    "    B. If $k < \\underline{K}$ go to step E.\n",
    "\n",
    "    C. Calculate $\\chi^k = 0.50\\cdot\\frac{2}{1+\\exp((k-\\underline{K})/100)}$  \n",
    "\n",
    "    D. Set $\\mathbf{x}^{k0} = \\chi^k \\mathbf{x}^k + (1-\\chi^k)\\mathbf{x}^{\\ast} $\n",
    "\n",
    "    E. Run optimizer with $\\mathbf{x}^{k0}$ as initial guess and $\\mathbf{x}^{k\\ast}$ as result.\n",
    "\n",
    "    F. Set $\\mathbf{x}^{\\ast} = \\mathbf{x}^{k\\ast}$ if $k = 0$ or $f(\\mathbf{x}^{k\\ast}) < f(\\mathbf{x}^{\\ast})$\n",
    "\n",
    "    G. If $f(\\mathbf{x}^{\\ast}) < \\tau$ go to step 4.\n",
    "\n",
    "4. Return the result $\\mathbf{x}^{\\ast}$."
   ]
  },
  {
   "attachments": {},
   "cell_type": "markdown",
   "metadata": {},
   "source": [
    "As settings we choose:\n",
    "\n",
    "* $x_1,x_2 \\in  [-600,600]$\n",
    "* $\\tau = 10^{-8}$\n",
    "* $\\underline{K}=10$\n",
    "* $K=1000$\n",
    "\n",
    "The optimizer in Step 3.E is `BFGS` with a tolerance of $\\tau$."
   ]
  },
  {
   "attachments": {},
   "cell_type": "markdown",
   "metadata": {},
   "source": [
    "**Question 1:** Implement the refined global optimizer with multi-start. Illustrate how the effective initial guesses $\\mathbf{x}^{k0}$ vary with the iteration counter $k$."
   ]
  },
  {
   "cell_type": "code",
   "execution_count": 27,
   "metadata": {},
   "outputs": [],
   "source": [
    "# write your code here"
   ]
  },
  {
   "attachments": {},
   "cell_type": "markdown",
   "metadata": {},
   "source": [
    "**Question 2:** Is it a better idea to set $\\underline{K} = 100$? Is the convergence faster?"
   ]
  },
  {
   "cell_type": "code",
   "execution_count": 28,
   "metadata": {},
   "outputs": [],
   "source": [
    "# write your code here"
   ]
  }
 ],
 "metadata": {
  "kernelspec": {
   "display_name": "base",
   "language": "python",
   "name": "python3"
  },
  "language_info": {
   "codemirror_mode": {
    "name": "ipython",
    "version": 3
   },
   "file_extension": ".py",
   "mimetype": "text/x-python",
   "name": "python",
   "nbconvert_exporter": "python",
   "pygments_lexer": "ipython3",
   "version": "3.10.11"
  },
  "orig_nbformat": 4
 },
 "nbformat": 4,
 "nbformat_minor": 2
}
