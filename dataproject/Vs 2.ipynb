{
 "cells": [
  {
   "cell_type": "markdown",
   "metadata": {},
   "source": [
    "# YOUR PROJECT TITLE"
   ]
  },
  {
   "attachments": {},
   "cell_type": "markdown",
   "metadata": {},
   "source": [
    "> **Note the following:** \n",
    "> 1. This is *not* meant to be an example of an actual **data analysis project**, just an example of how to structure such a project.\n",
    "> 1. Remember the general advice on structuring and commenting your code\n",
    "> 1. The `dataproject.py` file includes a function which can be used multiple times in this notebook."
   ]
  },
  {
   "attachments": {},
   "cell_type": "markdown",
   "metadata": {},
   "source": [
    "To do:\n",
    "\n",
    "skal vi fjerne kategorien \"All Denmark\"? Eller bruge den til noget. Den forsvinder ved inner join, men gør det eksplicit - Noteret i merged_000\n",
    "\n",
    "Deskriptiv statistik - Variation over årene?\n",
    "\n",
    "Rydde op i koden\n",
    "\n",
    "Fjerne decimaler i årstal for slider. "
   ]
  },
  {
   "cell_type": "markdown",
   "metadata": {},
   "source": [
    "Imports and set magics:"
   ]
  },
  {
   "cell_type": "code",
   "execution_count": 3,
   "metadata": {},
   "outputs": [
    {
     "name": "stdout",
     "output_type": "stream",
     "text": [
      "Requirement already satisfied: geopandas in c:\\users\\bruger\\anaconda3\\lib\\site-packages (0.12.2)\n",
      "Requirement already satisfied: pyproj>=2.6.1.post1 in c:\\users\\bruger\\anaconda3\\lib\\site-packages (from geopandas) (3.5.0)\n",
      "Requirement already satisfied: packaging in c:\\users\\bruger\\anaconda3\\lib\\site-packages (from geopandas) (22.0)\n",
      "Requirement already satisfied: fiona>=1.8 in c:\\users\\bruger\\anaconda3\\lib\\site-packages (from geopandas) (1.9.3)\n",
      "Requirement already satisfied: pandas>=1.0.0 in c:\\users\\bruger\\anaconda3\\lib\\site-packages (from geopandas) (1.5.2)\n",
      "Requirement already satisfied: shapely>=1.7 in c:\\users\\bruger\\anaconda3\\lib\\site-packages (from geopandas) (2.0.1)\n",
      "Requirement already satisfied: attrs>=19.2.0 in c:\\users\\bruger\\anaconda3\\lib\\site-packages (from fiona>=1.8->geopandas) (22.1.0)\n",
      "Requirement already satisfied: click~=8.0 in c:\\users\\bruger\\anaconda3\\lib\\site-packages (from fiona>=1.8->geopandas) (8.0.4)\n",
      "Requirement already satisfied: cligj>=0.5 in c:\\users\\bruger\\anaconda3\\lib\\site-packages (from fiona>=1.8->geopandas) (0.7.2)\n",
      "Requirement already satisfied: importlib-metadata in c:\\users\\bruger\\anaconda3\\lib\\site-packages (from fiona>=1.8->geopandas) (4.11.3)\n",
      "Requirement already satisfied: click-plugins>=1.0 in c:\\users\\bruger\\anaconda3\\lib\\site-packages (from fiona>=1.8->geopandas) (1.1.1)\n",
      "Requirement already satisfied: munch>=2.3.2 in c:\\users\\bruger\\anaconda3\\lib\\site-packages (from fiona>=1.8->geopandas) (2.5.0)\n",
      "Requirement already satisfied: certifi in c:\\users\\bruger\\anaconda3\\lib\\site-packages (from fiona>=1.8->geopandas) (2022.12.7)\n",
      "Requirement already satisfied: numpy>=1.20.3 in c:\\users\\bruger\\anaconda3\\lib\\site-packages (from pandas>=1.0.0->geopandas) (1.23.5)\n",
      "Requirement already satisfied: python-dateutil>=2.8.1 in c:\\users\\bruger\\anaconda3\\lib\\site-packages (from pandas>=1.0.0->geopandas) (2.8.2)\n",
      "Requirement already satisfied: pytz>=2020.1 in c:\\users\\bruger\\anaconda3\\lib\\site-packages (from pandas>=1.0.0->geopandas) (2022.7)\n",
      "Requirement already satisfied: colorama in c:\\users\\bruger\\anaconda3\\lib\\site-packages (from click~=8.0->fiona>=1.8->geopandas) (0.4.6)\n",
      "Requirement already satisfied: six in c:\\users\\bruger\\anaconda3\\lib\\site-packages (from munch>=2.3.2->fiona>=1.8->geopandas) (1.16.0)\n",
      "Requirement already satisfied: zipp>=0.5 in c:\\users\\bruger\\anaconda3\\lib\\site-packages (from importlib-metadata->fiona>=1.8->geopandas) (3.11.0)\n",
      "Note: you may need to restart the kernel to use updated packages.\n",
      "Requirement already satisfied: mapclassify in c:\\users\\bruger\\anaconda3\\lib\\site-packages (2.5.0)\n",
      "Requirement already satisfied: numpy>=1.3 in c:\\users\\bruger\\anaconda3\\lib\\site-packages (from mapclassify) (1.23.5)\n",
      "Requirement already satisfied: pandas>=1.0 in c:\\users\\bruger\\anaconda3\\lib\\site-packages (from mapclassify) (1.5.2)\n",
      "Requirement already satisfied: scikit-learn in c:\\users\\bruger\\anaconda3\\lib\\site-packages (from mapclassify) (1.0.2)\n",
      "Requirement already satisfied: scipy>=1.0 in c:\\users\\bruger\\anaconda3\\lib\\site-packages (from mapclassify) (1.10.0)\n",
      "Requirement already satisfied: networkx in c:\\users\\bruger\\anaconda3\\lib\\site-packages (from mapclassify) (2.8.4)\n",
      "Requirement already satisfied: python-dateutil>=2.8.1 in c:\\users\\bruger\\anaconda3\\lib\\site-packages (from pandas>=1.0->mapclassify) (2.8.2)\n",
      "Requirement already satisfied: pytz>=2020.1 in c:\\users\\bruger\\anaconda3\\lib\\site-packages (from pandas>=1.0->mapclassify) (2022.7)\n",
      "Requirement already satisfied: threadpoolctl>=2.0.0 in c:\\users\\bruger\\anaconda3\\lib\\site-packages (from scikit-learn->mapclassify) (2.2.0)\n",
      "Requirement already satisfied: joblib>=0.11 in c:\\users\\bruger\\anaconda3\\lib\\site-packages (from scikit-learn->mapclassify) (1.1.1)\n",
      "Requirement already satisfied: six>=1.5 in c:\\users\\bruger\\anaconda3\\lib\\site-packages (from python-dateutil>=2.8.1->pandas>=1.0->mapclassify) (1.16.0)\n",
      "Note: you may need to restart the kernel to use updated packages.\n",
      "The autoreload extension is already loaded. To reload it, use:\n",
      "  %reload_ext autoreload\n"
     ]
    },
    {
     "ename": "SyntaxError",
     "evalue": "invalid syntax (dataproject.py, line 2)",
     "output_type": "error",
     "traceback": [
      "Traceback \u001b[1;36m(most recent call last)\u001b[0m:\n",
      "  File \u001b[0;32m\"c:\\Users\\Bruger\\anaconda3\\lib\\site-packages\\IPython\\core\\interactiveshell.py\"\u001b[0m, line \u001b[0;32m3457\u001b[0m, in \u001b[0;35mrun_code\u001b[0m\n    exec(code_obj, self.user_global_ns, self.user_ns)\n",
      "\u001b[1;36m  File \u001b[1;32m\"C:\\Users\\Bruger\\AppData\\Local\\Temp\\ipykernel_14228\\3146868596.py\"\u001b[1;36m, line \u001b[1;32m18\u001b[1;36m, in \u001b[1;35m<module>\u001b[1;36m\u001b[0m\n\u001b[1;33m    import dataproject\u001b[0m\n",
      "\u001b[1;36m  File \u001b[1;32m\"c:\\Users\\Bruger\\IntroProg\\projects-2023-andershuus_christianfogel\\dataproject\\dataproject.py\"\u001b[1;36m, line \u001b[1;32m2\u001b[0m\n\u001b[1;33m    %pip install geopandas\u001b[0m\n\u001b[1;37m    ^\u001b[0m\n\u001b[1;31mSyntaxError\u001b[0m\u001b[1;31m:\u001b[0m invalid syntax\n"
     ]
    }
   ],
   "source": [
    "#Necessary to create the maps below\n",
    "%pip install geopandas\n",
    "%pip install mapclassify\n",
    "\n",
    "\n",
    "import pandas as pd\n",
    "import geopandas as gpd\n",
    "import numpy as np\n",
    "import matplotlib.pyplot as plt\n",
    "import ipywidgets as widgets\n",
    "from dstapi import DstApi\n",
    "\n",
    "# autoreload modules when code is run\n",
    "%load_ext autoreload\n",
    "%autoreload 2\n",
    "\n",
    "# user written modules\n",
    "import dataproject\n"
   ]
  },
  {
   "cell_type": "markdown",
   "metadata": {},
   "source": [
    "# Read and clean data"
   ]
  },
  {
   "attachments": {},
   "cell_type": "markdown",
   "metadata": {},
   "source": [
    "We have three data sets overall: \n",
    "1. Data for the **average family income**. \n",
    "2. Data for numbers of **member of the church**. \n",
    "3. Data for the **location of municipalities**. "
   ]
  },
  {
   "cell_type": "code",
   "execution_count": 4,
   "metadata": {},
   "outputs": [],
   "source": [
    "inc = DstApi('INDKP132')\n",
    "church = DstApi('KM6')"
   ]
  },
  {
   "attachments": {},
   "cell_type": "markdown",
   "metadata": {},
   "source": [
    "**1. Income data (Tabel: Inc):**"
   ]
  },
  {
   "cell_type": "code",
   "execution_count": 5,
   "metadata": {},
   "outputs": [],
   "source": [
    "#We specify what we select from the dataset. We want the average family, and we want to see the total and \n",
    "#not specific income intervals.\n",
    "params = {'table': 'indkf132',\n",
    " 'format': 'BULK',\n",
    " 'lang': 'en',\n",
    " 'variables': [{'code': 'OMRÅDE', 'values': ['*']},\n",
    "  {'code': 'ENHED', 'values': ['117']}, #Average income for families in the group (DKK)\n",
    "  {'code': 'FAMTYP', 'values': ['*']},\n",
    "  {'code': 'INDKINTB', 'values': ['99']}, #Total\n",
    "  {'code': 'Tid', 'values': ['*']}]}\n",
    "\n",
    "#We apply the dictionary created above to get our dataset.\n",
    "inc_table = inc.get_data(params=params)\n",
    "\n",
    "#We sort the data.\n",
    "inc_table.sort_values(by=['OMRÅDE', 'TID', 'FAMTYP'], inplace=True)\n",
    "\n",
    "#Removing non-used columns to simplify the data set\n",
    "inc_table_000=inc_table.loc[:, ['OMRÅDE', 'TID', 'FAMTYP','INDHOLD']]\n",
    "\n",
    "#We only save average income for families (for each municipality and year)\n",
    "I = inc_table_000.FAMTYP.str.contains('Families, total')\n",
    "inc_table_010 = inc_table_000.loc[I,['OMRÅDE', 'TID', 'INDHOLD']]\n",
    "\n",
    "#We rename variables. The first two are made for inner join latter in the code. The last variable is\n",
    "#to give a more meaningful name. \n",
    "inc_table_020=inc_table_010.rename(columns={'OMRÅDE':'MUNICIPALITY', 'TID':'YEAR','INDHOLD': 'AVG_FAM_INC'})"
   ]
  },
  {
   "attachments": {},
   "cell_type": "markdown",
   "metadata": {},
   "source": [
    "**2. Church data (Tabel: Church):**"
   ]
  },
  {
   "cell_type": "code",
   "execution_count": 8,
   "metadata": {},
   "outputs": [],
   "source": [
    "#The displays the different variables. However deactivated after the first initial steps. : \n",
    "#tabsum = church.tablesummary(language='en')\n",
    "#for variable in tabsum['variable name']:\n",
    "    #print(variable+':')\n",
    "    #display(church.variable_levels(variable, language='en'))\n",
    "\n",
    "#We define a dictionary that loads all variables in the church dataset.\n",
    "params = church._define_base_params(language='en')\n",
    "\n",
    "#We load the dataset from the DST API and load all variables using the dictionary created above\n",
    "church_table = church.get_data(params=params)\n",
    "\n",
    "#We sort the data\n",
    "church_table.sort_values(by=['KOMK', 'TID', 'FKMED'], inplace=True)\n",
    "\n",
    "#Rename variables\n",
    "church_table_000=church_table.rename(columns={'KOMK':'MUNICIPALITY','TID':'YEAR','INDHOLD':'NUMBER_OF_INDIVIDUALS'})\n",
    "\n",
    "#We calculate the number of members and non-members for each municipality and year\n",
    "church_grouped=church_table_000.groupby(['MUNICIPALITY', 'YEAR', 'FKMED'])['NUMBER_OF_INDIVIDUALS'].apply('sum')\n",
    "\n",
    "#We drop duplicates, so we only have one row per municipality, year and membership status\n",
    "church_table_010 = church_table_000.drop_duplicates(subset=['MUNICIPALITY', 'YEAR', 'FKMED'])\n",
    "\n",
    "#We only keep the categorical variables as we will merch the numbers on in the next step\n",
    "church_table_020=church_table_010.loc[:,['MUNICIPALITY', 'YEAR', 'FKMED']]\n",
    "\n",
    "#We now merge the grouped values on the dataset.\n",
    "church_table_030 = church_table_020.set_index(['MUNICIPALITY', 'YEAR', 'FKMED']).join(church_grouped, how='left').reset_index()\n",
    "\n",
    "#We transpose to get a variable for each outcome of FKMED. This is useful for the figures later on. \n",
    "church_table_040 = church_table_030.pivot(index=['MUNICIPALITY', 'YEAR'], columns='FKMED', values='NUMBER_OF_INDIVIDUALS').reset_index()\n"
   ]
  },
  {
   "cell_type": "markdown",
   "metadata": {},
   "source": [
    "**Merge of income and church data**"
   ]
  },
  {
   "cell_type": "code",
   "execution_count": null,
   "metadata": {},
   "outputs": [],
   "source": [
    "#We do an inner join, so that we don't have any missing values. \n",
    "#Therefore, the municipality \"All Denmark\" will be deleted. \n",
    "merged_000 = pd.merge(church_table_040,inc_table_020,how='inner',on=['MUNICIPALITY','YEAR'])\n",
    "\n",
    "#Changing names - We have to do this so it fits with the geojson file. \n",
    "merged_000.loc[merged_000.MUNICIPALITY == 'Copenhagen', 'MUNICIPALITY'] = 'København'\n",
    "merged_000.loc[merged_000.MUNICIPALITY == 'Høje-Taastrup', 'MUNICIPALITY'] = 'Høje Taastrup'\n",
    "\n",
    "#Making a new variable. % of the population which is member of the church. Further, get the income in 1000 DKK\n",
    "merged_000['% non-members']=100*(1-merged_000['Member of National Church']\n",
    "                            /(merged_000['Member of National Church']+merged_000['Not member of National Church']))\n",
    "merged_000['avg_fam_inc_1000']=merged_000['AVG_FAM_INC']/1000"
   ]
  },
  {
   "attachments": {},
   "cell_type": "markdown",
   "metadata": {},
   "source": [
    "**3. Geographic data**"
   ]
  },
  {
   "cell_type": "code",
   "execution_count": null,
   "metadata": {},
   "outputs": [],
   "source": [
    "#Getting the data with positional data for the map. This is so the code can connect the names with\n",
    "#the locations of the municipalities. \n",
    "gdf = gpd.read_file('kommuner.geojson')\n",
    "#Renaming so we have the same variable name. Otherwise, we cannot make a merge. \n",
    "gdf_000=gdf.rename(columns={'KOMNAVN':'MUNICIPALITY'})\n"
   ]
  },
  {
   "cell_type": "markdown",
   "metadata": {},
   "source": [
    "**Merging data from DST with geographical data**"
   ]
  },
  {
   "cell_type": "code",
   "execution_count": null,
   "metadata": {},
   "outputs": [],
   "source": [
    "#Merging the locational data with the datasets from Statistics Denmark\n",
    "merged_010 = pd.merge(merged_000,gdf_000,how='left',on=['MUNICIPALITY'])"
   ]
  },
  {
   "cell_type": "markdown",
   "metadata": {},
   "source": [
    "# Analysis"
   ]
  },
  {
   "cell_type": "code",
   "execution_count": null,
   "metadata": {},
   "outputs": [],
   "source": [
    "#We choose the year 2021 for the maps. \n",
    "merged_015=merged_010.loc[merged_010['YEAR']==2021]\n",
    "\n",
    "#Make it into a geodataframe. This is needed to show the map. \n",
    "merged_020 = gpd.GeoDataFrame(merged_015, geometry='geometry')\n",
    "\n",
    "#Plotting. cmap is the color. set_axis_off remove latitude and longitude as they are not used. \n",
    "merged_020.plot(column='% non-members', \n",
    "                legend=True, \n",
    "                cmap='inferno',\n",
    "                legend_kwds={'label': \"% of population not member of the church\", 'orientation': \"horizontal\"} \n",
    "                ).set_axis_off()\n",
    "#Give it a title. \n",
    "plt.title(\"Non-Members of the Danish Church (2021)\")"
   ]
  },
  {
   "cell_type": "code",
   "execution_count": null,
   "metadata": {},
   "outputs": [],
   "source": [
    "#Making map with income. \n",
    "merged_020.plot(column='avg_fam_inc_1000', \n",
    "                legend=True, \n",
    "                cmap='inferno',\n",
    "                legend_kwds={'label': \"Average family income (1000 DKK)\", 'orientation': \"horizontal\"} \n",
    "                ).set_axis_off()\n",
    "plt.title(\"Average family income (2021)\")"
   ]
  },
  {
   "cell_type": "code",
   "execution_count": null,
   "metadata": {},
   "outputs": [],
   "source": [
    "#Making an interactive map, where we can see the values for all municipalities. \n",
    "\n",
    "merged_020.explore(column='% non-members', \n",
    "                   legend=True, \n",
    "                   legend_kwds={'label': \"% of population\", 'orientation': \"horizontal\"},\n",
    "                   cmap='inferno',\n",
    "                   width='70%',\n",
    "                   height='70%',\n",
    "                   highlight=True)\n"
   ]
  },
  {
   "cell_type": "code",
   "execution_count": null,
   "metadata": {},
   "outputs": [],
   "source": [
    "merged_020.explore(column='avg_fam_inc_1000', \n",
    "                   legend=True, \n",
    "                   legend_kwds={'label': \"Average Family Income (1000 DKK)\", 'orientation': \"horizontal\"},\n",
    "                   cmap='inferno',\n",
    "                   width='70%',\n",
    "                   height='70%',\n",
    "                   highlight=True)"
   ]
  },
  {
   "cell_type": "code",
   "execution_count": null,
   "metadata": {},
   "outputs": [],
   "source": [
    "#Add scatter with slicer. We use the dataset for all periods in order to have a slider with the periods\n",
    "#This is dataset merged_010 as we only keep 2021 in merged_015\n",
    "def figure(time):\n",
    "    \n",
    "    scatter_000 = merged_010[merged_010['YEAR'] == time]\n",
    "    fig=plt.figure(dpi=100)\n",
    "    ax=fig.add_subplot(1,1,1)\n",
    "    ax.scatter(scatter_000['% non-members'], scatter_000.avg_fam_inc_1000, color=(148/255.,141/255.,134/255.))\n",
    "\n",
    "    ax.set_title('Non members of church and average family income: 2011-2021', color=(7/255., 9/255., 74/255.))\n",
    "    ax.set_xlabel('Non members of the church in % of population', color=(7/255., 9/255., 74/255.))\n",
    "    ax.set_ylabel('Average family income (1000 DKK)', color=(7/255., 9/255., 74/255.))\n",
    "    ax.grid(True)\n",
    "\n",
    "    ax.set_xlim(0,70)\n",
    "    ax.set_ylim(200,900)\n",
    "\n",
    "\n",
    "    plt.show()"
   ]
  },
  {
   "cell_type": "code",
   "execution_count": null,
   "metadata": {},
   "outputs": [],
   "source": [
    "widgets.interact(figure, \n",
    "                 time=widgets.FloatSlider(min=merged_010['YEAR'].min(), \n",
    "                                          max=merged_010['YEAR'].max(), step=1, \n",
    "                                          value=merged_010['YEAR'].max())\n",
    ");"
   ]
  },
  {
   "cell_type": "markdown",
   "metadata": {},
   "source": [
    "# Conclusion"
   ]
  },
  {
   "cell_type": "markdown",
   "metadata": {},
   "source": [
    "ADD CONCISE CONLUSION."
   ]
  }
 ],
 "metadata": {
  "kernelspec": {
   "display_name": "base",
   "language": "python",
   "name": "python3"
  },
  "language_info": {
   "codemirror_mode": {
    "name": "ipython",
    "version": 3
   },
   "file_extension": ".py",
   "mimetype": "text/x-python",
   "name": "python",
   "nbconvert_exporter": "python",
   "pygments_lexer": "ipython3",
   "version": "3.9.16"
  },
  "toc-autonumbering": true,
  "vscode": {
   "interpreter": {
    "hash": "47ef90cdf3004d3f859f1fb202523c65c07ba7c22eefd261b181f4744e2d0403"
   }
  }
 },
 "nbformat": 4,
 "nbformat_minor": 4
}
