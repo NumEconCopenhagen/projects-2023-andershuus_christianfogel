{
 "cells": [
  {
   "attachments": {},
   "cell_type": "markdown",
   "metadata": {},
   "source": [
    "# YOUR PROJECT TITLE"
   ]
  },
  {
   "attachments": {},
   "cell_type": "markdown",
   "metadata": {},
   "source": [
    "> **Note the following:** \n",
    "> 1. This is *not* meant to be an example of an actual **model analysis project**, just an example of how to structure such a project.\n",
    "> 1. Remember the general advice on structuring and commenting your code\n",
    "> 1. The `modelproject.py` file includes a function which could be used multiple times in this notebook."
   ]
  },
  {
   "attachments": {},
   "cell_type": "markdown",
   "metadata": {},
   "source": [
    "Imports and set magics:"
   ]
  },
  {
   "cell_type": "code",
   "execution_count": 117,
   "metadata": {},
   "outputs": [
    {
     "name": "stdout",
     "output_type": "stream",
     "text": [
      "The autoreload extension is already loaded. To reload it, use:\n",
      "  %reload_ext autoreload\n"
     ]
    }
   ],
   "source": [
    "import numpy as np\n",
    "from scipy import optimize\n",
    "import sympy as sm\n",
    "import ipywidgets as widgets # Interactive plots\n",
    "import matplotlib.pyplot as plt\n",
    "\n",
    "# autoreload modules when code is run\n",
    "%load_ext autoreload\n",
    "%autoreload 2\n",
    "\n",
    "# local modules\n",
    "import modelproject as mod"
   ]
  },
  {
   "attachments": {},
   "cell_type": "markdown",
   "metadata": {},
   "source": [
    "Layout\n",
    "2. Analytical solution - Use standard solution - Sunday\n",
    "3. Numerical - Find output - Sunday\n",
    "4. Two extension - 1. CES utility functions (Tuesday). 2. More consumers (Tuesday). (3. Combination?) (4. More goods)\n",
    "5. Conclusion (Thursday)"
   ]
  },
  {
   "attachments": {},
   "cell_type": "markdown",
   "metadata": {},
   "source": [
    "# 1. Model description of baseline model"
   ]
  },
  {
   "attachments": {},
   "cell_type": "markdown",
   "metadata": {},
   "source": [
    "**Time:** One period."
   ]
  },
  {
   "attachments": {},
   "cell_type": "markdown",
   "metadata": {},
   "source": [
    "**Demographics:** Initially two consumers with initial endowments. Later we will add more consumers"
   ]
  },
  {
   "attachments": {},
   "cell_type": "markdown",
   "metadata": {},
   "source": [
    "**Household:** For our baseline model we assume that both consumers have Cobb-Douglas preferences, where the relative preferences can be different for the two consumers\n",
    "$$\n",
    "\\begin{aligned}\n",
    "u_i & =c_{1i}^{\\alpha_i}*c_{2i}^{1-\\alpha_i},i\\in(1,2)\n",
    " & \\text{s.t.}\\\\\n",
    " & I_i=p*e_{1i}+e_{2i} \\ge p*c_{1i}+c_{2i}\\\\\n",
    " & E_1=c_{11}+c_{12}\\\\\n",
    " & E_2=c_{21}+c_{22}\\\\\n",
    " & E_1=e_{11}+e_{12}\\\\\n",
    " & E_2=e_{21}+e_{22}\n",
    "\\end{aligned}\n",
    "$$\n",
    "\n",
    "where the notation of the subscript is that the first number is the good number and the second one is the consumer's number. The price of good 2 is set to be a numeraire. The second equation is the income restriction, where we further can assume monotonicity, so it will be: \n",
    " $$\n",
    "\\begin{aligned}\n",
    " & I_i=p_1*e_{1i}+e_{2i} = p_1*c_{1i}+c_{2i}\\\\\n",
    "\\end{aligned}\n",
    "$$"
   ]
  },
  {
   "attachments": {},
   "cell_type": "markdown",
   "metadata": {},
   "source": [
    "**Equilibrium:** We want to maximize the utility given the endowments and the relevate preferences\n",
    "\n"
   ]
  },
  {
   "attachments": {},
   "cell_type": "markdown",
   "metadata": {},
   "source": [
    "## 2. Analytical solution"
   ]
  },
  {
   "attachments": {},
   "cell_type": "markdown",
   "metadata": {},
   "source": [
    "The baseline model can be solved analytically. The starting point is to derive the consumer's demand for each good. This could done by finding the FOC, but as we have Cobb-Douglas preferences we know the standard solution: \n",
    "\n",
    "$$\n",
    "\\begin{aligned}\n",
    "& c_1^{i^*}=\\alpha_i*\\frac{I_i}{p} = \\alpha_i *\\frac {p*e_{1i}+e_{2i}}{p}\\\\\n",
    "& c_2^{i^*}=(1-\\alpha_i)*{I_i} = (1-\\alpha_i)*(p*e_{1i}+e_{2i})\n",
    "\\end{aligned}\n",
    "$$"
   ]
  },
  {
   "attachments": {},
   "cell_type": "markdown",
   "metadata": {},
   "source": [
    "The equilibrium is then by found by setting supply (initial endowments) equal to the aggregated demand, where we want to isolate for the price: \n",
    "$$\n",
    "\\begin{aligned}\n",
    "& \\alpha_1 *\\frac {p*e_{11}+e_{21}}{p}+\\alpha_2 *\\frac {p*e_{12}+e_{22}}{p}=e_{11}+e_{12}\\\\\n",
    "& \\leftrightarrow p = \\frac {\\alpha_1*e_{21}+\\alpha_2*e_{22}}{e_{11}(1-\\alpha_1)+e_{12}(1-\\alpha_2)}\n",
    "\\end{aligned}\n",
    "$$"
   ]
  },
  {
   "attachments": {},
   "cell_type": "markdown",
   "metadata": {},
   "source": [
    "We know the other market will also clear, when the first has been clear (Walras' law). Therefore, we can insert the price into the demand: \n",
    "\n",
    "$$\n",
    "\\begin{aligned}\n",
    "&c_1^{i^*}=\\alpha_i(e_{1i}+e_{2i}*\\frac {e_{11}(1-\\alpha_1)+e_{12}(1-\\alpha_2)} {\\alpha_1*e_{21}+\\alpha_2*e_{22}})\\\\\n",
    "&c_2^{i^*}=(1-\\alpha_i)*(\\frac {\\alpha_1*e_{21}+\\alpha_2*e_{22}}{e_{11}(1-\\alpha_1)+e_{12}(1-\\alpha_2)}*e_{1i}+e_{2i})\n",
    "\\end{aligned}\n",
    "$$"
   ]
  },
  {
   "attachments": {},
   "cell_type": "markdown",
   "metadata": {},
   "source": [
    "Now we have the general solution. This can be illustrated by using specific values for the parameters in the model. "
   ]
  },
  {
   "cell_type": "code",
   "execution_count": 118,
   "metadata": {},
   "outputs": [
    {
     "data": {
      "application/vnd.jupyter.widget-view+json": {
       "model_id": "a329f024738e4c2abdf5a3a3762d7e45",
       "version_major": 2,
       "version_minor": 0
      },
      "text/plain": [
       "interactive(children=(FloatSlider(value=0.5, description='alpha2', max=0.99, step=0.05), FloatSlider(value=5.0…"
      ]
     },
     "metadata": {},
     "output_type": "display_data"
    }
   ],
   "source": [
    "# Write out which arguments to interactive_figure you want to be changing or staying fixed \n",
    "widgets.interact(mod.interactive_figure,\n",
    "    alpha2=widgets.FloatSlider(description=r\"alpha2\", min=0.0, max=0.99, step=0.05, value=0.5), #Cannot be 1, because both alphas are 1 then\n",
    "    e11=widgets.FloatSlider(description=r\"e11\", min=0.0, max=20, step=1, value=5),\n",
    "    e21=widgets.FloatSlider(description=r\"e21\", min=0.0, max=20, step=1, value=5),\n",
    "    e12=widgets.FloatSlider(description=r\"e12\", min=0.0, max=20, step=1, value=5),\n",
    "    e22=widgets.FloatSlider(description=r\"e22\", min=0.0, max=20, step=1, value=5),\n",
    ");"
   ]
  },
  {
   "attachments": {},
   "cell_type": "markdown",
   "metadata": {},
   "source": [
    "## Numerical solution"
   ]
  },
  {
   "attachments": {},
   "cell_type": "markdown",
   "metadata": {},
   "source": [
    "You can always solve a model numerically. \n",
    "\n",
    "Define first the set of parameters you need. \n",
    "\n",
    "Then choose one of the optimization algorithms that we have gone through in the lectures based on what you think is most fitting for your model.\n",
    "\n",
    "Are there any problems with convergence? Does the model converge for all starting values? Make a lot of testing to figure these things out. "
   ]
  },
  {
   "attachments": {},
   "cell_type": "markdown",
   "metadata": {},
   "source": [
    "# Further analysis"
   ]
  },
  {
   "attachments": {},
   "cell_type": "markdown",
   "metadata": {},
   "source": [
    "Make detailed vizualizations of how your model changes with parameter values. \n",
    "\n",
    "Try to make an extension of the model. "
   ]
  },
  {
   "attachments": {},
   "cell_type": "markdown",
   "metadata": {},
   "source": [
    "# Conclusion"
   ]
  },
  {
   "attachments": {},
   "cell_type": "markdown",
   "metadata": {},
   "source": [
    "Add concise conclusion. "
   ]
  }
 ],
 "metadata": {
  "kernelspec": {
   "display_name": "base",
   "language": "python",
   "name": "python3"
  },
  "language_info": {
   "codemirror_mode": {
    "name": "ipython",
    "version": 3
   },
   "file_extension": ".py",
   "mimetype": "text/x-python",
   "name": "python",
   "nbconvert_exporter": "python",
   "pygments_lexer": "ipython3",
   "version": "3.9.16"
  },
  "toc-autonumbering": true,
  "vscode": {
   "interpreter": {
    "hash": "47ef90cdf3004d3f859f1fb202523c65c07ba7c22eefd261b181f4744e2d0403"
   }
  }
 },
 "nbformat": 4,
 "nbformat_minor": 4
}
