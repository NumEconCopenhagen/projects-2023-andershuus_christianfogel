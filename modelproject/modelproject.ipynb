{
 "cells": [
  {
   "attachments": {},
   "cell_type": "markdown",
   "metadata": {},
   "source": [
    "# YOUR PROJECT TITLE"
   ]
  },
  {
   "attachments": {},
   "cell_type": "markdown",
   "metadata": {},
   "source": [
    "> **Note the following:** \n",
    "> 1. This is *not* meant to be an example of an actual **model analysis project**, just an example of how to structure such a project.\n",
    "> 1. Remember the general advice on structuring and commenting your code\n",
    "> 1. The `modelproject.py` file includes a function which could be used multiple times in this notebook."
   ]
  },
  {
   "attachments": {},
   "cell_type": "markdown",
   "metadata": {},
   "source": [
    "Imports and set magics:"
   ]
  },
  {
   "cell_type": "code",
   "execution_count": 123,
   "metadata": {},
   "outputs": [
    {
     "name": "stdout",
     "output_type": "stream",
     "text": [
      "The autoreload extension is already loaded. To reload it, use:\n",
      "  %reload_ext autoreload\n"
     ]
    }
   ],
   "source": [
    "import numpy as np\n",
    "from scipy import optimize\n",
    "import sympy as sm\n",
    "import ipywidgets as widgets # Interactive plots\n",
    "import matplotlib.pyplot as plt\n",
    "\n",
    "# autoreload modules when code is run\n",
    "%load_ext autoreload\n",
    "%autoreload 2\n",
    "\n",
    "# local modules\n",
    "import modelproject as mod"
   ]
  },
  {
   "attachments": {},
   "cell_type": "markdown",
   "metadata": {},
   "source": [
    "Layout\n",
    "2. Analytical solution - Use standard solution - Sunday\n",
    "3. Numerical - Find output - Sunday\n",
    "4. Two extension - 1. CES utility functions (Tuesday). 2. More consumers (Tuesday). (3. Combination?) (4. More goods)\n",
    "5. Conclusion (Thursday)"
   ]
  },
  {
   "attachments": {},
   "cell_type": "markdown",
   "metadata": {},
   "source": [
    "# 1. Model description of baseline model"
   ]
  },
  {
   "attachments": {},
   "cell_type": "markdown",
   "metadata": {},
   "source": [
    "**Time:** One period."
   ]
  },
  {
   "attachments": {},
   "cell_type": "markdown",
   "metadata": {},
   "source": [
    "**Demographics:** Initially one consumer and one firm. The firm is owned by the consumer and therefore the income also depends on the profit. We do not assume initial goods endowments. "
   ]
  },
  {
   "attachments": {},
   "cell_type": "markdown",
   "metadata": {},
   "source": [
    "**Household:** For our baseline model we assume that the consumer has Cobb-Douglas preferences, where the two goods are the product (c) and leisure (l)\n",
    "$$\n",
    "\\begin{aligned}\n",
    "& max u =c^{\\alpha}*l^{1-\\alpha}, 0<\\alpha<1\\\\\n",
    " & \\text{s.t.}\\\\\n",
    " & I=\\Pi + w*L=p*c +w*l \\\\\n",
    "\n",
    "\\end{aligned}\n",
    "$$\n",
    "\n",
    "p is the price of the good, w is the wage, L is the initial labor endowment, l is leisure and $\\Pi$ is the profit. We have assumed monotonicity. Further, we have the firm problem: \n",
    "$$\n",
    "\\begin{aligned}\n",
    "&\\Pi =p*y-w*h\n",
    "\n",
    "\\end{aligned}\n",
    "$$\n",
    "\n",
    "The production function will be defined as follow, where the interpretation of A can be TFP: \n",
    "\n",
    "$$\n",
    "\\begin{aligned}\n",
    "&y =A*h^{\\beta}, \\beta <1 \\\\\n",
    "&max \\Pi =p*A*h^{\\beta}-w*h\n",
    "\n",
    "\\end{aligned}\n",
    "$$\n",
    "\n",
    "We assume the initial labor endowment is 24 hours, i.e. a day. We can therefore define the following relationsship in equilibrium: \n",
    "$$\n",
    "\\begin{aligned}\n",
    "&L=24=l+h\n",
    "\n",
    "\\end{aligned}\n",
    "$$\n",
    "\n",
    "\n"
   ]
  },
  {
   "attachments": {},
   "cell_type": "markdown",
   "metadata": {},
   "source": [
    "**Equilibrium:** The procedure is defined where the labor market (l+h=24) and good market (y=c) clear. Further, the firm has maximized its profit and the consumer has maximized its utility. \n",
    "\n"
   ]
  },
  {
   "attachments": {},
   "cell_type": "markdown",
   "metadata": {},
   "source": [
    "## 2. Analytical solution"
   ]
  },
  {
   "attachments": {},
   "cell_type": "markdown",
   "metadata": {},
   "source": [
    "The baseline model can be solved analytically. The starting point is to derive the firm's demand for labor. This is done by taking the FOC of the profit w.r.t. working hours. This given the following result:  \n",
    "\n",
    "$$\n",
    "\\begin{aligned}\n",
    "& h^*=(\\frac{\\beta*p*A}{w})^{\\frac{1}{1-\\beta}}\n",
    "\\end{aligned}\n",
    "$$"
   ]
  },
  {
   "attachments": {},
   "cell_type": "markdown",
   "metadata": {},
   "source": [
    "This gives the following output and profit: \n",
    "\n",
    "$$\n",
    "\\begin{aligned}\n",
    "& y^*=A*(\\frac{\\beta*p*A}{w})^{\\frac{\\beta}{1-\\beta}}\\\\\n",
    "& \\Pi^*=p*A*(\\frac{\\beta*p*A}{w})^{\\frac{\\beta}{1-\\beta}}-w(\\frac{\\beta*p*A}{w})^{\\frac{1}{1-\\beta}}\n",
    "\\end{aligned}\n",
    "$$"
   ]
  },
  {
   "attachments": {},
   "cell_type": "markdown",
   "metadata": {},
   "source": [
    "Now, we will solve for the consumer's problem. It should be noted that the working hours and profit is exogenous for the consumer as the firm has already decided this based on the prices. We have a Cobb-Douglas function and can therefore use the standard solution: \n",
    "\n",
    "$$\n",
    "\\begin{aligned}\n",
    "& c^*=\\alpha*\\frac {I}{p}\\\\\n",
    "& l^*=(1-\\alpha)*\\frac{I}{w}\n",
    "\\end{aligned}\n",
    "$$\n",
    "\n",
    "Where the income is: \n",
    "\n",
    "$$\n",
    "\\begin{aligned}\n",
    "& I= \\Pi+24 = p*A*(\\frac{\\beta*p*A}{w})^{\\frac{\\beta}{1-\\beta}}-w(\\frac{\\beta*p*A}{w})^{\\frac{1}{1-\\beta}} + 24\n",
    "\\end{aligned}\n",
    "$$\n",
    "\n"
   ]
  },
  {
   "attachments": {},
   "cell_type": "markdown",
   "metadata": {},
   "source": [
    "Now we want to find the prices in equilibrium. Lets sets the wage as numeraire, i.e. w=1. We can then solve for the labor market: \n",
    "\n",
    "$$\n",
    "\\begin{aligned}\n",
    "& l^*=24-h^*\\\\\n",
    "& \\leftrightarrow (1-\\alpha)*(p*A*(\\beta*p*A)^{\\frac{\\beta}{1-\\beta}}-(\\beta*p*A)^{\\frac{1}{1-\\beta}}+24)=24-(\\beta*p*A)^{\\frac{1}{1-\\beta}}\n",
    "\\end{aligned}\n",
    "$$\n",
    "\n",
    "Solving this for p gives: \n",
    "\n",
    "$$\n",
    "\\begin{aligned}\n",
    "& p^*=\\frac {24^{1-\\beta}}{A}*\\frac {1}{(\\beta^\\frac {\\beta}{1-\\beta}*(1-\\alpha)+\\alpha*\\beta^\\frac {1}{1-\\beta})^{1-\\beta}}\n",
    "\\end{aligned}\n",
    "$$\n",
    "\n",
    "We see that higher productivity (A) decreases the price, which makes intuively sense as this will increase the supply. Further, higher demand ($\\alpha$) will increase the price, which again makes intuitively sense. With this price we have the general solution, which can be plotted below. "
   ]
  },
  {
   "cell_type": "code",
   "execution_count": 126,
   "metadata": {},
   "outputs": [
    {
     "data": {
      "text/plain": [
       "(0.19867985355975656,\n",
       " 3.9473684210526314,\n",
       " 39.73597071195131,\n",
       " 3.9473684210526305,\n",
       " 78.94736842105263,\n",
       " 39.73597071195132,\n",
       " 71.05263157894737)"
      ]
     },
     "execution_count": 126,
     "metadata": {},
     "output_type": "execute_result"
    }
   ],
   "source": [
    "mod.consumption(0.1,0.5,20, L=75)"
   ]
  },
  {
   "attachments": {},
   "cell_type": "markdown",
   "metadata": {},
   "source": [
    "Now we have the general solution. This can be illustrated by using specific values for the parameters in the model. "
   ]
  },
  {
   "cell_type": "code",
   "execution_count": 125,
   "metadata": {},
   "outputs": [
    {
     "data": {
      "application/vnd.jupyter.widget-view+json": {
       "model_id": "6c45c17e9414466d97ac70edf6d68208",
       "version_major": 2,
       "version_minor": 0
      },
      "text/plain": [
       "interactive(children=(FloatSlider(value=0.5, description='beta', max=0.99), FloatSlider(value=5.0, description…"
      ]
     },
     "metadata": {},
     "output_type": "display_data"
    }
   ],
   "source": [
    "# Write out which arguments to interactive_figure you want to be changing or staying fixed \n",
    "widgets.interact(mod.interactive_figure,\n",
    "    beta=widgets.FloatSlider(description=r\"beta\", min=0., max=0.99, step=0.10, value=0.5), \n",
    "    A=widgets.FloatSlider(description=r\"A\", min=1, max=10, step=1, value=5),\n",
    ");"
   ]
  },
  {
   "attachments": {},
   "cell_type": "markdown",
   "metadata": {},
   "source": [
    "## Numerical solution"
   ]
  },
  {
   "attachments": {},
   "cell_type": "markdown",
   "metadata": {},
   "source": [
    "You can always solve a model numerically. \n",
    "\n",
    "Define first the set of parameters you need. \n",
    "\n",
    "Then choose one of the optimization algorithms that we have gone through in the lectures based on what you think is most fitting for your model.\n",
    "\n",
    "Are there any problems with convergence? Does the model converge for all starting values? Make a lot of testing to figure these things out. "
   ]
  },
  {
   "cell_type": "code",
   "execution_count": 129,
   "metadata": {},
   "outputs": [
    {
     "name": "stdout",
     "output_type": "stream",
     "text": [
      "0.1\n",
      " Step 29.00: p = 0.20 ->   0.00004510. Good clearing = 0.00. Labor clearing = 0.00. \n",
      "0.2\n",
      " Step 30.00: p = 0.29 ->  -0.00001163. Good clearing = -0.00. Labor clearing = -0.00. \n",
      "0.30000000000000004\n",
      " Step 29.00: p = 0.36 ->  -0.00008155. Good clearing = -0.00. Labor clearing = -0.00. \n",
      "0.4\n",
      " Step 25.00: p = 0.43 ->   0.00006350. Good clearing = 0.00. Labor clearing = 0.00. \n",
      "0.5\n",
      " Step 29.00: p = 0.50 ->  -0.00007608. Good clearing = -0.00. Labor clearing = -0.00. \n",
      "0.6\n",
      " Step 27.00: p = 0.57 ->  -0.00007392. Good clearing = -0.00. Labor clearing = -0.00. \n",
      "0.7000000000000001\n",
      " Step 29.00: p = 0.64 ->  -0.00007537. Good clearing = -0.00. Labor clearing = -0.00. \n",
      "0.8\n",
      " Step 29.00: p = 0.71 ->   0.00008984. Good clearing = 0.00. Labor clearing = 0.00. \n",
      "0.9\n",
      " Step 32.00: p = 0.78 ->  -0.00002489. Good clearing = -0.00. Labor clearing = -0.00. \n"
     ]
    }
   ],
   "source": [
    "test=mod.numerical_solution()\n",
    "\n",
    "#Consumer\n",
    "#test.find_relative_price(tol=1e-4,p_lower=0, p_upper=1000, adj=0.5)\n",
    "\n",
    "for i, alpha in enumerate(np.arange(0.1, 1, 0.1)):\n",
    "    # Call find_relative_price with current alpha value\n",
    "    alpha_baseline=test.par.alpha\n",
    "    test.par.alpha=alpha\n",
    "    p=np.empty(9)\n",
    "    c_clearing=np.empty(9)\n",
    "    l_clearing=np.empty(9)\n",
    "    print(alpha)\n",
    "    p[i],c_clearing[i], l_clearing[i] = test.find_relative_price(tol=1e-4, p_lower=0, p_upper=1000, adj=0.5)\n",
    "    test.par.alpha=alpha_baseline\n",
    "\n",
    "\n",
    "\n",
    "\n",
    "\n"
   ]
  },
  {
   "cell_type": "code",
   "execution_count": 131,
   "metadata": {},
   "outputs": [
    {
     "data": {
      "text/plain": [
       "array([ 8.96142095e-06, -3.35609791e-06,  3.63803469e-01,  6.35004036e-05,\n",
       "       -3.80383549e-05,  7.09836414e-01,  6.35488890e-01,  8.98380969e-05,\n",
       "       -1.94972149e-05])"
      ]
     },
     "execution_count": 131,
     "metadata": {},
     "output_type": "execute_result"
    }
   ],
   "source": [
    "l_clearing\n"
   ]
  },
  {
   "attachments": {},
   "cell_type": "markdown",
   "metadata": {},
   "source": [
    "# Further analysis"
   ]
  },
  {
   "attachments": {},
   "cell_type": "markdown",
   "metadata": {},
   "source": [
    "Make detailed vizualizations of how your model changes with parameter values. \n",
    "\n",
    "Try to make an extension of the model. "
   ]
  },
  {
   "attachments": {},
   "cell_type": "markdown",
   "metadata": {},
   "source": [
    "# Conclusion"
   ]
  },
  {
   "attachments": {},
   "cell_type": "markdown",
   "metadata": {},
   "source": [
    "Add concise conclusion. "
   ]
  }
 ],
 "metadata": {
  "kernelspec": {
   "display_name": "base",
   "language": "python",
   "name": "python3"
  },
  "language_info": {
   "codemirror_mode": {
    "name": "ipython",
    "version": 3
   },
   "file_extension": ".py",
   "mimetype": "text/x-python",
   "name": "python",
   "nbconvert_exporter": "python",
   "pygments_lexer": "ipython3",
   "version": "3.9.16"
  },
  "toc-autonumbering": true,
  "vscode": {
   "interpreter": {
    "hash": "47ef90cdf3004d3f859f1fb202523c65c07ba7c22eefd261b181f4744e2d0403"
   }
  }
 },
 "nbformat": 4,
 "nbformat_minor": 4
}
