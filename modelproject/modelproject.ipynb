{
 "cells": [
  {
   "attachments": {},
   "cell_type": "markdown",
   "metadata": {},
   "source": [
    "# YOUR PROJECT TITLE"
   ]
  },
  {
   "attachments": {},
   "cell_type": "markdown",
   "metadata": {},
   "source": [
    "> **Note the following:** \n",
    "> 1. This is *not* meant to be an example of an actual **model analysis project**, just an example of how to structure such a project.\n",
    "> 1. Remember the general advice on structuring and commenting your code\n",
    "> 1. The `modelproject.py` file includes a function which could be used multiple times in this notebook."
   ]
  },
  {
   "attachments": {},
   "cell_type": "markdown",
   "metadata": {},
   "source": [
    "Imports and set magics:"
   ]
  },
  {
   "cell_type": "code",
   "execution_count": 287,
   "metadata": {},
   "outputs": [
    {
     "name": "stdout",
     "output_type": "stream",
     "text": [
      "The autoreload extension is already loaded. To reload it, use:\n",
      "  %reload_ext autoreload\n",
      "The autoreload extension is already loaded. To reload it, use:\n",
      "  %reload_ext autoreload\n"
     ]
    }
   ],
   "source": [
    "import numpy as np\n",
    "from scipy import optimize\n",
    "from scipy.optimize import LinearConstraint\n",
    "import sympy as sm\n",
    "import ipywidgets as widgets # Interactive plots\n",
    "import matplotlib.pyplot as plt\n",
    "\n",
    "\n",
    "# autoreload modules when code is run\n",
    "%load_ext autoreload\n",
    "%autoreload 2\n",
    "\n",
    "# local modules\n",
    "\n",
    "import modelproject as mod\n",
    "\n",
    "%load_ext autoreload\n",
    "%autoreload 2\n",
    "import CES_function as ces"
   ]
  },
  {
   "attachments": {},
   "cell_type": "markdown",
   "metadata": {},
   "source": [
    "Layout\n",
    "2. Analytical solution - Use standard solution - Sunday\n",
    "3. Numerical - Find output - Sunday\n",
    "4. Two extension - 1. CES utility functions (Tuesday). 2. More consumers (Tuesday). (3. Combination?) (4. More goods)\n",
    "5. Conclusion (Thursday)"
   ]
  },
  {
   "attachments": {},
   "cell_type": "markdown",
   "metadata": {},
   "source": [
    "# 1. Model description of baseline model"
   ]
  },
  {
   "attachments": {},
   "cell_type": "markdown",
   "metadata": {},
   "source": [
    "**Time:** One period."
   ]
  },
  {
   "attachments": {},
   "cell_type": "markdown",
   "metadata": {},
   "source": [
    "**Demographics:** Initially one consumer and one firm. The firm is owned by the consumer and therefore the income also depends on the profit. We do not assume initial goods endowments. "
   ]
  },
  {
   "attachments": {},
   "cell_type": "markdown",
   "metadata": {},
   "source": [
    "**Household:** For our baseline model we assume that the consumer has Cobb-Douglas preferences, where the two goods are the product (c) and leisure (l)\n",
    "$$\n",
    "\\begin{aligned}\n",
    "& max u =c^{\\alpha}*l^{1-\\alpha}, 0<\\alpha<1\\\\\n",
    " & \\text{s.t.}\\\\\n",
    " & I=\\Pi + w*L=p*c +w*l \\\\\n",
    "\n",
    "\\end{aligned}\n",
    "$$\n",
    "\n",
    "p is the price of the good, w is the wage, L is the initial labor endowment, l is leisure and $\\Pi$ is the profit. We have assumed monotonicity. Further, we have the firm problem: \n",
    "$$\n",
    "\\begin{aligned}\n",
    "&\\Pi =p*y-w*h\n",
    "\n",
    "\\end{aligned}\n",
    "$$\n",
    "\n",
    "The production function will be defined as follow, where the interpretation of A can be TFP: \n",
    "\n",
    "$$\n",
    "\\begin{aligned}\n",
    "&y =A*h^{\\beta}, \\beta <1 \\\\\n",
    "&max \\Pi =p*A*h^{\\beta}-w*h\n",
    "\n",
    "\\end{aligned}\n",
    "$$\n",
    "\n",
    "We assume the initial labor endowment is 24 hours, i.e. a day. We can therefore define the following relationsship in equilibrium: \n",
    "$$\n",
    "\\begin{aligned}\n",
    "&L=24=l+h\n",
    "\n",
    "\\end{aligned}\n",
    "$$\n",
    "\n",
    "\n"
   ]
  },
  {
   "attachments": {},
   "cell_type": "markdown",
   "metadata": {},
   "source": [
    "**Equilibrium:** The procedure is defined where the labor market (l+h=24) and good market (y=c) clear. Further, the firm has maximized its profit and the consumer has maximized its utility. \n",
    "\n"
   ]
  },
  {
   "attachments": {},
   "cell_type": "markdown",
   "metadata": {},
   "source": [
    "## 2. Analytical solution"
   ]
  },
  {
   "attachments": {},
   "cell_type": "markdown",
   "metadata": {},
   "source": [
    "The baseline model can be solved analytically. The starting point is to derive the firm's demand for labor. This is done by taking the FOC of the profit w.r.t. working hours. This given the following result:  \n",
    "\n",
    "$$\n",
    "\\begin{aligned}\n",
    "& h^*=(\\frac{\\beta*p*A}{w})^{\\frac{1}{1-\\beta}}\n",
    "\\end{aligned}\n",
    "$$"
   ]
  },
  {
   "attachments": {},
   "cell_type": "markdown",
   "metadata": {},
   "source": [
    "This gives the following output and profit: \n",
    "\n",
    "$$\n",
    "\\begin{aligned}\n",
    "& y^*=A*(\\frac{\\beta*p*A}{w})^{\\frac{\\beta}{1-\\beta}}\\\\\n",
    "& \\Pi^*=p*A*(\\frac{\\beta*p*A}{w})^{\\frac{\\beta}{1-\\beta}}-w(\\frac{\\beta*p*A}{w})^{\\frac{1}{1-\\beta}}\n",
    "\\end{aligned}\n",
    "$$"
   ]
  },
  {
   "attachments": {},
   "cell_type": "markdown",
   "metadata": {},
   "source": [
    "Now, we will solve for the consumer's problem. It should be noted that the working hours and profit is exogenous for the consumer as the firm has already decided this based on the prices. We have a Cobb-Douglas function and can therefore use the standard solution: \n",
    "\n",
    "$$\n",
    "\\begin{aligned}\n",
    "& c^*=\\alpha*\\frac {I}{p}\\\\\n",
    "& l^*=(1-\\alpha)*\\frac{I}{w}\n",
    "\\end{aligned}\n",
    "$$\n",
    "\n",
    "Where the income is: \n",
    "\n",
    "$$\n",
    "\\begin{aligned}\n",
    "& I= \\Pi+24 = p*A*(\\frac{\\beta*p*A}{w})^{\\frac{\\beta}{1-\\beta}}-w(\\frac{\\beta*p*A}{w})^{\\frac{1}{1-\\beta}} + 24\n",
    "\\end{aligned}\n",
    "$$\n",
    "\n"
   ]
  },
  {
   "attachments": {},
   "cell_type": "markdown",
   "metadata": {},
   "source": [
    "Now we want to find the prices in equilibrium. Lets sets the wage as numeraire, i.e. w=1. We can then solve for the labor market: \n",
    "\n",
    "$$\n",
    "\\begin{aligned}\n",
    "& l^*=24-h^*\\\\\n",
    "& \\leftrightarrow (1-\\alpha)*(p*A*(\\beta*p*A)^{\\frac{\\beta}{1-\\beta}}-(\\beta*p*A)^{\\frac{1}{1-\\beta}}+24)=24-(\\beta*p*A)^{\\frac{1}{1-\\beta}}\n",
    "\\end{aligned}\n",
    "$$\n",
    "\n",
    "Solving this for p gives: \n",
    "\n",
    "$$\n",
    "\\begin{aligned}\n",
    "& p^*=\\frac {24^{1-\\beta}}{A}*\\frac {1}{(\\beta^\\frac {\\beta}{1-\\beta}*(1-\\alpha)+\\alpha*\\beta^\\frac {1}{1-\\beta})^{1-\\beta}}\n",
    "\\end{aligned}\n",
    "$$\n",
    "\n",
    "We see that higher productivity (A) decreases the price, which makes intuively sense as this will increase the supply. Further, higher demand ($\\alpha$) will increase the price, which again makes intuitively sense. With this price we have the general solution, which can be plotted below. "
   ]
  },
  {
   "cell_type": "code",
   "execution_count": 230,
   "metadata": {},
   "outputs": [
    {
     "data": {
      "text/plain": [
       "(0.5, 25.0, 100.0, 25.0, 100.0, 100.0, 50.0)"
      ]
     },
     "execution_count": 230,
     "metadata": {},
     "output_type": "execute_result"
    }
   ],
   "source": [
    "mod.consumption(0.5,0.5,20, L=75)"
   ]
  },
  {
   "attachments": {},
   "cell_type": "markdown",
   "metadata": {},
   "source": [
    "Now we have the general solution. This can be illustrated by using specific values for the parameters in the model. "
   ]
  },
  {
   "cell_type": "code",
   "execution_count": 191,
   "metadata": {},
   "outputs": [
    {
     "data": {
      "application/vnd.jupyter.widget-view+json": {
       "model_id": "fab35c784225437084516ef01dc3f140",
       "version_major": 2,
       "version_minor": 0
      },
      "text/plain": [
       "interactive(children=(FloatSlider(value=0.5, description='beta', max=0.99), FloatSlider(value=5.0, description…"
      ]
     },
     "metadata": {},
     "output_type": "display_data"
    }
   ],
   "source": [
    "# Write out which arguments to interactive_figure you want to be changing or staying fixed \n",
    "widgets.interact(mod.interactive_figure,\n",
    "    beta=widgets.FloatSlider(description=r\"beta\", min=0., max=0.99, step=0.10, value=0.5), \n",
    "    A=widgets.FloatSlider(description=r\"A\", min=1, max=10, step=1, value=5),\n",
    ");"
   ]
  },
  {
   "attachments": {},
   "cell_type": "markdown",
   "metadata": {},
   "source": [
    "## Numerical solution"
   ]
  },
  {
   "attachments": {},
   "cell_type": "markdown",
   "metadata": {},
   "source": [
    "You can always solve a model numerically. \n",
    "\n",
    "Define first the set of parameters you need. \n",
    "\n",
    "Then choose one of the optimization algorithms that we have gone through in the lectures based on what you think is most fitting for your model.\n",
    "\n",
    "Are there any problems with convergence? Does the model converge for all starting values? Make a lot of testing to figure these things out. "
   ]
  },
  {
   "cell_type": "code",
   "execution_count": 180,
   "metadata": {},
   "outputs": [
    {
     "name": "stderr",
     "output_type": "stream",
     "text": [
      "c:\\Users\\Ander\\OneDrive - University of Copenhagen\\Kandidat\\1. semester\\Introduction to Programming and Numerical Analysis\\Python\\projects-2023-andershuus_christianfogel\\modelproject\\modelproject.py:224: RuntimeWarning: divide by zero encountered in double_scalars\n",
      "  sol.c_star = par.alpha*utility_inc/p\n"
     ]
    },
    {
     "name": "stdout",
     "output_type": "stream",
     "text": [
      " Step 28.00: p = 0.06 ->  -0.00008752. Good clearing = -0.00. Labor clearing = -0.00. \n",
      " Step 30.00: p = 0.11 ->   0.00002677. Good clearing = 0.00. Labor clearing = 0.00. \n",
      " Step 29.00: p = 0.14 ->  -0.00007349. Good clearing = -0.00. Labor clearing = -0.00. \n",
      " Step 29.00: p = 0.16 ->   0.00004665. Good clearing = 0.00. Labor clearing = 0.00. \n",
      " Step 28.00: p = 0.19 ->   0.00009061. Good clearing = 0.00. Labor clearing = 0.00. \n",
      " Step 30.00: p = 0.21 ->   0.00002379. Good clearing = 0.00. Labor clearing = 0.00. \n",
      " Step 28.00: p = 0.23 ->   0.00000318. Good clearing = 0.00. Labor clearing = 0.00. \n",
      " Step 30.00: p = 0.25 ->   0.00007239. Good clearing = 0.00. Labor clearing = 0.00. \n",
      " Step 27.00: p = 0.26 ->  -0.00000335. Good clearing = -0.00. Labor clearing = -0.00. \n",
      " Step 30.00: p = 0.28 ->   0.00003043. Good clearing = 0.00. Labor clearing = 0.00. \n",
      " Step 29.00: p = 0.30 ->  -0.00002723. Good clearing = -0.00. Labor clearing = -0.00. \n",
      " Step 29.00: p = 0.31 ->   0.00004465. Good clearing = 0.00. Labor clearing = 0.00. \n",
      " Step 30.00: p = 0.33 ->  -0.00003386. Good clearing = -0.00. Labor clearing = -0.00. \n",
      " Step 28.00: p = 0.34 ->  -0.00000980. Good clearing = -0.00. Labor clearing = -0.00. \n",
      " Step 29.00: p = 0.36 ->   0.00005700. Good clearing = 0.00. Labor clearing = 0.00. \n",
      " Step 28.00: p = 0.37 ->   0.00009627. Good clearing = 0.00. Labor clearing = 0.00. \n",
      " Step 28.00: p = 0.38 ->   0.00005911. Good clearing = 0.00. Labor clearing = 0.00. \n",
      " Step 29.00: p = 0.40 ->   0.00009278. Good clearing = 0.00. Labor clearing = 0.00. \n",
      " Step 30.00: p = 0.41 ->  -0.00000321. Good clearing = -0.00. Labor clearing = -0.00. \n",
      " Step 30.00: p = 0.43 ->   0.00006456. Good clearing = 0.00. Labor clearing = 0.00. \n",
      " Step 28.00: p = 0.44 ->   0.00007825. Good clearing = 0.00. Labor clearing = 0.00. \n",
      " Step 26.00: p = 0.45 ->   0.00001018. Good clearing = 0.00. Labor clearing = 0.00. \n",
      " Step 28.00: p = 0.47 ->  -0.00002897. Good clearing = -0.00. Labor clearing = -0.00. \n",
      " Step 27.00: p = 0.48 ->   0.00005386. Good clearing = 0.00. Labor clearing = 0.00. \n",
      " Step 30.00: p = 0.49 ->  -0.00001890. Good clearing = -0.00. Labor clearing = -0.00. \n",
      " Step 30.00: p = 0.51 ->  -0.00004945. Good clearing = -0.00. Labor clearing = -0.00. \n",
      " Step 30.00: p = 0.52 ->   0.00001099. Good clearing = 0.00. Labor clearing = 0.00. \n",
      " Step 30.00: p = 0.53 ->  -0.00008752. Good clearing = -0.00. Labor clearing = -0.00. \n",
      " Step 29.00: p = 0.55 ->   0.00000031. Good clearing = 0.00. Labor clearing = 0.00. \n",
      " Step 28.00: p = 0.56 ->   0.00007088. Good clearing = 0.00. Labor clearing = 0.00. \n",
      " Step 29.00: p = 0.57 ->   0.00002357. Good clearing = 0.00. Labor clearing = 0.00. \n",
      " Step 26.00: p = 0.59 ->  -0.00004950. Good clearing = -0.00. Labor clearing = -0.00. \n",
      " Step 31.00: p = 0.60 ->  -0.00006489. Good clearing = -0.00. Labor clearing = -0.00. \n",
      " Step 27.00: p = 0.61 ->  -0.00004526. Good clearing = -0.00. Labor clearing = -0.00. \n",
      " Step 29.00: p = 0.63 ->  -0.00006664. Good clearing = -0.00. Labor clearing = -0.00. \n",
      " Step 29.00: p = 0.64 ->  -0.00009914. Good clearing = -0.00. Labor clearing = -0.00. \n",
      " Step 28.00: p = 0.66 ->   0.00002889. Good clearing = 0.00. Labor clearing = 0.00. \n",
      " Step 30.00: p = 0.67 ->  -0.00002654. Good clearing = -0.00. Labor clearing = -0.00. \n",
      " Step 31.00: p = 0.69 ->   0.00001701. Good clearing = 0.00. Labor clearing = 0.00. \n",
      " Step 28.00: p = 0.70 ->  -0.00007184. Good clearing = -0.00. Labor clearing = -0.00. \n",
      " Step 37.00: p = 0.71 ->  -0.00003931. Good clearing = -0.00. Labor clearing = -0.00. \n",
      " Step 31.00: p = 0.73 ->   0.00002329. Good clearing = 0.00. Labor clearing = 0.00. \n",
      " Step 29.00: p = 0.74 ->  -0.00007696. Good clearing = -0.00. Labor clearing = -0.00. \n",
      " Step 33.00: p = 0.76 ->  -0.00009779. Good clearing = -0.00. Labor clearing = -0.00. \n",
      " Step 28.00: p = 0.78 ->  -0.00004407. Good clearing = -0.00. Labor clearing = -0.00. \n",
      " Step 25.00: p = 0.79 ->   0.00005582. Good clearing = 0.00. Labor clearing = 0.00. \n",
      " Step 29.00: p = 0.81 ->  -0.00001252. Good clearing = -0.00. Labor clearing = -0.00. \n",
      " Step 34.00: p = 0.82 ->   0.00009951. Good clearing = 0.00. Labor clearing = 0.00. \n",
      " Step 28.00: p = 0.84 ->   0.00002983. Good clearing = 0.00. Labor clearing = 0.00. \n",
      " Step 34.00: p = 0.86 ->   0.00006475. Good clearing = 0.00. Labor clearing = 0.00. \n"
     ]
    }
   ],
   "source": [
    "test=mod.numerical_solution()\n",
    "\n",
    "#Alpha plot\n",
    "\n",
    "N=50\n",
    "\n",
    "alpha_vec_num=np.empty(N)\n",
    "p_vec_num_alpha=np.empty(N)\n",
    "c_clearing_alpha=np.empty(N)\n",
    "l_clearing_alpha=np.empty(N)\n",
    "\n",
    "for i, alpha in enumerate(np.linspace(start=0.01, stop = 0.99, num=N)):\n",
    "    # Call find_relative_price with current alpha value\n",
    "    alpha_baseline=test.par.alpha\n",
    "    test.par.alpha=alpha\n",
    "    alpha_vec_num[i]=alpha\n",
    "    p_vec_num_alpha[i],c_clearing_alpha[i], l_clearing_alpha[i] = test.find_relative_price(tol=1e-4, p_lower=0, p_upper=1000, adj=0.5)\n",
    "    test.par.alpha=alpha_baseline\n",
    "\n",
    "\n",
    "\n",
    "\n"
   ]
  },
  {
   "cell_type": "code",
   "execution_count": 181,
   "metadata": {},
   "outputs": [
    {
     "name": "stdout",
     "output_type": "stream",
     "text": [
      " Step 23.00: p = 3.72 ->  -0.00005188. Good clearing = -0.00. Labor clearing = -0.00. \n",
      " Step 22.00: p = 2.84 ->  -0.00007574. Good clearing = -0.00. Labor clearing = -0.00. \n",
      " Step 24.00: p = 2.00 ->   0.00004970. Good clearing = 0.00. Labor clearing = 0.00. \n",
      " Step 26.00: p = 1.38 ->  -0.00005661. Good clearing = -0.00. Labor clearing = -0.00. \n",
      " Step 27.00: p = 0.94 ->  -0.00009904. Good clearing = -0.00. Labor clearing = -0.00. \n",
      " Step 26.00: p = 0.63 ->  -0.00001485. Good clearing = -0.00. Labor clearing = -0.00. \n",
      " Step 27.00: p = 0.42 ->  -0.00006197. Good clearing = -0.00. Labor clearing = -0.00. \n",
      " Step 32.00: p = 0.28 ->  -0.00005416. Good clearing = -0.00. Labor clearing = -0.00. \n",
      " Step 31.00: p = 0.19 ->  -0.00001704. Good clearing = -0.00. Labor clearing = -0.00. \n",
      " Step 28.00: p = 0.13 ->  -0.00001665. Good clearing = -0.00. Labor clearing = -0.00. \n"
     ]
    }
   ],
   "source": [
    "test=mod.numerical_solution()\n",
    "\n",
    "#Beta plot\n",
    "\n",
    "N=10\n",
    "\n",
    "beta_vec_num=np.empty(N)\n",
    "p_vec_num_beta=np.empty(N)\n",
    "c_clearing_beta=np.empty(N)\n",
    "l_clearing_beta=np.empty(N)\n",
    "\n",
    "for i, beta in enumerate(np.linspace(start=0.01, stop = 0.8, num=N)):\n",
    "    # Call find_relative_price with current beta value\n",
    "    beta_baseline=test.par.beta\n",
    "    test.par.beta=beta\n",
    "    beta_vec_num[i]=beta\n",
    "    p_vec_num_beta[i],c_clearing_beta[i], l_clearing_beta[i] = test.find_relative_price(tol=1e-4, p_lower=0, p_upper=1000, adj=0.5, iterations=500)\n",
    "    test.par.beta=beta_baseline"
   ]
  },
  {
   "cell_type": "code",
   "execution_count": 182,
   "metadata": {},
   "outputs": [
    {
     "data": {
      "text/plain": [
       "<matplotlib.legend.Legend at 0x1661088f250>"
      ]
     },
     "execution_count": 182,
     "metadata": {},
     "output_type": "execute_result"
    },
    {
     "data": {
      "image/png": "[encoded data removed]",
      "text/plain": [
       "<Figure size 800x1000 with 2 Axes>"
      ]
     },
     "metadata": {},
     "output_type": "display_data"
    }
   ],
   "source": [
    "\n",
    "fig = plt.figure(figsize=(8,10))\n",
    "dx = fig.add_subplot(2,1,1)\n",
    "dx.plot(alpha_vec_num, p_vec_num_alpha, label='Price of consumption relative to leisure')\n",
    "dx.set_xlim([0.0,1]) # \n",
    "dx.set_ylim([0,1]) #\n",
    "dx.set_title(\"Price\")\n",
    "dx.set_xlabel(\"Alpha\") \n",
    "dx.legend(loc= 'upper right')\n",
    "\n",
    "\n",
    "dx = fig.add_subplot(2,1,2)\n",
    "dx.plot(beta_vec_num, p_vec_num_beta, label='Price of consumption relative to leisure')\n",
    "dx.set_xlim([0.0,0.85]) # \n",
    "dx.set_ylim([0,4]) #\n",
    "dx.set_title(\"Price\")\n",
    "dx.set_xlabel(\"Beta\") \n",
    "dx.legend(loc= 'upper right')"
   ]
  },
  {
   "attachments": {},
   "cell_type": "markdown",
   "metadata": {},
   "source": [
    "# Further analysis"
   ]
  },
  {
   "attachments": {},
   "cell_type": "markdown",
   "metadata": {},
   "source": [
    "Make detailed vizualizations of how your model changes with parameter values. \n",
    "\n",
    "Try to make an extension of the model. \n",
    "\n",
    "Labor Union\n",
    "\n",
    "CES function"
   ]
  },
  {
   "cell_type": "code",
   "execution_count": 289,
   "metadata": {},
   "outputs": [],
   "source": [
    "#CES function\n",
    "#ces.maximize_utility(5)\n",
    "#ces.find_relative_price(tol=1e-4, p_lower=0, p_upper=1000, adj=0.5)\n",
    "#ces.utility_maximization(0.5)"
   ]
  },
  {
   "cell_type": "code",
   "execution_count": 284,
   "metadata": {},
   "outputs": [
    {
     "name": "stdout",
     "output_type": "stream",
     "text": [
      "0.1\n"
     ]
    },
    {
     "ename": "AttributeError",
     "evalue": "module 'CES_function' has no attribute 'par'",
     "output_type": "error",
     "traceback": [
      "\u001b[1;31m---------------------------------------------------------------------------\u001b[0m",
      "\u001b[1;31mAttributeError\u001b[0m                            Traceback (most recent call last)",
      "Cell \u001b[1;32mIn[284], line 13\u001b[0m\n\u001b[0;32m     10\u001b[0m \u001b[39mfor\u001b[39;00m i, sigma \u001b[39min\u001b[39;00m \u001b[39menumerate\u001b[39m(np\u001b[39m.\u001b[39mlinspace(start\u001b[39m=\u001b[39m\u001b[39m0.10\u001b[39m, stop \u001b[39m=\u001b[39m \u001b[39m0.9\u001b[39m, num\u001b[39m=\u001b[39mN)):\n\u001b[0;32m     11\u001b[0m     \u001b[39m# Call find_relative_price with current alpha value\u001b[39;00m\n\u001b[0;32m     12\u001b[0m     \u001b[39mprint\u001b[39m(sigma)\n\u001b[1;32m---> 13\u001b[0m     sigma_baseline\u001b[39m=\u001b[39mces\u001b[39m.\u001b[39;49mpar\u001b[39m.\u001b[39msigma\n\u001b[0;32m     14\u001b[0m     ces\u001b[39m.\u001b[39mpar\u001b[39m.\u001b[39msigma\u001b[39m=\u001b[39msigma\n\u001b[0;32m     15\u001b[0m     sigma_vec_num[i]\u001b[39m=\u001b[39msigma\n",
      "\u001b[1;31mAttributeError\u001b[0m: module 'CES_function' has no attribute 'par'"
     ]
    }
   ],
   "source": [
    "#Alpha plot\n",
    "\n",
    "N=5\n",
    "\n",
    "sigma_vec_num=np.empty(N)\n",
    "p_vec_num_sigma=np.empty(N)\n",
    "c_clearing_sigma=np.empty(N)\n",
    "l_clearing_sigma=np.empty(N)\n",
    "\n",
    "for i, sigma in enumerate(np.linspace(start=0.10, stop = 0.9, num=N)):\n",
    "    # Call find_relative_price with current alpha value\n",
    "    print(sigma)\n",
    "    sigma_baseline=ces.par.sigma\n",
    "    ces.par.sigma=sigma\n",
    "    sigma_vec_num[i]=sigma\n",
    "    p_vec_num_sigma[i],c_clearing_sigma[i], l_clearing_sigma[i] = ces.find_relative_price(tol=1e-4, p_lower=0, p_upper=1000, adj=0.5)\n",
    "    ces.par.sigma=sigma_baseline"
   ]
  },
  {
   "cell_type": "code",
   "execution_count": 290,
   "metadata": {},
   "outputs": [
    {
     "ename": "AttributeError",
     "evalue": "'types.SimpleNamespace' object has no attribute 'Sigma'",
     "output_type": "error",
     "traceback": [
      "\u001b[1;31m---------------------------------------------------------------------------\u001b[0m",
      "\u001b[1;31mAttributeError\u001b[0m                            Traceback (most recent call last)",
      "Cell \u001b[1;32mIn[290], line 21\u001b[0m\n\u001b[0;32m     19\u001b[0m     ces\u001b[39m.\u001b[39mpar\u001b[39m.\u001b[39mbeta\u001b[39m=\u001b[39mbeta\n\u001b[0;32m     20\u001b[0m     beta_vec_num[i]\u001b[39m=\u001b[39mbeta\n\u001b[1;32m---> 21\u001b[0m     p_vec_num_beta_ces[i,j], c_clearing_beta_ces[i,j], l_clearing_beta_ces[i,j] \u001b[39m=\u001b[39m ces\u001b[39m.\u001b[39;49mfind_relative_price(tol\u001b[39m=\u001b[39;49m\u001b[39m1e-4\u001b[39;49m, p_lower\u001b[39m=\u001b[39;49m\u001b[39m0\u001b[39;49m, p_upper\u001b[39m=\u001b[39;49m\u001b[39m1000\u001b[39;49m, adj\u001b[39m=\u001b[39;49m\u001b[39m0.5\u001b[39;49m)\n\u001b[0;32m     22\u001b[0m     ces\u001b[39m.\u001b[39mpar\u001b[39m.\u001b[39mbeta\u001b[39m=\u001b[39mbeta_baseline\n\u001b[0;32m     23\u001b[0m ces\u001b[39m.\u001b[39mpar\u001b[39m.\u001b[39msigma\u001b[39m=\u001b[39msigma_baseline\n",
      "File \u001b[1;32mc:\\Users\\Ander\\OneDrive - University of Copenhagen\\Kandidat\\1. semester\\Introduction to Programming and Numerical Analysis\\Python\\projects-2023-andershuus_christianfogel\\modelproject\\CES_function.py:145\u001b[0m, in \u001b[0;36mnumerical_solution_ces.find_relative_price\u001b[1;34m(self, tol, iterations, p_lower, p_upper, delta, adj)\u001b[0m\n\u001b[0;32m    142\u001b[0m     labor_clearing\u001b[39m=\u001b[39m\u001b[39mself\u001b[39m\u001b[39m.\u001b[39mmarket_clearing(p)[\u001b[39m1\u001b[39m]\n\u001b[0;32m    143\u001b[0m     consumption\u001b[39m=\u001b[39m\u001b[39mself\u001b[39m\u001b[39m.\u001b[39mmaximize_utility(p)[\u001b[39m0\u001b[39m]\n\u001b[1;32m--> 145\u001b[0m     \u001b[39mprint\u001b[39m(\u001b[39mf\u001b[39m\u001b[39m'\u001b[39m\u001b[39m Step \u001b[39m\u001b[39m{\u001b[39;00mi\u001b[39m:\u001b[39;00m\u001b[39m.2f\u001b[39m\u001b[39m}\u001b[39;00m\u001b[39m: Beta = \u001b[39m\u001b[39m{\u001b[39;00mpar\u001b[39m.\u001b[39mbeta\u001b[39m:\u001b[39;00m\u001b[39m.2f\u001b[39m\u001b[39m}\u001b[39;00m\u001b[39m. Sigma = \u001b[39m\u001b[39m{\u001b[39;00mpar\u001b[39m.\u001b[39mSigma\u001b[39m:\u001b[39;00m\u001b[39m.2f\u001b[39m\u001b[39m}\u001b[39;00m\u001b[39m  p = \u001b[39m\u001b[39m{\u001b[39;00mp\u001b[39m:\u001b[39;00m\u001b[39m.2f\u001b[39m\u001b[39m}\u001b[39;00m\u001b[39m -> \u001b[39m\u001b[39m{\u001b[39;00mf\u001b[39m:\u001b[39;00m\u001b[39m12.8f\u001b[39m\u001b[39m}\u001b[39;00m\u001b[39m. Good clearing = \u001b[39m\u001b[39m{\u001b[39;00mgood_clearing\u001b[39m:\u001b[39;00m\u001b[39m.2f\u001b[39m\u001b[39m}\u001b[39;00m\u001b[39m. Labor clearing = \u001b[39m\u001b[39m{\u001b[39;00mlabor_clearing\u001b[39m:\u001b[39;00m\u001b[39m.2f\u001b[39m\u001b[39m}\u001b[39;00m\u001b[39m. Consumption = \u001b[39m\u001b[39m{\u001b[39;00mconsumption\u001b[39m:\u001b[39;00m\u001b[39m.2f\u001b[39m\u001b[39m}\u001b[39;00m\u001b[39m'\u001b[39m)\n\u001b[0;32m    146\u001b[0m     \u001b[39mbreak\u001b[39;00m\n\u001b[0;32m    147\u001b[0m \u001b[39melif\u001b[39;00m \u001b[39mself\u001b[39m\u001b[39m.\u001b[39mmarket_clearing(p_lower)[\u001b[39m0\u001b[39m]\u001b[39m*\u001b[39mf\u001b[39m<\u001b[39m\u001b[39m0\u001b[39m:\n",
      "\u001b[1;31mAttributeError\u001b[0m: 'types.SimpleNamespace' object has no attribute 'Sigma'"
     ]
    }
   ],
   "source": [
    "#Alpha plot\n",
    "\n",
    "N=10\n",
    "\n",
    "sigma_values=[0.10,0.5,5,50]\n",
    "\n",
    "ces=ces.numerical_solution_ces()\n",
    "\n",
    "beta_vec_num = np.empty((4,))\n",
    "sigma_vec_num = np.empty((4,))\n",
    "p_vec_num_beta_ces=np.empty((4,4))\n",
    "c_clearing_beta_ces=np.empty((4,4))\n",
    "l_clearing_beta_ces=np.empty((4,4))\n",
    "for j, sigma in enumerate(sigma_values):\n",
    "    sigma_baseline=ces.par.sigma\n",
    "    ces.par.sigma=sigma\n",
    "    sigma_vec_num[j] = sigma\n",
    "    for i, beta in enumerate(np.linspace(start=0.2, stop = 0.7, num=3)):\n",
    "        # Call find_relative_price with current alpha value\n",
    "        beta_baseline=ces.par.beta\n",
    "        ces.par.beta=beta\n",
    "        beta_vec_num[i]=beta\n",
    "        p_vec_num_beta_ces[i,j], c_clearing_beta_ces[i,j], l_clearing_beta_ces[i,j] = ces.find_relative_price(tol=1e-4, p_lower=0, p_upper=1000, adj=0.5)\n",
    "        ces.par.beta=beta_baseline\n",
    "    ces.par.sigma=sigma_baseline"
   ]
  },
  {
   "cell_type": "code",
   "execution_count": 267,
   "metadata": {},
   "outputs": [
    {
     "data": {
      "text/plain": [
       "<matplotlib.legend.Legend at 0x1660e420b20>"
      ]
     },
     "execution_count": 267,
     "metadata": {},
     "output_type": "execute_result"
    },
    {
     "data": {
      "image/png": "[encoded data removed]",
      "text/plain": [
       "<Figure size 800x1000 with 1 Axes>"
      ]
     },
     "metadata": {},
     "output_type": "display_data"
    }
   ],
   "source": [
    "fig = plt.figure(figsize=(8,10))\n",
    "ex = fig.add_subplot(1,1,1)\n",
    "ex.plot(sigma_vec_num, p_vec_num_sigma, label='Price of consumption relative to leisure')\n",
    "ex.set_xlim([0.5,100]) # \n",
    "ex.set_ylim([0,4]) #\n",
    "ex.set_title(\"Price\")\n",
    "ex.set_xlabel(\"Sigma\") \n",
    "ex.legend(loc= 'upper right')"
   ]
  },
  {
   "attachments": {},
   "cell_type": "markdown",
   "metadata": {},
   "source": [
    "# Conclusion"
   ]
  },
  {
   "attachments": {},
   "cell_type": "markdown",
   "metadata": {},
   "source": [
    "Add concise conclusion. "
   ]
  }
 ],
 "metadata": {
  "kernelspec": {
   "display_name": "base",
   "language": "python",
   "name": "python3"
  },
  "language_info": {
   "codemirror_mode": {
    "name": "ipython",
    "version": 3
   },
   "file_extension": ".py",
   "mimetype": "text/x-python",
   "name": "python",
   "nbconvert_exporter": "python",
   "pygments_lexer": "ipython3",
   "version": "3.9.16"
  },
  "toc-autonumbering": true,
  "vscode": {
   "interpreter": {
    "hash": "47ef90cdf3004d3f859f1fb202523c65c07ba7c22eefd261b181f4744e2d0403"
   }
  }
 },
 "nbformat": 4,
 "nbformat_minor": 4
}
