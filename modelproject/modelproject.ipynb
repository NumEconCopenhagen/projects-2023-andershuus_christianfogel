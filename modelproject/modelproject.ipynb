{
 "cells": [
  {
   "attachments": {},
   "cell_type": "markdown",
   "metadata": {},
   "source": [
    "# YOUR PROJECT TITLE"
   ]
  },
  {
   "attachments": {},
   "cell_type": "markdown",
   "metadata": {},
   "source": [
    "> **Note the following:** \n",
    "> 1. This is *not* meant to be an example of an actual **model analysis project**, just an example of how to structure such a project.\n",
    "> 1. Remember the general advice on structuring and commenting your code\n",
    "> 1. The `modelproject.py` file includes a function which could be used multiple times in this notebook."
   ]
  },
  {
   "attachments": {},
   "cell_type": "markdown",
   "metadata": {},
   "source": [
    "Imports and set magics:"
   ]
  },
  {
   "cell_type": "code",
   "execution_count": 1,
   "metadata": {},
   "outputs": [],
   "source": [
    "import numpy as np\n",
    "from scipy import optimize\n",
    "import sympy as sm\n",
    "\n",
    "# autoreload modules when code is run\n",
    "%load_ext autoreload\n",
    "%autoreload 2\n",
    "\n",
    "# local modules\n",
    "import modelproject"
   ]
  },
  {
   "attachments": {},
   "cell_type": "markdown",
   "metadata": {},
   "source": [
    "Layout\n",
    "2. Analytical solution - Use standard solution - Sunday\n",
    "3. Numerical - Find output - Sunday\n",
    "4. Two extension - 1. CES utility functions (Tuesday). 2. More consumers (Tuesday). (3. Combination?) (4. More goods)\n",
    "5. Conclusion (Thursday)"
   ]
  },
  {
   "attachments": {},
   "cell_type": "markdown",
   "metadata": {},
   "source": [
    "# Model description of baseline model"
   ]
  },
  {
   "attachments": {},
   "cell_type": "markdown",
   "metadata": {},
   "source": [
    "**Time:** One period."
   ]
  },
  {
   "attachments": {},
   "cell_type": "markdown",
   "metadata": {},
   "source": [
    "**Demographics:** Initially two consumers with initial endowments. Later we will add more consumers"
   ]
  },
  {
   "attachments": {},
   "cell_type": "markdown",
   "metadata": {},
   "source": [
    "**Household:** For our baseline model we assume that both consumers have Cobb-Douglas preferences, where the relative preferences can be different for the two consumers\n",
    "$$\n",
    "\\begin{aligned}\n",
    "u_i & =c_{1i}^{\\alpha_i}*c_{2i}^{1-\\alpha_i},i\\in(1,2)\n",
    " & \\text{s.t.}\\\\\n",
    " & I_i=p*e_{1i}+e_{2i} \\ge p*c_{1i}+c_{2i}\\\\\n",
    " & E_1=c_{11}+c_{12}\\\\\n",
    " & E_2=c_{21}+c_{22}\\\\\n",
    " & E_1=e_{11}+e_{12}\\\\\n",
    " & E_2=e_{21}+e_{22}\n",
    "\\end{aligned}\n",
    "$$\n",
    "\n",
    "where the notation of the subscript is that the first number is the good number and the second one is the consumer's number. The price of good 2 is set to be a numeraire. The second equation is the income restriction, where we further can assume monotonicity, so it will be: \n",
    " $$\n",
    "\\begin{aligned}\n",
    " & I_i=p_1*e_{1i}+e_{2i} = p_1*c_{1i}+c_{2i}\\\\\n",
    "\\end{aligned}\n",
    "$$"
   ]
  },
  {
   "attachments": {},
   "cell_type": "markdown",
   "metadata": {},
   "source": [
    "**Equilibrium:** We want to maximize the utility given the endowments and the relevate preferences\n",
    "\n"
   ]
  },
  {
   "attachments": {},
   "cell_type": "markdown",
   "metadata": {},
   "source": [
    "## Analytical solution"
   ]
  },
  {
   "attachments": {},
   "cell_type": "markdown",
   "metadata": {},
   "source": [
    "The baseline model can be solved analytically. The starting point is to derive the consumer's demand for each good. This could done by finding the FOC, but as we have Cobb-Douglas preferences we know the standard solution: \n",
    "\n",
    "$$\n",
    "\\begin{aligned}\n",
    "& c_1^{i^*}=\\alpha_i*\\frac{I_i}{p} = \\alpha_i *\\frac {p*e_{1i}+e_{2i}}{p}\\\\\n",
    "& c_2^{i^*}=(1-\\alpha_i)*{I_i} = (1-\\alpha_i)*(p*e_{1i}+e_{2i})\n",
    "\\end{aligned}\n",
    "$$"
   ]
  },
  {
   "attachments": {},
   "cell_type": "markdown",
   "metadata": {},
   "source": [
    "The equilibrium is then by found by setting supply (initial endowments) equal to the aggregated demand, where we want to isolate for the price: \n",
    "$$\n",
    "\\begin{aligned}\n",
    "& \\alpha_1 *\\frac {p*e_{11}+e_{21}}{p}+\\alpha_2 *\\frac {p*e_{12}+e_{22}}{p}=e_{11}+e_{12}\\\\\n",
    "& \\leftrightarrow p = \\frac {\\alpha_1*e_{21}+\\alpha_2*e_{22}}{e_{11}(1-\\alpha_1)+e_{12}(1-\\alpha_2)}\n",
    "\\end{aligned}\n",
    "$$"
   ]
  },
  {
   "attachments": {},
   "cell_type": "markdown",
   "metadata": {},
   "source": [
    "We know the other market will also clear, when the first has been clear (Walras' law). Therefore, we can insert the price into the demand: \n",
    "\n",
    "$$\n",
    "\\begin{aligned}\n",
    "&c_1^{i^*}=\\alpha_i(e_{1i}+e_{2i}*\\frac {e_{11}(1-\\alpha_1)+e_{12}(1-\\alpha_2)} {\\alpha_1*e_{21}+\\alpha_2*e_{22}})\\\\\n",
    "&c_2^{i^*}=(1-\\alpha_i)*(\\frac {\\alpha_1*e_{21}+\\alpha_2*e_{22}}{e_{11}(1-\\alpha_1)+e_{12}(1-\\alpha_2)}*e_{1i}+e_{2i})\n",
    "\\end{aligned}\n",
    "$$"
   ]
  },
  {
   "attachments": {},
   "cell_type": "markdown",
   "metadata": {},
   "source": [
    "Now we have the general solution. This can be illustrated by using specific values for the parameters in the model. "
   ]
  },
  {
   "cell_type": "code",
   "execution_count": null,
   "metadata": {},
   "outputs": [],
   "source": [
    "def consumption(alpha1,alpha2,e11,e21,e12,e22): \n",
    "        \"\"\" minimize function with Newtons' algorithm\n",
    "        \n",
    "    Args:\n",
    "\n",
    "        alpha1: relative preferences for consumer 1\n",
    "        alpha2: relative preferences for consumer 2\n",
    "        e11: Initial endowment of good 1 for consumer 1\n",
    "        e21: Initial endowment of good 2 for consumer 1\n",
    "        e12: Initial endowment of good 1 for consumer 2\n",
    "        e22: Initial endowment of good 2 for consumer 2\n",
    "        \n",
    "    Returns:\n",
    "    \n",
    "        c11 = Consumption of good 1 for consumer 1\n",
    "        c21 = Consumption of good 2 for consumer 1    \n",
    "        c12 = Consumption of good 1 for consumer 2    \n",
    "        c22 = Consumption of good 2 for consumer 2\n",
    "        p = relative price of good 1  \n",
    "        \n",
    "    \"\"\"\n",
    "    # Initally find the price: \n",
    "    p = (alpha1*e21+alpha2*e22)/(e11*(1-alpha1)+e12(1-alpha2))\n",
    "\n",
    "    #Then define the income for each consumer: \n",
    "    I_1=p*e11+e21\n",
    "    I_2=p*e12+e22\n",
    "\n",
    "    #Consumption of good 1 and good 2 for consumer 1\n",
    "    c11 = alpha1*I_1/p\n",
    "    c21 = (1-alpha1)*I_1\n",
    "\n",
    "    #Consumption of good 1 and good 2 for consumer 2\n",
    "    c12 = alpha2*I_2/p\n",
    "    c22 = (1-alpha2)*I_2\n",
    "\n",
    "    #Check that supply is equal to demand\n",
    "    assert c11+c12 = e11+e12\n",
    "    assert c21+c22 = e21+e22\n"
   ]
  },
  {
   "attachments": {},
   "cell_type": "markdown",
   "metadata": {},
   "source": [
    "## Numerical solution"
   ]
  },
  {
   "attachments": {},
   "cell_type": "markdown",
   "metadata": {},
   "source": [
    "You can always solve a model numerically. \n",
    "\n",
    "Define first the set of parameters you need. \n",
    "\n",
    "Then choose one of the optimization algorithms that we have gone through in the lectures based on what you think is most fitting for your model.\n",
    "\n",
    "Are there any problems with convergence? Does the model converge for all starting values? Make a lot of testing to figure these things out. "
   ]
  },
  {
   "attachments": {},
   "cell_type": "markdown",
   "metadata": {},
   "source": [
    "# Further analysis"
   ]
  },
  {
   "attachments": {},
   "cell_type": "markdown",
   "metadata": {},
   "source": [
    "Make detailed vizualizations of how your model changes with parameter values. \n",
    "\n",
    "Try to make an extension of the model. "
   ]
  },
  {
   "attachments": {},
   "cell_type": "markdown",
   "metadata": {},
   "source": [
    "# Conclusion"
   ]
  },
  {
   "attachments": {},
   "cell_type": "markdown",
   "metadata": {},
   "source": [
    "Add concise conclusion. "
   ]
  }
 ],
 "metadata": {
  "kernelspec": {
   "display_name": "base",
   "language": "python",
   "name": "python3"
  },
  "language_info": {
   "codemirror_mode": {
    "name": "ipython",
    "version": 3
   },
   "file_extension": ".py",
   "mimetype": "text/x-python",
   "name": "python",
   "nbconvert_exporter": "python",
   "pygments_lexer": "ipython3",
   "version": "3.9.16"
  },
  "toc-autonumbering": true,
  "vscode": {
   "interpreter": {
    "hash": "47ef90cdf3004d3f859f1fb202523c65c07ba7c22eefd261b181f4744e2d0403"
   }
  }
 },
 "nbformat": 4,
 "nbformat_minor": 4
}
