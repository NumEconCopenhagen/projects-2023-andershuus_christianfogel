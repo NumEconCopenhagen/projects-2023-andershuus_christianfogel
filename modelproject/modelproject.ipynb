{
 "cells": [
  {
   "attachments": {},
   "cell_type": "markdown",
   "metadata": {},
   "source": [
    "# YOUR PROJECT TITLE"
   ]
  },
  {
   "attachments": {},
   "cell_type": "markdown",
   "metadata": {},
   "source": [
    "> **Note the following:** \n",
    "> 1. This is *not* meant to be an example of an actual **model analysis project**, just an example of how to structure such a project.\n",
    "> 1. Remember the general advice on structuring and commenting your code\n",
    "> 1. The `modelproject.py` file includes a function which could be used multiple times in this notebook."
   ]
  },
  {
   "attachments": {},
   "cell_type": "markdown",
   "metadata": {},
   "source": [
    "Imports and set magics:"
   ]
  },
  {
   "cell_type": "code",
   "execution_count": 5,
   "metadata": {},
   "outputs": [
    {
     "name": "stdout",
     "output_type": "stream",
     "text": [
      "The autoreload extension is already loaded. To reload it, use:\n",
      "  %reload_ext autoreload\n"
     ]
    }
   ],
   "source": [
    "import numpy as np\n",
    "from scipy import optimize\n",
    "import sympy as sm\n",
    "import ipywidgets as widgets # Interactive plots\n",
    "import matplotlib.pyplot as plt\n",
    "\n",
    "# autoreload modules when code is run\n",
    "%load_ext autoreload\n",
    "%autoreload 2\n",
    "\n",
    "# local modules\n",
    "import modelproject as mod"
   ]
  },
  {
   "attachments": {},
   "cell_type": "markdown",
   "metadata": {},
   "source": [
    "Layout\n",
    "2. Analytical solution - Use standard solution - Sunday\n",
    "3. Numerical - Find output - Sunday\n",
    "4. Two extension - 1. CES utility functions (Tuesday). 2. More consumers (Tuesday). (3. Combination?) (4. More goods)\n",
    "5. Conclusion (Thursday)"
   ]
  },
  {
   "attachments": {},
   "cell_type": "markdown",
   "metadata": {},
   "source": [
    "# 1. Model description of baseline model"
   ]
  },
  {
   "attachments": {},
   "cell_type": "markdown",
   "metadata": {},
   "source": [
    "**Time:** One period."
   ]
  },
  {
   "attachments": {},
   "cell_type": "markdown",
   "metadata": {},
   "source": [
    "**Demographics:** Initially one consumer and one firm. The firm is owned by the consumer and therefore the income also depends on the profit. We do not assume initial goods endowments. "
   ]
  },
  {
   "attachments": {},
   "cell_type": "markdown",
   "metadata": {},
   "source": [
    "**Household:** For our baseline model we assume that the consumer has Cobb-Douglas preferences, where the two goods are the product (c) and leisure (l)\n",
    "$$\n",
    "\\begin{aligned}\n",
    "& max u =c^{\\alpha}*l^{1-\\alpha}, 0<\\alpha<1\\\\\n",
    " & \\text{s.t.}\\\\\n",
    " & I=\\Pi + w*L=p*c +w*l \\\\\n",
    "\n",
    "\\end{aligned}\n",
    "$$\n",
    "\n",
    "p is the price of the good, w is the wage, L is the initial labor endowment, l is leisure and $\\Pi$ is the profit. We have assumed monotonicity. Further, we have the firm problem: \n",
    "$$\n",
    "\\begin{aligned}\n",
    "&\\Pi =p*y-w*h\n",
    "\n",
    "\\end{aligned}\n",
    "$$\n",
    "\n",
    "The production function will be defined as follow, where the interpretation of A can be TFP: \n",
    "\n",
    "$$\n",
    "\\begin{aligned}\n",
    "&y =A*h^{\\beta}, \\beta <1 \\\\\n",
    "&max \\Pi =p*A*h^{\\beta}-w*h\n",
    "\n",
    "\\end{aligned}\n",
    "$$\n",
    "\n",
    "We assume the initial labor endowment is 24 hours, i.e. a day. We can therefore define the following relationsship in equilibrium: \n",
    "$$\n",
    "\\begin{aligned}\n",
    "&L=24=l+h\n",
    "\n",
    "\\end{aligned}\n",
    "$$\n",
    "\n",
    "\n"
   ]
  },
  {
   "attachments": {},
   "cell_type": "markdown",
   "metadata": {},
   "source": [
    "**Equilibrium:** The procedure is defined where the labor market (l+h=24) and good market (y=c) clear. Further, the firm has maximized its profit and the consumer has maximized its utility. \n",
    "\n"
   ]
  },
  {
   "attachments": {},
   "cell_type": "markdown",
   "metadata": {},
   "source": [
    "## 2. Analytical solution"
   ]
  },
  {
   "attachments": {},
   "cell_type": "markdown",
   "metadata": {},
   "source": [
    "The baseline model can be solved analytically. The starting point is to derive the firm's demand for labor. This is done by taking the FOC of the profit w.r.t. working hours. This given the following result:  \n",
    "\n",
    "$$\n",
    "\\begin{aligned}\n",
    "& h^*=(\\frac{\\beta*p*A}{w})^{\\frac{1}{1-\\beta}}\n",
    "\\end{aligned}\n",
    "$$"
   ]
  },
  {
   "attachments": {},
   "cell_type": "markdown",
   "metadata": {},
   "source": [
    "This gives the following output and profit: \n",
    "\n",
    "$$\n",
    "\\begin{aligned}\n",
    "& y^*=A*(\\frac{\\beta*p*A}{w})^{\\frac{\\beta}{1-\\beta}}\\\\\n",
    "& \\Pi^*=p*A*(\\frac{\\beta*p*A}{w})^{\\frac{\\beta}{1-\\beta}}-w(\\frac{\\beta*p*A}{w})^{\\frac{1}{1-\\beta}}\n",
    "\\end{aligned}\n",
    "$$"
   ]
  },
  {
   "attachments": {},
   "cell_type": "markdown",
   "metadata": {},
   "source": [
    "Now, we will solve for the consumer's problem. It should be noted that the working hours and profit is exogenous for the consumer as the firm has already decided this based on the prices. We have a Cobb-Douglas function and can therefore use the standard solution: \n",
    "\n",
    "$$\n",
    "\\begin{aligned}\n",
    "& c^*=\\alpha*\\frac {I}{p}\\\\\n",
    "& l^*=(1-\\alpha)*\\frac{I}{w}\n",
    "\\end{aligned}\n",
    "$$"
   ]
  },
  {
   "attachments": {},
   "cell_type": "markdown",
   "metadata": {},
   "source": [
    "Now we want to find the prices in equilibrium. Lets sets the wage as numeraire, i.e. w=1. We can then solve for the labor market: \n",
    "\n",
    "$$\n",
    "\\begin{aligned}\n",
    "& l^*=24-h^*\\\\\n",
    "& \\leftrightarrow (1-\\alpha)*(p*A*(\\beta*p*A)^{\\frac{\\beta}{1-\\beta}}-(\\beta*p*A)^{\\frac{1}{1-\\beta}}+24)=24-(\\beta*p*A)^{\\frac{1}{1-\\beta}}\n",
    "\\end{aligned}\n",
    "$$\n",
    "\n",
    "Solving this for p gives: \n",
    "\n",
    "$$\n",
    "\\begin{aligned}\n",
    "& p^*=\\frac {24^{1-\\beta}}{\\beta*A}+(\\frac {24\\alpha}{1-\\alpha})^{1-\\beta}*\\frac {1}{A*\\beta^\\beta}\n",
    "\\end{aligned}\n",
    "$$\n",
    "\n",
    "We see that higher marginal output elasticity ($\\beta$) or higher productivity (A) decreases the price, which makes intuively sense as this will increase the supply. Further, higher demand ($\\alpha$) will increase the price, which again makes intuitively sense. With this price we have the general solution, which can be plotted below. "
   ]
  },
  {
   "cell_type": "code",
   "execution_count": 6,
   "metadata": {},
   "outputs": [
    {
     "ename": "AssertionError",
     "evalue": "Good market does not clear",
     "output_type": "error",
     "traceback": [
      "\u001b[1;31m---------------------------------------------------------------------------\u001b[0m",
      "\u001b[1;31mAssertionError\u001b[0m                            Traceback (most recent call last)",
      "Cell \u001b[1;32mIn[6], line 1\u001b[0m\n\u001b[1;32m----> 1\u001b[0m mod\u001b[39m.\u001b[39;49mconsumption(\u001b[39m0.5\u001b[39;49m,\u001b[39m0.5\u001b[39;49m,\u001b[39m5\u001b[39;49m)\n",
      "File \u001b[1;32mc:\\Users\\Ander\\OneDrive - University of Copenhagen\\Kandidat\\1. semester\\Introduction to Programming and Numerical Analysis\\Python\\projects-2023-andershuus_christianfogel\\modelproject\\modelproject.py:42\u001b[0m, in \u001b[0;36mconsumption\u001b[1;34m(alpha, beta, A)\u001b[0m\n\u001b[0;32m     39\u001b[0m l \u001b[39m=\u001b[39m (\u001b[39m1\u001b[39m\u001b[39m-\u001b[39malpha)\u001b[39m*\u001b[39mInc\n\u001b[0;32m     41\u001b[0m \u001b[39m#Check that supply is equal to demand for both goods. Demand cannot be smaller due to assumption about monotonicity\u001b[39;00m\n\u001b[1;32m---> 42\u001b[0m \u001b[39massert\u001b[39;00m np\u001b[39m.\u001b[39misclose(c, y,\u001b[39m0.0\u001b[39m), \u001b[39m'\u001b[39m\u001b[39mGood market does not clear\u001b[39m\u001b[39m'\u001b[39m\n\u001b[0;32m     43\u001b[0m \u001b[39massert\u001b[39;00m np\u001b[39m.\u001b[39misclose(\u001b[39m24\u001b[39m\u001b[39m-\u001b[39mh, l,\u001b[39m0.0\u001b[39m), \u001b[39m'\u001b[39m\u001b[39mLabor market does not clear\u001b[39m\u001b[39m'\u001b[39m\n\u001b[0;32m     45\u001b[0m \u001b[39mreturn\u001b[39;00m p,h,y,pi,Inc,c,l\n",
      "\u001b[1;31mAssertionError\u001b[0m: Good market does not clear"
     ]
    }
   ],
   "source": [
    "mod.consumption(0.5,0.5,5)"
   ]
  },
  {
   "attachments": {},
   "cell_type": "markdown",
   "metadata": {},
   "source": [
    "Now we have the general solution. This can be illustrated by using specific values for the parameters in the model. "
   ]
  },
  {
   "cell_type": "code",
   "execution_count": 3,
   "metadata": {},
   "outputs": [
    {
     "data": {
      "application/vnd.jupyter.widget-view+json": {
       "model_id": "02ede0fd65bc40a88910f969b66b7642",
       "version_major": 2,
       "version_minor": 0
      },
      "text/plain": [
       "interactive(children=(FloatSlider(value=0.5, description='alpha2', max=0.9, min=0.1, step=0.05), FloatSlider(v…"
      ]
     },
     "metadata": {},
     "output_type": "display_data"
    }
   ],
   "source": [
    "# Write out which arguments to interactive_figure you want to be changing or staying fixed \n",
    "widgets.interact(mod.interactive_figure,\n",
    "    alpha2=widgets.FloatSlider(description=r\"alpha2\", min=0.1, max=0.9, step=0.05, value=0.5), #Cannot be 1, because both alphas are 1 then. cannot be 0 either\n",
    "    e11=widgets.FloatSlider(description=r\"e11\", min=0.0, max=10, step=1, value=5),\n",
    "    e21=widgets.FloatSlider(description=r\"e21\", min=0.0, max=10, step=1, value=5),\n",
    "    e12=widgets.FloatSlider(description=r\"e12\", min=0.0, max=10, step=1, value=5),\n",
    "    e22=widgets.FloatSlider(description=r\"e22\", min=0.0, max=10, step=1, value=5),\n",
    ");"
   ]
  },
  {
   "attachments": {},
   "cell_type": "markdown",
   "metadata": {},
   "source": [
    "## Numerical solution"
   ]
  },
  {
   "attachments": {},
   "cell_type": "markdown",
   "metadata": {},
   "source": [
    "You can always solve a model numerically. \n",
    "\n",
    "Define first the set of parameters you need. \n",
    "\n",
    "Then choose one of the optimization algorithms that we have gone through in the lectures based on what you think is most fitting for your model.\n",
    "\n",
    "Are there any problems with convergence? Does the model converge for all starting values? Make a lot of testing to figure these things out. "
   ]
  },
  {
   "attachments": {},
   "cell_type": "markdown",
   "metadata": {},
   "source": [
    "# Further analysis"
   ]
  },
  {
   "attachments": {},
   "cell_type": "markdown",
   "metadata": {},
   "source": [
    "Make detailed vizualizations of how your model changes with parameter values. \n",
    "\n",
    "Try to make an extension of the model. "
   ]
  },
  {
   "attachments": {},
   "cell_type": "markdown",
   "metadata": {},
   "source": [
    "# Conclusion"
   ]
  },
  {
   "attachments": {},
   "cell_type": "markdown",
   "metadata": {},
   "source": [
    "Add concise conclusion. "
   ]
  }
 ],
 "metadata": {
  "kernelspec": {
   "display_name": "base",
   "language": "python",
   "name": "python3"
  },
  "language_info": {
   "codemirror_mode": {
    "name": "ipython",
    "version": 3
   },
   "file_extension": ".py",
   "mimetype": "text/x-python",
   "name": "python",
   "nbconvert_exporter": "python",
   "pygments_lexer": "ipython3",
   "version": "3.9.16"
  },
  "toc-autonumbering": true,
  "vscode": {
   "interpreter": {
    "hash": "47ef90cdf3004d3f859f1fb202523c65c07ba7c22eefd261b181f4744e2d0403"
   }
  }
 },
 "nbformat": 4,
 "nbformat_minor": 4
}
