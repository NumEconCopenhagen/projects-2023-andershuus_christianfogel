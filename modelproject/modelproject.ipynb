{
 "cells": [
  {
   "attachments": {},
   "cell_type": "markdown",
   "metadata": {},
   "source": [
    "# YOUR PROJECT TITLE"
   ]
  },
  {
   "attachments": {},
   "cell_type": "markdown",
   "metadata": {},
   "source": [
    "> **Note the following:** \n",
    "> 1. This is *not* meant to be an example of an actual **model analysis project**, just an example of how to structure such a project.\n",
    "> 1. Remember the general advice on structuring and commenting your code\n",
    "> 1. The `modelproject.py` file includes a function which could be used multiple times in this notebook."
   ]
  },
  {
   "attachments": {},
   "cell_type": "markdown",
   "metadata": {},
   "source": [
    "Imports and set magics:"
   ]
  },
  {
   "cell_type": "code",
   "execution_count": 1,
   "metadata": {},
   "outputs": [],
   "source": [
    "import numpy as np\n",
    "from scipy import optimize\n",
    "import sympy as sm\n",
    "import ipywidgets as widgets # Interactive plots\n",
    "import matplotlib.pyplot as plt\n",
    "\n",
    "# autoreload modules when code is run\n",
    "%load_ext autoreload\n",
    "%autoreload 2\n",
    "\n",
    "# local modules\n",
    "import modelproject as mod"
   ]
  },
  {
   "attachments": {},
   "cell_type": "markdown",
   "metadata": {},
   "source": [
    "Layout\n",
    "2. Analytical solution - Use standard solution - Sunday\n",
    "3. Numerical - Find output - Sunday\n",
    "4. Two extension - 1. CES utility functions (Tuesday). 2. More consumers (Tuesday). (3. Combination?) (4. More goods)\n",
    "5. Conclusion (Thursday)"
   ]
  },
  {
   "attachments": {},
   "cell_type": "markdown",
   "metadata": {},
   "source": [
    "# 1. Model description of baseline model"
   ]
  },
  {
   "attachments": {},
   "cell_type": "markdown",
   "metadata": {},
   "source": [
    "**Time:** One period."
   ]
  },
  {
   "attachments": {},
   "cell_type": "markdown",
   "metadata": {},
   "source": [
    "**Demographics:** Initially one consumer and one firm. The firm is owned by the consumer and therefore the income also depends on the profit. We do not assume initial goods endowments. "
   ]
  },
  {
   "attachments": {},
   "cell_type": "markdown",
   "metadata": {},
   "source": [
    "**Household:** For our baseline model we assume that the consumer has Cobb-Douglas preferences, where the two goods are the product (c) and leisure (l)\n",
    "$$\n",
    "\\begin{aligned}\n",
    "& max u =c^{\\alpha}*l^{1-\\alpha}, 0<\\alpha<1\\\\\n",
    " & \\text{s.t.}\\\\\n",
    " & I=\\Pi + w*L=p*c +w*l \\\\\n",
    "\n",
    "\\end{aligned}\n",
    "$$\n",
    "\n",
    "p is the price of the good, w is the wage, L is the initial labor endowment, l is leisure and $\\Pi$ is the profit. We have assumed monotonicity. Further, we have the firm problem: \n",
    "$$\n",
    "\\begin{aligned}\n",
    "&\\Pi =p*y-w*h\n",
    "\n",
    "\\end{aligned}\n",
    "$$\n",
    "\n",
    "The production function will be defined as follow, where the interpretation of A can be TFP: \n",
    "\n",
    "$$\n",
    "\\begin{aligned}\n",
    "&y =A*h^{\\beta}, \\beta <1 \\\\\n",
    "&max \\Pi =p*A*h^{\\beta}-w*h\n",
    "\n",
    "\\end{aligned}\n",
    "$$\n",
    "\n",
    "We assume the initial labor endowment is 24 hours, i.e. a day. We can therefore define the following relationsship in equilibrium: \n",
    "$$\n",
    "\\begin{aligned}\n",
    "&L=24=l+h\n",
    "\n",
    "\\end{aligned}\n",
    "$$\n",
    "\n",
    "\n"
   ]
  },
  {
   "attachments": {},
   "cell_type": "markdown",
   "metadata": {},
   "source": [
    "**Equilibrium:** The procedure is defined where the labor market (l+h=24) and good market (y=c) clear. Further, the firm has maximized its profit and the consumer has maximized its utility. \n",
    "\n"
   ]
  },
  {
   "attachments": {},
   "cell_type": "markdown",
   "metadata": {},
   "source": [
    "## 2. Analytical solution"
   ]
  },
  {
   "attachments": {},
   "cell_type": "markdown",
   "metadata": {},
   "source": [
    "The baseline model can be solved analytically. The starting point is to derive the firm's demand for labor. This is done by taking the FOC of the profit w.r.t. working hours. This given the following result:  \n",
    "\n",
    "$$\n",
    "\\begin{aligned}\n",
    "& h^*=(\\frac{\\beta*p*A}{w})^{\\frac{1}{1-\\beta}}\n",
    "\\end{aligned}\n",
    "$$"
   ]
  },
  {
   "attachments": {},
   "cell_type": "markdown",
   "metadata": {},
   "source": [
    "This gives the following output and profit: \n",
    "\n",
    "$$\n",
    "\\begin{aligned}\n",
    "& y^*=A*(\\frac{\\beta*p*A}{w})^{\\frac{\\beta}{1-\\beta}}\\\\\n",
    "& \\Pi^*=p*A*(\\frac{\\beta*p*A}{w})^{\\frac{\\beta}{1-\\beta}}-w(\\frac{\\beta*p*A}{w})^{\\frac{1}{1-\\beta}}\n",
    "\\end{aligned}\n",
    "$$"
   ]
  },
  {
   "attachments": {},
   "cell_type": "markdown",
   "metadata": {},
   "source": [
    "Now, we will solve for the consumer's problem. It should be noted that the working hours and profit is exogenous for the consumer as the firm has already decided this based on the prices. We have a Cobb-Douglas function and can therefore use the standard solution: \n",
    "\n",
    "$$\n",
    "\\begin{aligned}\n",
    "& c^*=\\alpha*\\frac {I}{p}\\\\\n",
    "& l^*=(1-\\alpha)*\\frac{I}{w}\n",
    "\\end{aligned}\n",
    "$$\n",
    "\n",
    "Where the income is: \n",
    "\n",
    "$$\n",
    "\\begin{aligned}\n",
    "& I= \\Pi+24 = p*A*(\\frac{\\beta*p*A}{w})^{\\frac{\\beta}{1-\\beta}}-w(\\frac{\\beta*p*A}{w})^{\\frac{1}{1-\\beta}} + 24\n",
    "\\end{aligned}\n",
    "$$\n",
    "\n"
   ]
  },
  {
   "attachments": {},
   "cell_type": "markdown",
   "metadata": {},
   "source": [
    "Now we want to find the prices in equilibrium. Lets sets the wage as numeraire, i.e. w=1. We can then solve for the labor market: \n",
    "\n",
    "$$\n",
    "\\begin{aligned}\n",
    "& l^*=24-h^*\\\\\n",
    "& \\leftrightarrow (1-\\alpha)*(p*A*(\\beta*p*A)^{\\frac{\\beta}{1-\\beta}}-(\\beta*p*A)^{\\frac{1}{1-\\beta}}+24)=24-(\\beta*p*A)^{\\frac{1}{1-\\beta}}\n",
    "\\end{aligned}\n",
    "$$\n",
    "\n",
    "Solving this for p gives: \n",
    "\n",
    "$$\n",
    "\\begin{aligned}\n",
    "& p^*=\\frac {24^{1-\\beta}}{A}*\\frac {1}{(\\beta^\\frac {\\beta}{1-\\beta}*(1-\\alpha)+\\alpha*\\beta^\\frac {1}{1-\\beta})^{1-\\beta}}\n",
    "\\end{aligned}\n",
    "$$\n",
    "\n",
    "We see that higher productivity (A) decreases the price, which makes intuively sense as this will increase the supply. Further, higher demand ($\\alpha$) will increase the price, which again makes intuitively sense. With this price we have the general solution, which can be plotted below. "
   ]
  },
  {
   "cell_type": "code",
   "execution_count": 2,
   "metadata": {},
   "outputs": [
    {
     "data": {
      "text/plain": [
       "(0.5, 25.0, 100.0, 25.0, 100.0, 100.0, 50.0)"
      ]
     },
     "execution_count": 2,
     "metadata": {},
     "output_type": "execute_result"
    }
   ],
   "source": [
    "mod.consumption(0.5,0.5,20, L=75)"
   ]
  },
  {
   "attachments": {},
   "cell_type": "markdown",
   "metadata": {},
   "source": [
    "Now we have the general solution. This can be illustrated by using specific values for the parameters in the model. "
   ]
  },
  {
   "cell_type": "code",
   "execution_count": 3,
   "metadata": {},
   "outputs": [
    {
     "data": {
      "application/vnd.jupyter.widget-view+json": {
       "model_id": "1434bc05da2840238edf5132df7b6306",
       "version_major": 2,
       "version_minor": 0
      },
      "text/plain": [
       "interactive(children=(FloatSlider(value=0.5, description='beta', max=0.99), FloatSlider(value=5.0, description…"
      ]
     },
     "metadata": {},
     "output_type": "display_data"
    }
   ],
   "source": [
    "# Write out which arguments to interactive_figure you want to be changing or staying fixed \n",
    "widgets.interact(mod.interactive_figure,\n",
    "    beta=widgets.FloatSlider(description=r\"beta\", min=0., max=0.99, step=0.10, value=0.5), \n",
    "    A=widgets.FloatSlider(description=r\"A\", min=1, max=10, step=1, value=5),\n",
    ");"
   ]
  },
  {
   "attachments": {},
   "cell_type": "markdown",
   "metadata": {},
   "source": [
    "## Numerical solution"
   ]
  },
  {
   "attachments": {},
   "cell_type": "markdown",
   "metadata": {},
   "source": [
    "You can always solve a model numerically. \n",
    "\n",
    "Define first the set of parameters you need. \n",
    "\n",
    "Then choose one of the optimization algorithms that we have gone through in the lectures based on what you think is most fitting for your model.\n",
    "\n",
    "Are there any problems with convergence? Does the model converge for all starting values? Make a lot of testing to figure these things out. "
   ]
  },
  {
   "cell_type": "code",
   "execution_count": 4,
   "metadata": {},
   "outputs": [
    {
     "ename": "NameError",
     "evalue": "name 'x' is not defined",
     "output_type": "error",
     "traceback": [
      "\u001b[1;31m---------------------------------------------------------------------------\u001b[0m",
      "\u001b[1;31mNameError\u001b[0m                                 Traceback (most recent call last)",
      "\u001b[1;32m~\\AppData\\Local\\Temp\\ipykernel_4048\\4005883239.py\u001b[0m in \u001b[0;36m<module>\u001b[1;34m\u001b[0m\n\u001b[0;32m      8\u001b[0m \u001b[0mtest\u001b[0m\u001b[1;33m.\u001b[0m\u001b[0mutility\u001b[0m\u001b[1;33m(\u001b[0m\u001b[1;36m100\u001b[0m\u001b[1;33m,\u001b[0m\u001b[1;36m25\u001b[0m\u001b[1;33m)\u001b[0m\u001b[1;33m\u001b[0m\u001b[1;33m\u001b[0m\u001b[0m\n\u001b[0;32m      9\u001b[0m \u001b[0mtest\u001b[0m\u001b[1;33m.\u001b[0m\u001b[0mincome\u001b[0m\u001b[1;33m(\u001b[0m\u001b[1;36m25\u001b[0m\u001b[1;33m,\u001b[0m\u001b[1;36m0.5\u001b[0m\u001b[1;33m)\u001b[0m\u001b[1;33m\u001b[0m\u001b[1;33m\u001b[0m\u001b[0m\n\u001b[1;32m---> 10\u001b[1;33m \u001b[0mtest\u001b[0m\u001b[1;33m.\u001b[0m\u001b[0mutility_maximization\u001b[0m\u001b[1;33m(\u001b[0m\u001b[1;36m0.5\u001b[0m\u001b[1;33m)\u001b[0m\u001b[1;33m\u001b[0m\u001b[1;33m\u001b[0m\u001b[0m\n\u001b[0m",
      "\u001b[1;32mc:\\Users\\Bruger\\IntroProg\\projects-2023-andershuus_christianfogel\\modelproject\\modelproject.py\u001b[0m in \u001b[0;36mutility_maximization\u001b[1;34m(self, p)\u001b[0m\n\u001b[0;32m    218\u001b[0m \u001b[1;33m\u001b[0m\u001b[0m\n\u001b[0;32m    219\u001b[0m         \u001b[1;31m#Constraints. The income must be equal to or greater than the income. We first define l\u001b[0m\u001b[1;33m\u001b[0m\u001b[1;33m\u001b[0m\u001b[0m\n\u001b[1;32m--> 220\u001b[1;33m         \u001b[0mconstraint\u001b[0m \u001b[1;33m=\u001b[0m \u001b[0mself\u001b[0m\u001b[1;33m.\u001b[0m\u001b[0mincome\u001b[0m\u001b[1;33m-\u001b[0m\u001b[0mp\u001b[0m\u001b[1;33m*\u001b[0m\u001b[0mx\u001b[0m\u001b[1;33m[\u001b[0m\u001b[1;36m0\u001b[0m\u001b[1;33m]\u001b[0m\u001b[1;33m-\u001b[0m\u001b[0mpar\u001b[0m\u001b[1;33m.\u001b[0m\u001b[0mL\u001b[0m\u001b[1;33m-\u001b[0m\u001b[0mx\u001b[0m\u001b[1;33m[\u001b[0m\u001b[1;36m1\u001b[0m\u001b[1;33m]\u001b[0m\u001b[1;33m\u001b[0m\u001b[1;33m\u001b[0m\u001b[0m\n\u001b[0m\u001b[0;32m    221\u001b[0m         \u001b[0mineq_con\u001b[0m \u001b[1;33m=\u001b[0m \u001b[1;33m{\u001b[0m\u001b[1;34m'type'\u001b[0m\u001b[1;33m:\u001b[0m \u001b[1;34m'ineq'\u001b[0m\u001b[1;33m,\u001b[0m \u001b[1;34m'fun'\u001b[0m\u001b[1;33m:\u001b[0m \u001b[0mconstraint\u001b[0m\u001b[1;33m}\u001b[0m\u001b[1;33m\u001b[0m\u001b[1;33m\u001b[0m\u001b[0m\n\u001b[0;32m    222\u001b[0m \u001b[1;33m\u001b[0m\u001b[0m\n",
      "\u001b[1;31mNameError\u001b[0m: name 'x' is not defined"
     ]
    }
   ],
   "source": [
    "test=mod.numerical_solution()\n",
    "test.production_function(25)\n",
    "test.firm_profit(25,0.5)\n",
    "test.firm_profit_maximization(0.5)\n",
    "#Firm okay\n",
    "\n",
    "#Consumer\n",
    "test.utility(100,25)\n",
    "test.income()\n",
    "test.maximize_utility(0.5)\n",
    "#test.utility_maximization(0.5)\n",
    "test.market_clearing(0.5)"
   ]
  },
  {
   "attachments": {},
   "cell_type": "markdown",
   "metadata": {},
   "source": [
    "# Further analysis"
   ]
  },
  {
   "attachments": {},
   "cell_type": "markdown",
   "metadata": {},
   "source": [
    "Make detailed vizualizations of how your model changes with parameter values. \n",
    "\n",
    "Try to make an extension of the model. "
   ]
  },
  {
   "attachments": {},
   "cell_type": "markdown",
   "metadata": {},
   "source": [
    "# Conclusion"
   ]
  },
  {
   "attachments": {},
   "cell_type": "markdown",
   "metadata": {},
   "source": [
    "Add concise conclusion. "
   ]
  }
 ],
 "metadata": {
  "kernelspec": {
   "display_name": "base",
   "language": "python",
   "name": "python3"
  },
  "language_info": {
   "codemirror_mode": {
    "name": "ipython",
    "version": 3
   },
   "file_extension": ".py",
   "mimetype": "text/x-python",
   "name": "python",
   "nbconvert_exporter": "python",
   "pygments_lexer": "ipython3",
   "version": "3.9.16"
  },
  "toc-autonumbering": true,
  "vscode": {
   "interpreter": {
    "hash": "47ef90cdf3004d3f859f1fb202523c65c07ba7c22eefd261b181f4744e2d0403"
   }
  }
 },
 "nbformat": 4,
 "nbformat_minor": 4
}
