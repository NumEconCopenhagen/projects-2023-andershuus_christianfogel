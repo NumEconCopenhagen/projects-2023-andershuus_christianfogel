{
 "cells": [
  {
   "cell_type": "code",
   "execution_count": null,
   "metadata": {},
   "outputs": [],
   "source": [
    "import numpy as np\n",
    "import HouseholdSpecializationModel as model"
   ]
  },
  {
   "cell_type": "code",
   "execution_count": null,
   "metadata": {},
   "outputs": [],
   "source": [
    "wF_vec = np.linspace(0.8,1.2,5)\n",
    "\n",
    "\n",
    "def run_regression(q):\n",
    "    \"\"\" This regression is for question 4 and 5 \n",
    "    Our input is the value from the solve_wF_Vec\n",
    "    Therefore it can be used for discrete and continuous case\"\"\"\n",
    "\n",
    "    x = np.log(wF_vec)\n",
    "    y = solve_wF_vec(discrete=False)\n",
    "    A = np.vstack([np.ones(x.size),x]).T\n",
    "\n",
    "    #Making the regression and returning the parameter estimates. \n",
    "    beta0, beta1 = np.linalg.lstsq(A,y,rcond=None)[0]\n",
    "\n",
    "    return beta0, beta1"
   ]
  },
  {
   "cell_type": "code",
   "execution_count": null,
   "metadata": {},
   "outputs": [],
   "source": [
    "def target(beta0_target,beta0,beta1_target, beta1): \n",
    "    beta0,beta1=run_regression()\n",
    "    return (beta0_target-beta0)**2+(beta1_target-beta1)**2"
   ]
  },
  {
   "cell_type": "code",
   "execution_count": null,
   "metadata": {},
   "outputs": [],
   "source": []
  }
 ],
 "metadata": {
  "kernelspec": {
   "display_name": "base",
   "language": "python",
   "name": "python3"
  },
  "language_info": {
   "codemirror_mode": {
    "name": "ipython",
    "version": 3
   },
   "file_extension": ".py",
   "mimetype": "text/x-python",
   "name": "python",
   "nbconvert_exporter": "python",
   "pygments_lexer": "ipython3",
   "version": "3.9.16"
  },
  "orig_nbformat": 4
 },
 "nbformat": 4,
 "nbformat_minor": 2
}
