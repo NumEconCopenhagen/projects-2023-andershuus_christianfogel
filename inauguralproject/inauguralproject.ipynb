{
 "cells": [
  {
   "cell_type": "markdown",
   "metadata": {},
   "source": [
    "# Inaugural Project"
   ]
  },
  {
   "attachments": {},
   "cell_type": "markdown",
   "metadata": {},
   "source": [
    "> **Note the following:** \n",
    "> 1. This is an example of how to structure your **inaugural project**.\n",
    "> 1. Remember the general advice on structuring and commenting your code\n",
    "> 1. The `inauguralproject.py` file includes a function which can be used multiple times in this notebook."
   ]
  },
  {
   "cell_type": "code",
   "execution_count": 1,
   "metadata": {},
   "outputs": [],
   "source": [
    "#Problems\n",
    "#1. When you run question 1 first time it bugs\n",
    "#Question 1 says \"Illustrate\". I think they want a graph even though a tabel is easier to read. \n",
    "#What is run regression for?\n",
    "#Correct everything to english\n",
    "#Question 2 has wrong test"
   ]
  },
  {
   "cell_type": "markdown",
   "metadata": {},
   "source": [
    "Imports and set magics:"
   ]
  },
  {
   "cell_type": "code",
   "execution_count": 2,
   "metadata": {},
   "outputs": [],
   "source": [
    "import numpy as np\n",
    "import matplotlib.pyplot as plt \n",
    "\n",
    "# autoreload modules when code is run. Otherwise, python will not see recent changes. \n",
    "%load_ext autoreload\n",
    "%autoreload 2\n",
    "\n",
    "# Import your own code\n",
    "import inauguralproject\n",
    "import HouseholdSpecializationModel as model\n",
    "\n",
    "\n",
    "# Initialize class\n",
    "hsm = model.HouseholdSpecializationModelClass()"
   ]
  },
  {
   "cell_type": "markdown",
   "metadata": {},
   "source": [
    "# Question 1"
   ]
  },
  {
   "cell_type": "markdown",
   "metadata": {},
   "source": [
    "**Explain how you solve the model**"
   ]
  },
  {
   "cell_type": "code",
   "execution_count": 3,
   "metadata": {},
   "outputs": [
    {
     "name": "stderr",
     "output_type": "stream",
     "text": [
      "c:\\Users\\Bruger\\IntroProg\\projects-2023-andershuus_christianfogel\\inauguralproject\\HouseholdSpecializationModel.py:63: RuntimeWarning: divide by zero encountered in reciprocal\n",
      "  H= ((1-par.alpha)*HM**((par.sigma-1)/par.sigma)+\n",
      "c:\\Users\\Bruger\\IntroProg\\projects-2023-andershuus_christianfogel\\inauguralproject\\HouseholdSpecializationModel.py:64: RuntimeWarning: divide by zero encountered in reciprocal\n",
      "  par.alpha*HF**((par.sigma-1)/par.sigma))**(par.sigma/(par.sigma-1))\n"
     ]
    },
    {
     "name": "stdout",
     "output_type": "stream",
     "text": [
      "Table of HF/HM values:\n",
      "Alpha/Sigma     0.50    1.00    1.50\n",
      "----------------------------------------\n",
      "      0.25 |    0.55    0.31    0.21\n",
      "      0.50 |    1.00    1.00    1.00\n",
      "      0.75 |    1.83    3.25    4.67\n"
     ]
    }
   ],
   "source": [
    "#We import the model above. For a start we get the solution. \n",
    "\n",
    "#Based on consumer problem in lecture 6. We are looping over the answers\n",
    "def print_table():\n",
    "    \"\"\"this function defines a table that plots the values of HF/HM\n",
    "    for the specified values of alpha and sigma\"\"\"\n",
    "    \n",
    "    # a. empty text\n",
    "    text = ''\n",
    "    \n",
    "    text += f'{\"Alpha/Sigma\":<7s}{\"\":1s}'\n",
    "\n",
    "    # b. top header\n",
    "    for sigma in np.linspace(0.5,1.5,3):\n",
    "       hsm.par.sigma=sigma\n",
    "       text += f'{sigma:8.2f}' #have sigma as the column-values\n",
    "    text += '\\n' + '-'*40 + '\\n' # we add horizontal separator\n",
    "    \n",
    "    # c. body\n",
    "    for i,alpha in enumerate(np.linspace(0.25,0.75,3)):\n",
    "        hsm.par.alpha=alpha\n",
    "        #tilføjer det her for at skippe det første linjeskift, ellers så kommer der en tom linje som den første række i tabellen. \n",
    "        if i > 0: \n",
    "            text += '\\n'\n",
    "        text += f'{alpha:10.2f} |' #alpha as row-values and with a vertical separator\n",
    "        for sigma in np.linspace(0.5,1.5,3): \n",
    "            hsm.par.sigma=sigma\n",
    "            dsol = hsm.solve_discrete() #call the solve function\n",
    "            text += f'{dsol.HF_HM:8.2f}' #plot values \n",
    "    \n",
    "    #d. reset values of alpha and sigma:\n",
    "    \n",
    "    hsm.par.alpha = 0.5\n",
    "    hsm.par.sigma = 1.0\n",
    "    \n",
    "    # d. print\n",
    "    print(f\"Table of HF/HM values:\\n{text}\")\n",
    "\n",
    "print_table()"
   ]
  },
  {
   "cell_type": "markdown",
   "metadata": {},
   "source": [
    "# Question 2"
   ]
  },
  {
   "cell_type": "markdown",
   "metadata": {},
   "source": [
    "Explain your code and procedure"
   ]
  },
  {
   "cell_type": "code",
   "execution_count": 4,
   "metadata": {},
   "outputs": [
    {
     "data": {
      "image/png": "[encoded data removed]",
      "text/plain": [
       "<Figure size 640x480 with 1 Axes>"
      ]
     },
     "metadata": {},
     "output_type": "display_data"
    }
   ],
   "source": [
    "# a. create the figure\n",
    "fig = plt.figure() \n",
    "#first we create a figure object by initializing the plt.figure\n",
    "\n",
    "# b. plot\n",
    "ax = fig.add_subplot(1,1,1) \n",
    "#we only add one subplot so the ax is basically the entire figure.\n",
    "\n",
    "ax.plot(np.log(hsm.par.wF_vec),hsm.solve_wF_vec(discrete=True)) \n",
    "#x-axis: we plot log(wF_vec), since wM is fixed at 1, \n",
    "#so it is already taken into account in this vector.\n",
    "#Note: we only take the log here, so we don't need to store the log values\n",
    "#y-axis: we call the solve_wF_vec method from our class directly,\n",
    "#so we again don't need to store the values.\n",
    "\n",
    "ax.set_title('log $H_F/H_M$ plottet against log $w_F/w_M$') #set title\n",
    "ax.set_xlabel('log $w_F/w_M$') #set label for x-axis\n",
    "ax.set_ylabel('log $H_F/H_M$'); #set label for y-axis"
   ]
  },
  {
   "cell_type": "markdown",
   "metadata": {},
   "source": [
    "# Question 3"
   ]
  },
  {
   "cell_type": "markdown",
   "metadata": {},
   "source": [
    "Explain your code and procedure"
   ]
  },
  {
   "cell_type": "code",
   "execution_count": 9,
   "metadata": {},
   "outputs": [
    {
     "name": "stdout",
     "output_type": "stream",
     "text": [
      "-0.2231435513142097 = 0.22519958544128285\n",
      "-0.10536051565782628 = 9.754729058551197e-05\n",
      "0.0 = 2.154359799344263e-09\n",
      "0.09531017980432493 = -8.680131447473675e-05\n",
      "0.1823215567939546 = -0.18662625800161153\n"
     ]
    }
   ],
   "source": [
    "# We cannot use the same procedure. Simply to many options. \n",
    "\n",
    "\n",
    "#Missing \n",
    "#3. Does it match the one above?\n",
    "\n",
    "\n",
    "csol=hsm.solve_continously\n",
    "for wF in np.linspace(0.8,1.2,5): \n",
    "    hsm.par.wF=wF\n",
    "    hsm.solve_continously() #plot values \n",
    "\n"
   ]
  },
  {
   "cell_type": "markdown",
   "metadata": {},
   "source": [
    "ADD CONCISE CONLUSION."
   ]
  }
 ],
 "metadata": {
  "kernelspec": {
   "display_name": "base",
   "language": "python",
   "name": "python3"
  },
  "language_info": {
   "codemirror_mode": {
    "name": "ipython",
    "version": 3
   },
   "file_extension": ".py",
   "mimetype": "text/x-python",
   "name": "python",
   "nbconvert_exporter": "python",
   "pygments_lexer": "ipython3",
   "version": "3.9.16"
  },
  "toc-autonumbering": true,
  "vscode": {
   "interpreter": {
    "hash": "47ef90cdf3004d3f859f1fb202523c65c07ba7c22eefd261b181f4744e2d0403"
   }
  }
 },
 "nbformat": 4,
 "nbformat_minor": 4
}
