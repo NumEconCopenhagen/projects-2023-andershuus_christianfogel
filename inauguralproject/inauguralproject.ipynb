{
 "cells": [
  {
   "cell_type": "markdown",
   "metadata": {},
   "source": [
    "# Inaugural Project"
   ]
  },
  {
   "attachments": {},
   "cell_type": "markdown",
   "metadata": {},
   "source": [
    "> **Note the following:** \n",
    "> 1. This is an example of how to structure your **inaugural project**.\n",
    "> 1. Remember the general advice on structuring and commenting your code\n",
    "> 1. The `inauguralproject.py` file includes a function which can be used multiple times in this notebook."
   ]
  },
  {
   "cell_type": "markdown",
   "metadata": {},
   "source": [
    "Imports and set magics:"
   ]
  },
  {
   "cell_type": "code",
   "execution_count": 1,
   "metadata": {},
   "outputs": [],
   "source": [
    "import numpy as np\n",
    "\n",
    "# autoreload modules when code is run. Otherwise, python will not see recent changes. \n",
    "%load_ext autoreload\n",
    "%autoreload 2\n",
    "\n",
    "# Import your own code\n",
    "import inauguralproject\n",
    "from HouseholdSpecializationModel import *"
   ]
  },
  {
   "cell_type": "markdown",
   "metadata": {},
   "source": [
    "# Question 1"
   ]
  },
  {
   "cell_type": "markdown",
   "metadata": {},
   "source": [
    "**Explain how you solve the model**"
   ]
  },
  {
   "cell_type": "code",
   "execution_count": 29,
   "metadata": {},
   "outputs": [
    {
     "name": "stderr",
     "output_type": "stream",
     "text": [
      "[autoreload of HouseholdSpecializationModel failed: Traceback (most recent call last):\n",
      "  File \"c:\\Users\\Ander\\anaconda3\\lib\\site-packages\\IPython\\extensions\\autoreload.py\", line 245, in check\n",
      "    superreload(m, reload, self.old_objects)\n",
      "  File \"c:\\Users\\Ander\\anaconda3\\lib\\site-packages\\IPython\\extensions\\autoreload.py\", line 394, in superreload\n",
      "    module = reload(module)\n",
      "  File \"c:\\Users\\Ander\\anaconda3\\lib\\imp.py\", line 314, in reload\n",
      "    return importlib.reload(module)\n",
      "  File \"c:\\Users\\Ander\\anaconda3\\lib\\importlib\\__init__.py\", line 169, in reload\n",
      "    _bootstrap._exec(spec, module)\n",
      "  File \"<frozen importlib._bootstrap>\", line 613, in _exec\n",
      "  File \"<frozen importlib._bootstrap_external>\", line 846, in exec_module\n",
      "  File \"<frozen importlib._bootstrap_external>\", line 983, in get_code\n",
      "  File \"<frozen importlib._bootstrap_external>\", line 913, in source_to_code\n",
      "  File \"<frozen importlib._bootstrap>\", line 228, in _call_with_frames_removed\n",
      "  File \"c:\\Users\\Ander\\OneDrive - University of Copenhagen\\Kandidat\\1. semester\\Introduction to Programming and Numerical Analysis\\Python\\projects-2023-andershuus_christianfogel\\inauguralproject\\HouseholdSpecializationModel.py\", line 111\n",
      "    print('alpha = ' + str(alpha) + ' sigma = ' + str(sigma) + ' : f'{k} = {v:6.4f}')\n",
      "                                                                     ^\n",
      "SyntaxError: invalid syntax\n",
      "]\n",
      "c:\\Users\\Ander\\OneDrive - University of Copenhagen\\Kandidat\\1. semester\\Introduction to Programming and Numerical Analysis\\Python\\projects-2023-andershuus_christianfogel\\inauguralproject\\HouseholdSpecializationModel.py:62: RuntimeWarning: divide by zero encountered in reciprocal\n",
      "  H= ((1-par.alpha)*HM**((par.sigma-1)/par.sigma)+\n",
      "c:\\Users\\Ander\\OneDrive - University of Copenhagen\\Kandidat\\1. semester\\Introduction to Programming and Numerical Analysis\\Python\\projects-2023-andershuus_christianfogel\\inauguralproject\\HouseholdSpecializationModel.py:63: RuntimeWarning: divide by zero encountered in reciprocal\n",
      "  par.alpha*HF**((par.sigma-1)/par.sigma))**(par.sigma/(par.sigma-1))\n"
     ]
    },
    {
     "name": "stdout",
     "output_type": "stream",
     "text": [
      "LM = 3.0000\n",
      "HM = 5.5000\n",
      "LF = 6.0000\n",
      "HF = 3.0000\n",
      "LM = 4.5000\n",
      "HM = 4.5000\n",
      "LF = 4.5000\n",
      "HF = 4.5000\n",
      "LM = 5.5000\n",
      "HM = 3.0000\n",
      "LF = 3.5000\n",
      "HF = 5.5000\n",
      "LM = 2.0000\n",
      "HM = 6.5000\n",
      "LF = 7.0000\n",
      "HF = 2.0000\n",
      "LM = 4.5000\n",
      "HM = 4.5000\n",
      "LF = 4.5000\n",
      "HF = 4.5000\n",
      "LM = 6.5000\n",
      "HM = 2.0000\n",
      "LF = 2.5000\n",
      "HF = 6.5000\n",
      "LM = 1.5000\n",
      "HM = 7.0000\n",
      "LF = 7.0000\n",
      "HF = 1.5000\n",
      "LM = 4.5000\n",
      "HM = 4.5000\n",
      "LF = 4.5000\n",
      "HF = 4.5000\n",
      "LM = 7.0000\n",
      "HM = 1.5000\n",
      "LF = 1.5000\n",
      "HF = 7.0000\n"
     ]
    }
   ],
   "source": [
    "#We import the model above. For a start we get the solution. \n",
    "\n",
    "solution = HouseholdSpecializationModelClass()\n",
    "opt = solution.solve_discrete()\n",
    "\n",
    "#Based on consumer problem in lecture 6. We are looping over the answers\n",
    "for sigma in np.linspace(0.5,1.5,3):\n",
    "    solution.par.sigma=sigma\n",
    "    for alpha in np.linspace(0.25,0.75,3):\n",
    "        solution.par.alpha = alpha\n",
    "        print('alpha = ' + str(alpha) + ' sigma = ' + str(sigma) + ')\n",
    "        #solution.solve_discrete(do_print=True)\n",
    "#For a start lets change a parameter value. \n",
    "\n",
    "#Missing: \n",
    "#1. Correct output - Make it nice. \n",
    "#2. Save the answers for the graph\n",
    "#Find the mistake in the code, because it is complaining. \n",
    "\n",
    "\n",
    "# This function tells the widget how the plot should look at a specific parametrization "
   ]
  },
  {
   "cell_type": "markdown",
   "metadata": {},
   "source": [
    "# Question 2"
   ]
  },
  {
   "cell_type": "markdown",
   "metadata": {},
   "source": [
    "Explain your code and procedure"
   ]
  },
  {
   "cell_type": "code",
   "execution_count": 3,
   "metadata": {},
   "outputs": [],
   "source": [
    "# code"
   ]
  },
  {
   "cell_type": "markdown",
   "metadata": {},
   "source": [
    "# Question 3"
   ]
  },
  {
   "cell_type": "markdown",
   "metadata": {},
   "source": [
    "Explain your code and procedure"
   ]
  },
  {
   "cell_type": "code",
   "execution_count": 4,
   "metadata": {},
   "outputs": [],
   "source": [
    "# code"
   ]
  },
  {
   "cell_type": "markdown",
   "metadata": {},
   "source": [
    "ADD CONCISE CONLUSION."
   ]
  }
 ],
 "metadata": {
  "kernelspec": {
   "display_name": "base",
   "language": "python",
   "name": "python3"
  },
  "language_info": {
   "codemirror_mode": {
    "name": "ipython",
    "version": 3
   },
   "file_extension": ".py",
   "mimetype": "text/x-python",
   "name": "python",
   "nbconvert_exporter": "python",
   "pygments_lexer": "ipython3",
   "version": "3.9.16"
  },
  "toc-autonumbering": true,
  "vscode": {
   "interpreter": {
    "hash": "47ef90cdf3004d3f859f1fb202523c65c07ba7c22eefd261b181f4744e2d0403"
   }
  }
 },
 "nbformat": 4,
 "nbformat_minor": 4
}
