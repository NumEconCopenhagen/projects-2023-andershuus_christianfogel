{
 "cells": [
  {
   "cell_type": "markdown",
   "metadata": {},
   "source": [
    "# Inaugural Project"
   ]
  },
  {
   "attachments": {},
   "cell_type": "markdown",
   "metadata": {},
   "source": [
    "> **Note the following:** \n",
    "> 1. This is an example of how to structure your **inaugural project**.\n",
    "> 1. Remember the general advice on structuring and commenting your code\n",
    "> 1. The `inauguralproject.py` file includes a function which can be used multiple times in this notebook."
   ]
  },
  {
   "cell_type": "code",
   "execution_count": null,
   "metadata": {},
   "outputs": [],
   "source": [
    "#Problems\n",
    "#1. When you run question 1 first time it bugs\n",
    "#Question 1 says \"Illustrate\". I think they want a graph even though a tabel is easier to read. \n",
    "#What is run regression for?\n",
    "#Correct everything to english"
   ]
  },
  {
   "cell_type": "markdown",
   "metadata": {},
   "source": [
    "Imports and set magics:"
   ]
  },
  {
   "cell_type": "code",
   "execution_count": 11,
   "metadata": {},
   "outputs": [
    {
     "name": "stdout",
     "output_type": "stream",
     "text": [
      "The autoreload extension is already loaded. To reload it, use:\n",
      "  %reload_ext autoreload\n",
      "The autoreload extension is already loaded. To reload it, use:\n",
      "  %reload_ext autoreload\n",
      "The autoreload extension is already loaded. To reload it, use:\n",
      "  %reload_ext autoreload\n"
     ]
    }
   ],
   "source": [
    "import numpy as np\n",
    "\n",
    "# autoreload modules when code is run. Otherwise, python will not see recent changes. \n",
    "%load_ext autoreload\n",
    "%autoreload 2\n",
    "\n",
    "# Import your own code\n",
    "import inauguralproject\n",
    "%load_ext autoreload\n",
    "%autoreload 2\n",
    "import HouseholdSpecializationModel as model\n",
    "%load_ext autoreload\n",
    "%autoreload 2\n",
    "import matplotlib.pyplot as plt \n",
    "\n",
    "# Initialize class\n",
    "hsm = model.HouseholdSpecializationModelClass()"
   ]
  },
  {
   "cell_type": "markdown",
   "metadata": {},
   "source": [
    "# Question 1"
   ]
  },
  {
   "cell_type": "markdown",
   "metadata": {},
   "source": [
    "**Explain how you solve the model**"
   ]
  },
  {
   "cell_type": "code",
   "execution_count": 15,
   "metadata": {},
   "outputs": [
    {
     "name": "stderr",
     "output_type": "stream",
     "text": [
      "c:\\Users\\Ander\\OneDrive - University of Copenhagen\\Kandidat\\1. semester\\Introduction to Programming and Numerical Analysis\\Python\\projects-2023-andershuus_christianfogel\\inauguralproject\\HouseholdSpecializationModel.py:64: RuntimeWarning: divide by zero encountered in reciprocal\n",
      "  H= ((1-par.alpha)*HM**((par.sigma-1)/par.sigma)+\n",
      "c:\\Users\\Ander\\OneDrive - University of Copenhagen\\Kandidat\\1. semester\\Introduction to Programming and Numerical Analysis\\Python\\projects-2023-andershuus_christianfogel\\inauguralproject\\HouseholdSpecializationModel.py:65: RuntimeWarning: divide by zero encountered in reciprocal\n",
      "  par.alpha*HF**((par.sigma-1)/par.sigma))**(par.sigma/(par.sigma-1))\n"
     ]
    },
    {
     "name": "stdout",
     "output_type": "stream",
     "text": [
      "Table of HF/HM values:\n",
      "Alpha/Sigma     0.50    1.00    1.50\n",
      "----------------------------------------\n",
      "      0.25 |    0.55    0.31    0.21\n",
      "      0.50 |    1.00    1.00    1.00\n",
      "      0.75 |    1.83    3.25    4.67\n"
     ]
    }
   ],
   "source": [
    "#We import the model above. For a start we get the solution. \n",
    "\n",
    "#Based on consumer problem in lecture 6. We are looping over the answers\n",
    "def print_table():\n",
    "    \"\"\"this function defines a table that plots the values of HF/HM\n",
    "    for the specified values of alpha and sigma\"\"\"\n",
    "    \n",
    "    # a. empty text\n",
    "    text = ''\n",
    "    \n",
    "    text += f'{\"Alpha/Sigma\":<7s}{\"\":1s}'\n",
    "\n",
    "    # b. top header\n",
    "    for sigma in np.linspace(0.5,1.5,3):\n",
    "       hsm.par.sigma=sigma\n",
    "       text += f'{sigma:8.2f}' #have sigma as the column-values\n",
    "    text += '\\n' + '-'*40 + '\\n' # we add horizontal separator\n",
    "    \n",
    "    # c. body\n",
    "    for i,alpha in enumerate(np.linspace(0.25,0.75,3)):\n",
    "        hsm.par.alpha=alpha\n",
    "        #tilføjer det her for at skippe det første linjeskift, ellers så kommer der en tom linje som den første række i tabellen. \n",
    "        if i > 0: \n",
    "            text += '\\n'\n",
    "        text += f'{alpha:10.2f} |' #alpha as row-values and with a vertical separator\n",
    "        for sigma in np.linspace(0.5,1.5,3): \n",
    "            hsm.par.sigma=sigma\n",
    "            dsol = hsm.solve_discrete() #call the solve function\n",
    "            text += f'{dsol.HF_HM:8.2f}' #plot values \n",
    "          \n",
    "    \n",
    "    # d. print\n",
    "    print(f\"Table of HF/HM values:\\n{text}\")\n",
    "\n",
    "print_table()"
   ]
  },
  {
   "cell_type": "markdown",
   "metadata": {},
   "source": [
    "# Question 2"
   ]
  },
  {
   "cell_type": "markdown",
   "metadata": {},
   "source": [
    "Explain your code and procedure"
   ]
  },
  {
   "cell_type": "code",
   "execution_count": 6,
   "metadata": {},
   "outputs": [
    {
     "data": {
      "image/png": "[encoded data removed]",
      "text/plain": [
       "<Figure size 640x480 with 1 Axes>"
      ]
     },
     "metadata": {},
     "output_type": "display_data"
    }
   ],
   "source": [
    "# a. create the figure\n",
    "fig = plt.figure() #first we create a figure object by initializing the plt.figure\n",
    "\n",
    "# b. plot\n",
    "ax = fig.add_subplot(1,1,1) \n",
    "#we only add one subplot so the ax is basically the entire figure.\n",
    "#(1,1,1) specifies that we want 1 row and 1 column, \n",
    "#and the figure has the index 1 (is placed as the first (and in this case only) graph)\n",
    "\n",
    "#ax.plot does a lineplot with x1_vec as our x-variable and u_vec as our y-variable\n",
    "ax.plot(hsm.par.log_wF_vec_wM,hsm.solve_wF_vec(discrete=True)) \n",
    "\n",
    "\n",
    "ax.set_title('log $H_F/H_M$ plottet against log $w_F/w_M$') #set title\n",
    "ax.set_xlabel('log $w_F/w_M$') #set label for x-axis\n",
    "ax.set_ylabel('log $H_F/H_M$'); #set label for y-axis\n",
    "#note matplotlib understands latex math;"
   ]
  },
  {
   "cell_type": "markdown",
   "metadata": {},
   "source": [
    "# Question 3"
   ]
  },
  {
   "cell_type": "markdown",
   "metadata": {},
   "source": [
    "Explain your code and procedure"
   ]
  },
  {
   "cell_type": "code",
   "execution_count": 25,
   "metadata": {},
   "outputs": [
    {
     "ename": "AttributeError",
     "evalue": "'function' object has no attribute 'LM_vec_cont'",
     "output_type": "error",
     "traceback": [
      "\u001b[1;31m---------------------------------------------------------------------------\u001b[0m",
      "\u001b[1;31mAttributeError\u001b[0m                            Traceback (most recent call last)",
      "\u001b[1;32m~\\AppData\\Local\\Temp\\ipykernel_27276\\1187432822.py\u001b[0m in \u001b[0;36m<module>\u001b[1;34m\u001b[0m\n\u001b[0;32m      6\u001b[0m \u001b[1;31m#3. Does it match the one above?\u001b[0m\u001b[1;33m\u001b[0m\u001b[1;33m\u001b[0m\u001b[0m\n\u001b[0;32m      7\u001b[0m \u001b[0mcsol\u001b[0m\u001b[1;33m=\u001b[0m\u001b[0mhsm\u001b[0m\u001b[1;33m.\u001b[0m\u001b[0msolve_continously\u001b[0m\u001b[1;33m\u001b[0m\u001b[1;33m\u001b[0m\u001b[0m\n\u001b[1;32m----> 8\u001b[1;33m \u001b[0mprint\u001b[0m\u001b[1;33m(\u001b[0m\u001b[0mcsol\u001b[0m\u001b[1;33m.\u001b[0m\u001b[0mLM_vec_cont\u001b[0m\u001b[1;33m)\u001b[0m\u001b[1;33m\u001b[0m\u001b[1;33m\u001b[0m\u001b[0m\n\u001b[0m\u001b[0;32m      9\u001b[0m \u001b[1;33m\u001b[0m\u001b[0m\n",
      "\u001b[1;31mAttributeError\u001b[0m: 'function' object has no attribute 'LM_vec_cont'"
     ]
    }
   ],
   "source": [
    "# We cannot use the same procedure. Simply to many options. \n",
    "\n",
    "\n",
    "#Missing \n",
    "#2. Get a result\n",
    "#3. Does it match the one above?\n",
    "csol=hsm.solve_continously\n",
    "fig = plt.figure()\n",
    "cx = fig.add_subplot(1,1,1) \n",
    "cx.plot(hsm.par.log_wF_vec_wM,hsm.solve_continously) \n",
    "\n",
    "\n",
    "\n",
    "\n"
   ]
  },
  {
   "cell_type": "markdown",
   "metadata": {},
   "source": [
    "ADD CONCISE CONLUSION."
   ]
  }
 ],
 "metadata": {
  "kernelspec": {
   "display_name": "base",
   "language": "python",
   "name": "python3"
  },
  "language_info": {
   "codemirror_mode": {
    "name": "ipython",
    "version": 3
   },
   "file_extension": ".py",
   "mimetype": "text/x-python",
   "name": "python",
   "nbconvert_exporter": "python",
   "pygments_lexer": "ipython3",
   "version": "3.9.16"
  },
  "toc-autonumbering": true,
  "vscode": {
   "interpreter": {
    "hash": "47ef90cdf3004d3f859f1fb202523c65c07ba7c22eefd261b181f4744e2d0403"
   }
  }
 },
 "nbformat": 4,
 "nbformat_minor": 4
}
