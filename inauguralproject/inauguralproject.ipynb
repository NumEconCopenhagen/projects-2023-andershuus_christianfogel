{
 "cells": [
  {
   "cell_type": "markdown",
   "metadata": {},
   "source": [
    "# Inaugural Project"
   ]
  },
  {
   "attachments": {},
   "cell_type": "markdown",
   "metadata": {},
   "source": [
    "Imports packages and our Python file:"
   ]
  },
  {
   "cell_type": "code",
   "execution_count": 2,
   "metadata": {},
   "outputs": [],
   "source": [
    "#Import different packages\n",
    "\n",
    "import numpy as np\n",
    "import matplotlib.pyplot as plt \n",
    "\n",
    "\n",
    "# Autoreload of our model \n",
    "%load_ext autoreload\n",
    "%autoreload 2\n",
    "\n",
    "# Import our code\n",
    "import HouseholdSpecializationModel as model\n",
    "\n",
    "# Initialize class\n",
    "hsm = model.HouseholdSpecializationModelClass()\n",
    "\n",
    "#Defining beta\n",
    "beta = '\\u03B2'"
   ]
  },
  {
   "cell_type": "markdown",
   "metadata": {},
   "source": [
    "# Question 1"
   ]
  },
  {
   "attachments": {},
   "cell_type": "markdown",
   "metadata": {},
   "source": [
    "We are printing a tabel with the results based on the HouseholdSpecilizationModel code"
   ]
  },
  {
   "cell_type": "code",
   "execution_count": 3,
   "metadata": {},
   "outputs": [
    {
     "name": "stderr",
     "output_type": "stream",
     "text": [
      "c:\\Users\\Ander\\OneDrive - University of Copenhagen\\Kandidat\\1. semester\\Introduction to Programming and Numerical Analysis\\Python\\projects-2023-andershuus_christianfogel\\inauguralproject\\HouseholdSpecializationModel.py:84: RuntimeWarning: divide by zero encountered in reciprocal\n",
      "  H= ((1-par.alpha)*HM**((par.sigma-1)/par.sigma)+\n",
      "c:\\Users\\Ander\\OneDrive - University of Copenhagen\\Kandidat\\1. semester\\Introduction to Programming and Numerical Analysis\\Python\\projects-2023-andershuus_christianfogel\\inauguralproject\\HouseholdSpecializationModel.py:85: RuntimeWarning: divide by zero encountered in reciprocal\n",
      "  par.alpha*HF**((par.sigma-1)/par.sigma))**(par.sigma/(par.sigma-1))\n"
     ]
    },
    {
     "name": "stdout",
     "output_type": "stream",
     "text": [
      "Table of HF/HM values:\n",
      "Alpha/Sigma     0.50    1.00    1.50\n",
      "----------------------------------------\n",
      "      0.25 |    0.55    0.31    0.21\n",
      "      0.50 |    1.00    1.00    1.00\n",
      "      0.75 |    1.83    3.25    4.67\n"
     ]
    }
   ],
   "source": [
    "#We are making a function to print a table with the values for HF/HM depending on alpha and sigma\n",
    "def print_table():\n",
    "    # a. empty text for a start\n",
    "    text = ''\n",
    "    \n",
    "    #Write alpha/Sigma in the corner of the code\n",
    "    text += f'{\"Alpha/Sigma\":<7s}{\"\":1s}'\n",
    "\n",
    "    # b. Making the sigma values as the column values. \n",
    "    for sigma in np.linspace(0.5,1.5,3):\n",
    "       hsm.par.sigma=sigma\n",
    "       text += f'{sigma:8.2f}'\n",
    "    text += '\\n' + '-'*40 + '\\n' # we add horizontal separator\n",
    "    \n",
    "    # c. Making the rows. \n",
    "    for i,alpha in enumerate(np.linspace(0.25,0.75,3)):\n",
    "        hsm.par.alpha=alpha \n",
    "        \n",
    "        #We need i>0 to avoid a blank row as the first row, so a layout fix. \n",
    "        if i > 0: \n",
    "            text += '\\n'\n",
    "        \n",
    "        #alpha as row-values and with a vertical separator\n",
    "        text += f'{alpha:10.2f} |' \n",
    "\n",
    "        #Plotting values of HF/HM\n",
    "        for sigma in np.linspace(0.5,1.5,3): \n",
    "            hsm.par.sigma=sigma\n",
    "            dsol = hsm.solve_discrete() #call the solve function\n",
    "            text += f'{dsol.HF_HM:8.2f}' #plot values \n",
    "    \n",
    "    #d. reset values of alpha and sigma. This is necessary to avoid problems later in the following questions. \n",
    "    hsm.par.alpha = 0.5\n",
    "    hsm.par.sigma = 1.0\n",
    "    \n",
    "    # e. Printing the table\n",
    "    print(f\"Table of HF/HM values:\\n{text}\")\n",
    "\n",
    "print_table()"
   ]
  },
  {
   "attachments": {},
   "cell_type": "markdown",
   "metadata": {},
   "source": [
    "Higher productive for women will lead to women are working more in the home. \n",
    "\n",
    "The most productive side in the home will have relative more work in the home for a higher \n",
    "degree of substitution. "
   ]
  },
  {
   "cell_type": "markdown",
   "metadata": {},
   "source": [
    "# Question 2"
   ]
  },
  {
   "attachments": {},
   "cell_type": "markdown",
   "metadata": {},
   "source": [
    "We are using our code from the HouseholdSpecializationModel and printing results."
   ]
  },
  {
   "cell_type": "code",
   "execution_count": 4,
   "metadata": {},
   "outputs": [
    {
     "data": {
      "image/png": "[encoded data removed]",
      "text/plain": [
       "<Figure size 640x480 with 1 Axes>"
      ]
     },
     "metadata": {},
     "output_type": "display_data"
    }
   ],
   "source": [
    "# a. First we create a figure object by initializing the plt.figure\n",
    "fig = plt.figure() \n",
    "\n",
    "# b. We only add one subplot so the ax is basically the entire figure.\n",
    "ax = fig.add_subplot(1,1,1) \n",
    "\n",
    "\n",
    "ax.plot(np.log(hsm.par.wF_vec),hsm.solve_wF_vec(discrete=True)) \n",
    "#x-axis: we plot log(wF_vec), since wM is fixed at 1 (i.e. a numeraire)\n",
    "#Note: we only take the log here, so we don't need to store the log values\n",
    "#y-axis: We call the solve_wF_vec method from our class directly as the returns the value. \n",
    "#Note: Here we call the discrete solving method, where the continuous will be implemented in exercise 3. \n",
    "\n",
    "ax.set_title('log $H_F/H_M$ plotted against log $w_F/w_M$') #set title\n",
    "ax.set_xlabel('log $w_F/w_M$') #labelling x-axis\n",
    "ax.set_ylabel('log $H_F/H_M$'); #labelling y-axis"
   ]
  },
  {
   "attachments": {},
   "cell_type": "markdown",
   "metadata": {},
   "source": [
    "**Note:** We see that a higher relative for women does that the work more at home. \n",
    "\n",
    "If the wage is the same the hours in the home is the same. "
   ]
  },
  {
   "cell_type": "markdown",
   "metadata": {},
   "source": [
    "# Question 3"
   ]
  },
  {
   "attachments": {},
   "cell_type": "markdown",
   "metadata": {},
   "source": [
    "We are using the code for continuous as the hours are not longer discrete"
   ]
  },
  {
   "cell_type": "code",
   "execution_count": 5,
   "metadata": {},
   "outputs": [
    {
     "data": {
      "image/png": "[encoded data removed]",
      "text/plain": [
       "<Figure size 640x480 with 1 Axes>"
      ]
     },
     "metadata": {},
     "output_type": "display_data"
    }
   ],
   "source": [
    "# a. create the figure\n",
    "fig = plt.figure() \n",
    "#first we create a figure object by initializing the plt.figure\n",
    "\n",
    "# b. plot\n",
    "ax = fig.add_subplot(1,1,1) \n",
    "#we only add one subplot so the ax is basically the entire figure.\n",
    "\n",
    "ax.plot(np.log(hsm.par.wF_vec),hsm.solve_wF_vec(discrete=False)) \n",
    "#x-axis: we plot log(wF_vec), since wM is fixed at 1 (i.e. a numeraire)\n",
    "#y-axis: We call the solve_wF_vec method from our class directly as the returns the value. \n",
    "#We call discrete = False, because we want it to use the\n",
    "#continous solving method.\n",
    "\n",
    "ax.set_title('log $H_F/H_M$ plotted against log $w_F/w_M$') #set title\n",
    "ax.set_xlabel('log $w_F/w_M$') #labelling x-axis\n",
    "ax.set_ylabel('log $H_F/H_M$'); #labelling y-axis"
   ]
  },
  {
   "attachments": {},
   "cell_type": "markdown",
   "metadata": {},
   "source": [
    "**Note:** The result depends heavily on the initial guess. We have made an initial guess that men and women work \n",
    "6 hours at work and at home each. "
   ]
  },
  {
   "attachments": {},
   "cell_type": "markdown",
   "metadata": {},
   "source": [
    "# Question 4"
   ]
  },
  {
   "attachments": {},
   "cell_type": "markdown",
   "metadata": {},
   "source": [
    "We are solving this question by looping over different values for alpha and sigma, \n",
    "and then returning the minimum value for the target function"
   ]
  },
  {
   "cell_type": "code",
   "execution_count": 6,
   "metadata": {},
   "outputs": [],
   "source": [
    "#Setting the initial best for the target score.\n",
    "target_best=10**6\n",
    "#Setting initial values for alpha and sigma. \n",
    "alpha_best=0\n",
    "sigma_best=0\n",
    "\n",
    "#Making variables for beta\n",
    "beta0_best=0\n",
    "beta1_best=1\n",
    "\n",
    "#Making initial vector for our results. \n",
    "log_HF_HM_best=np.zeros(hsm.par.wF_vec.size)\n",
    "\n",
    "#Making a loop over alpha and sigma. We use a narrow interval in order to save time. \n",
    "for i, alpha in enumerate(np.linspace(0.5,1.0,30)):\n",
    "    hsm.par.alpha=alpha\n",
    "    for j, sigma in enumerate(np.linspace(0.0,1,30)): \n",
    "        hsm.par.sigma=sigma\n",
    "\n",
    "        #Running the regression defined. \n",
    "        hsm.run_regression()\n",
    "\n",
    "        #Calculating the target\n",
    "        target_new=(hsm.par.beta0_target-hsm.opt.beta0)**2+(hsm.par.beta1_target-hsm.opt.beta1)**2\n",
    "\n",
    "        #Check if the new measure is better than the old\n",
    "        if target_new<target_best:\n",
    "            target_best=target_new\n",
    "            alpha_best=alpha\n",
    "            sigma_best=sigma\n",
    "            beta0_best=hsm.opt.beta0\n",
    "            beta1_best=hsm.opt.beta1\n",
    "            log_HF_HM_best=hsm.solve_wF_vec(discrete=False)\n",
    "\n",
    "        #Keeping the value if the new guess is not better. \n",
    "        else: \n",
    "            target_best=target_best\n",
    "            alpha_best=alpha_best\n",
    "            sigma_best=sigma_best\n",
    "            beta0_best=beta0_best\n",
    "            beta1_best=beta1_best\n",
    "            log_HF_HM_best=log_HF_HM_best\n",
    "\n",
    "\n",
    "#Resetting values\n",
    "hsm.par.alpha=0.5\n",
    "hsm.par.sigma=1.0\n",
    "hsm.par.wF=1.0"
   ]
  },
  {
   "cell_type": "code",
   "execution_count": null,
   "metadata": {},
   "outputs": [],
   "source": [
    "#We are printing optimal values for alpha and sigma. \n",
    "print(f'Optimal value of alpha = {alpha_best:.2f}')\n",
    "print(f'Optimal value of sigma = {sigma_best:.2f}')\n",
    "print(f'Optimal value of {beta}_0 = {beta0_best:.2f}')\n",
    "print(f'Optimal value of {beta}_1 = {beta1_best:.2f}')\n",
    "print(f'Value of target function = {target_best:.2f}')\n"
   ]
  },
  {
   "cell_type": "code",
   "execution_count": null,
   "metadata": {},
   "outputs": [],
   "source": [
    "# a. create the figure\n",
    "fig = plt.figure() \n",
    "\n",
    "# b. plot\n",
    "ax = fig.add_subplot(1,1,1) \n",
    "\n",
    "\n",
    "ax.plot(np.log(hsm.par.wF_vec),hsm.par.beta0_target+hsm.par.beta1_target*np.log(hsm.par.wF_vec)) \n",
    "#x-axis: Same as in question 2 and 3\n",
    "#y-axis: We are plotting the function from the paper.\n",
    "\n",
    "ax.scatter(np.log(hsm.par.wF_vec),log_HF_HM_best) \n",
    "#We are making our vector as a scatter plot to compare the results. \n",
    "\n",
    "ax.set_title('log $H_F/H_M$ plottet against log $w_F/w_M$') #set title\n",
    "ax.set_xlabel('log $w_F/w_M$') #set label for x-axis\n",
    "ax.set_ylabel('log $H_F/H_M$'); #set label for y-axis"
   ]
  },
  {
   "attachments": {},
   "cell_type": "markdown",
   "metadata": {},
   "source": [
    "We can see our estimates are fairly in line with the empirical paper. Interestingly in order to get this, \n",
    "we get a value of alpha equal to 0.97. Which suggest that women are 32 times more productive at home than men. \n",
    "Further, we get a low elasticity of substitution. One option could therefore be that our model have left out\n",
    "important factors. \n",
    "\n",
    "The low degree of substitution is also the reason for a flat slope compared to exercise 2 and 3\n",
    "as it more difficult for households to react on changes in the relative wages. "
   ]
  },
  {
   "cell_type": "markdown",
   "metadata": {},
   "source": [
    "# Question 5"
   ]
  },
  {
   "attachments": {},
   "cell_type": "markdown",
   "metadata": {},
   "source": [
    "We are first assuming that alpha is equal to 1/2. Then we are checking whether this are fitting with the data or not. The first part is therefore a simplication of question 4, and therefore explaninations can be found in question 4\n",
    "\n",
    "After this we make an extension of the model"
   ]
  },
  {
   "cell_type": "code",
   "execution_count": null,
   "metadata": {},
   "outputs": [],
   "source": [
    "\n",
    "target_best_5=10**6\n",
    "\n",
    "alpha_best_5=0\n",
    "sigma_best_5=0\n",
    "\n",
    "\n",
    "beta0_best_5=0\n",
    "beta1_best_5=1\n",
    "\n",
    "log_HF_HM_best_5=np.zeros(hsm.par.wF_vec.size)\n",
    "\n",
    "for j, sigma in enumerate(np.linspace(0.0,1.5,100)): \n",
    "    hsm.par.sigma=sigma\n",
    "    hsm.run_regression()\n",
    "    target_new_5=(hsm.par.beta0_target-hsm.opt.beta0)**2+(hsm.par.beta1_target-hsm.opt.beta1)**2\n",
    "    if target_new_5<target_best_5:\n",
    "        target_best_5=target_new_5\n",
    "        sigma_best_5=sigma\n",
    "        log_HF_HM_best_5=hsm.solve_wF_vec(discrete=False)\n",
    "        beta0_best_5=hsm.opt.beta0\n",
    "        beta1_best_5=hsm.opt.beta1\n",
    "            \n",
    "    else: \n",
    "        target_best_5=target_best_5\n",
    "        sigma_best_5=sigma_best_5\n",
    "        log_HF_HM_best_5=log_HF_HM_best_5\n",
    "        beta0_best_5=beta0_best_5\n",
    "        beta1_best_5=beta1_best_5\n",
    "\n",
    "#Returning values\n",
    "hsm.par.sigma=1.0\n",
    "hsm.par.wF=1.0"
   ]
  },
  {
   "cell_type": "code",
   "execution_count": null,
   "metadata": {},
   "outputs": [],
   "source": [
    "# a. create the figure\n",
    "fig = plt.figure() \n",
    "#first we create a figure object by initializing the plt.figure\n",
    "\n",
    "# b. plot\n",
    "ax = fig.add_subplot(1,1,1) \n",
    "#we only add one subplot so the ax is basically the entire figure.\n",
    "\n",
    "ax.plot(np.log(hsm.par.wF_vec),hsm.par.beta0_target+hsm.par.beta1_target*np.log(hsm.par.wF_vec))\n",
    "ax.scatter(np.log(hsm.par.wF_vec),log_HF_HM_best_5) \n",
    "\n",
    "\n",
    "ax.set_title('log $H_F/H_M$ plottet against log $w_F/w_M$') #set title\n",
    "ax.set_xlabel('log $w_F/w_M$') #set label for x-axis\n",
    "ax.set_ylabel('log $H_F/H_M$'); #set label for y-axis"
   ]
  },
  {
   "attachments": {},
   "cell_type": "markdown",
   "metadata": {},
   "source": [
    "If alpha is assumed to be 0.5, then we assume that productivity for working at home is the same for both men and women. If the productivity is different, which question 4 suggest, then this assumption will result in a poorer fit, because in question 4 we find that women are more productive than men, since alpha was 0.9.\n",
    "\n",
    "However, it could also be that the productivity is the same, but the model is misspecified. One reason could be expectations for the society that the woman is expected to work more at home than the man. This is not taken care off in our model"
   ]
  }
 ],
 "metadata": {
  "kernelspec": {
   "display_name": "base",
   "language": "python",
   "name": "python3"
  },
  "language_info": {
   "codemirror_mode": {
    "name": "ipython",
    "version": 3
   },
   "file_extension": ".py",
   "mimetype": "text/x-python",
   "name": "python",
   "nbconvert_exporter": "python",
   "pygments_lexer": "ipython3",
   "version": "3.9.16"
  },
  "toc-autonumbering": true,
  "vscode": {
   "interpreter": {
    "hash": "47ef90cdf3004d3f859f1fb202523c65c07ba7c22eefd261b181f4744e2d0403"
   }
  }
 },
 "nbformat": 4,
 "nbformat_minor": 4
}
